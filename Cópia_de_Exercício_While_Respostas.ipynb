{
  "cells": [
    {
      "cell_type": "markdown",
      "metadata": {
        "id": "view-in-github",
        "colab_type": "text"
      },
      "source": [
        "<a href=\"https://colab.research.google.com/github/jcleachi/devweekgit.github.io/blob/main/C%C3%B3pia_de_Exerc%C3%ADcio_While_Respostas.ipynb\" target=\"_parent\"><img src=\"https://colab.research.google.com/assets/colab-badge.svg\" alt=\"Open In Colab\"/></a>"
      ]
    },
    {
      "cell_type": "markdown",
      "id": "a55a1c33-9a5a-4214-b4fb-567fc561fa60",
      "metadata": {
        "tags": [],
        "id": "a55a1c33-9a5a-4214-b4fb-567fc561fa60"
      },
      "source": [
        "# <font color='OrangeRed'><center>Exercícios - While</center></font>"
      ]
    },
    {
      "cell_type": "markdown",
      "id": "a7afefee-53de-44b4-b9b5-4572861f6960",
      "metadata": {
        "id": "a7afefee-53de-44b4-b9b5-4572861f6960"
      },
      "source": [
        "### Exercício 01\n",
        "\n",
        "Crie um contador com o valor 10 e faça um loop while onde a cada iteração do loop seja incrementando +1 a variável, enquanto o valor da variável for menor ou igual a 20 continue executando."
      ]
    },
    {
      "cell_type": "code",
      "execution_count": null,
      "id": "0a96d5a9-a863-4790-b8c3-0e4c2ba925b2",
      "metadata": {
        "id": "0a96d5a9-a863-4790-b8c3-0e4c2ba925b2"
      },
      "outputs": [],
      "source": [
        "contador = 10\n",
        "\n",
        "while contador <= 20:\n",
        "\n",
        "    print(f'O valor atual do contador é: {contador}')\n",
        "    contador = contador +1\n",
        "\n",
        "print('Fim')"
      ]
    },
    {
      "cell_type": "markdown",
      "id": "e50652d8-3a09-4046-b286-e6cd4b2c0b32",
      "metadata": {
        "id": "e50652d8-3a09-4046-b286-e6cd4b2c0b32"
      },
      "source": [
        "---"
      ]
    },
    {
      "cell_type": "markdown",
      "id": "2fd35e37-3b7e-49f2-acbe-c818da01e2d9",
      "metadata": {
        "id": "2fd35e37-3b7e-49f2-acbe-c818da01e2d9"
      },
      "source": [
        "### Exercício 02\n",
        "\n",
        "Crie uma variável com o valor '' (vazio) e faça um loop while onde a cada iteração pergunte ao usuário se ele deseja continuar no loop, enquanto o usuário não digitar a palavra 'não' continue executando o loop."
      ]
    },
    {
      "cell_type": "code",
      "execution_count": null,
      "id": "a2db5c33-42bd-4f4d-a9c8-ce339e4df672",
      "metadata": {
        "id": "a2db5c33-42bd-4f4d-a9c8-ce339e4df672"
      },
      "outputs": [],
      "source": [
        "pergunta = ''\n",
        "\n",
        "while pergunta != 'não':\n",
        "\n",
        "    pergunta = input('Você deseja continuar no loop:')\n",
        "\n",
        "print()\n",
        "print('Fim')\n"
      ]
    },
    {
      "cell_type": "markdown",
      "id": "e620440b-cc5e-405f-99af-95232020dac2",
      "metadata": {
        "id": "e620440b-cc5e-405f-99af-95232020dac2"
      },
      "source": [
        "---"
      ]
    },
    {
      "cell_type": "markdown",
      "id": "9bafa94b-0f3a-48c8-9ee2-40aba2a10143",
      "metadata": {
        "id": "9bafa94b-0f3a-48c8-9ee2-40aba2a10143"
      },
      "source": [
        "### Exercício 03\n",
        "\n",
        "Crie um contador com o valor 0 e faça um loop while onde a cada iteração seja incrementando +5 a variável, enquanto o valor da variável for menor ou igual a 50 continue executando."
      ]
    },
    {
      "cell_type": "code",
      "execution_count": null,
      "id": "63793dfc-e3a1-4f25-9764-e0d2b9730946",
      "metadata": {
        "id": "63793dfc-e3a1-4f25-9764-e0d2b9730946"
      },
      "outputs": [],
      "source": [
        "x = 0\n",
        "\n",
        "while x <= 50:\n",
        "\n",
        "    print(f'O valor atual do contador é: {x}')\n",
        "    x = x + 5\n",
        "\n",
        "print()\n",
        "print('Fim')"
      ]
    },
    {
      "cell_type": "markdown",
      "id": "5a0d5e75-16d6-4513-964c-62ca1e32b479",
      "metadata": {
        "id": "5a0d5e75-16d6-4513-964c-62ca1e32b479"
      },
      "source": [
        "---"
      ]
    },
    {
      "cell_type": "markdown",
      "id": "9a1da876-a633-43d1-9d71-3d9335a6e0ed",
      "metadata": {
        "id": "9a1da876-a633-43d1-9d71-3d9335a6e0ed"
      },
      "source": [
        "### Exercício 04\n",
        "\n",
        "Crie uma variável com o valor '' e utilizando uma estrutura de repetição while, faça programa que peça para o usuário digitar uma **vogal** e enquanto o usuário não digitar uma vogal continue executando o código."
      ]
    },
    {
      "cell_type": "code",
      "execution_count": null,
      "id": "184e174b-3ef0-414c-901f-4c1f447cb770",
      "metadata": {
        "id": "184e174b-3ef0-414c-901f-4c1f447cb770"
      },
      "outputs": [],
      "source": [
        "vogal = ''\n",
        "\n",
        "while vogal != 'a' and vogal != 'e' and vogal != 'i' and vogal != 'o' and vogal != 'u':\n",
        "\n",
        "    vogal = input('Digite uma vogal: ')\n",
        "\n",
        "print()\n",
        "print('Fim')"
      ]
    },
    {
      "cell_type": "code",
      "execution_count": null,
      "id": "f504e5fe-3776-4fd3-9b33-327ce0657832",
      "metadata": {
        "id": "f504e5fe-3776-4fd3-9b33-327ce0657832"
      },
      "outputs": [],
      "source": [
        "vogal = ''\n",
        "\n",
        "while vogal not in ['a','e','i','o','u']:\n",
        "\n",
        "    vogal = input('Digite uma vogal: ')\n",
        "\n",
        "print()\n",
        "print('Fim')"
      ]
    },
    {
      "cell_type": "code",
      "execution_count": null,
      "id": "66a4d8da-3d17-40ee-abaa-b9f76a1e48e6",
      "metadata": {
        "id": "66a4d8da-3d17-40ee-abaa-b9f76a1e48e6"
      },
      "outputs": [],
      "source": [
        "vogal = ''\n",
        "\n",
        "vogais = ['a','e','i','o','u']\n",
        "\n",
        "while vogal not in vogais:\n",
        "\n",
        "    vogal = input('Digite uma vogal: ')\n",
        "\n",
        "print()\n",
        "print('Fim')"
      ]
    },
    {
      "cell_type": "markdown",
      "id": "a6deec0a-e737-4a96-9d15-76fbc5216253",
      "metadata": {
        "id": "a6deec0a-e737-4a96-9d15-76fbc5216253"
      },
      "source": [
        "---"
      ]
    },
    {
      "cell_type": "markdown",
      "id": "2f31bd8e-f02e-4630-a7f4-2c296ea6a2c4",
      "metadata": {
        "id": "2f31bd8e-f02e-4630-a7f4-2c296ea6a2c4"
      },
      "source": [
        "### Exercício 05\n",
        "\n",
        "Crie uma variável com o valor 1 e faça um loop while pedindo para o usuário inserir um número inteiro e enquanto o usuário não inserir um valor **divisível por 3** continue executando o código."
      ]
    },
    {
      "cell_type": "code",
      "execution_count": null,
      "id": "917e7b34-bc31-4556-8be9-d49d558e874f",
      "metadata": {
        "id": "917e7b34-bc31-4556-8be9-d49d558e874f"
      },
      "outputs": [],
      "source": [
        "y = 1\n",
        "\n",
        "while y % 3 != 0:\n",
        "\n",
        "    y = int(input('Digite um número inteiro: '))\n",
        "\n",
        "print()\n",
        "print('Fim')"
      ]
    },
    {
      "cell_type": "code",
      "execution_count": null,
      "id": "4695cecc-b2d4-4e21-8927-7d2132957956",
      "metadata": {
        "tags": [],
        "id": "4695cecc-b2d4-4e21-8927-7d2132957956"
      },
      "outputs": [],
      "source": [
        "modulo = 1\n",
        "\n",
        "while modulo != 0:\n",
        "\n",
        "    y = int(input('Digite um número inteiro: '))\n",
        "\n",
        "    modulo = y % 3\n",
        "\n",
        "print()\n",
        "print('Fim')"
      ]
    },
    {
      "cell_type": "markdown",
      "id": "c174efc7-c12d-4173-b77f-e05c28d3cd52",
      "metadata": {
        "id": "c174efc7-c12d-4173-b77f-e05c28d3cd52"
      },
      "source": [
        "---"
      ]
    },
    {
      "cell_type": "markdown",
      "id": "7426b6c3-b5f5-450e-9cfe-7c99974038ff",
      "metadata": {
        "id": "7426b6c3-b5f5-450e-9cfe-7c99974038ff"
      },
      "source": [
        "### Exercício 06\n",
        "\n",
        "Crie um contador com o valor 0 e faça um loop while pedindo para o usuário inserir um número inteiro e enquanto o usuário não inserir um valor **menor que 10 OU maior que 20** continue executando o código."
      ]
    },
    {
      "cell_type": "code",
      "execution_count": null,
      "id": "61ae61e0-7c11-4f43-bf3d-d89a74d11407",
      "metadata": {
        "id": "61ae61e0-7c11-4f43-bf3d-d89a74d11407"
      },
      "outputs": [],
      "source": [
        "n = 0\n",
        "\n",
        "while n < 10 or n > 20:\n",
        "\n",
        "    n = int(input('Digite um número: '))\n",
        "\n",
        "print()\n",
        "print('Fim!')"
      ]
    },
    {
      "cell_type": "markdown",
      "id": "b91fca52-ea24-474a-a953-c1f7d6ff622d",
      "metadata": {
        "id": "b91fca52-ea24-474a-a953-c1f7d6ff622d"
      },
      "source": [
        "---"
      ]
    },
    {
      "cell_type": "markdown",
      "id": "8cded626-7d89-44a8-b5ba-9907722b6da1",
      "metadata": {
        "id": "8cded626-7d89-44a8-b5ba-9907722b6da1"
      },
      "source": [
        "### Exercício 07\n",
        "\n",
        "Crie uma variável com o valor '' e utilizando uma estrutura de repetição while, faça programa que peça para o usuário **'digitar a senha do programa'** e enquanto o usuário não digitar a palavra **'segredo'** continue executando o código."
      ]
    },
    {
      "cell_type": "code",
      "execution_count": null,
      "id": "a0aa84ff-cdc8-4944-94cd-586e7d589e8a",
      "metadata": {
        "id": "a0aa84ff-cdc8-4944-94cd-586e7d589e8a"
      },
      "outputs": [],
      "source": [
        "x = ''\n",
        "\n",
        "while x != 'segredo':\n",
        "\n",
        "    x = input('Digite a senha do programa: ')\n",
        "\n",
        "print()\n",
        "print('Fim!')"
      ]
    },
    {
      "cell_type": "markdown",
      "id": "a9edd058-80ac-4172-9539-c16f6ebefbd2",
      "metadata": {
        "id": "a9edd058-80ac-4172-9539-c16f6ebefbd2"
      },
      "source": [
        "---"
      ]
    },
    {
      "cell_type": "markdown",
      "id": "2731e88d-620b-4881-8b43-419ffe35e443",
      "metadata": {
        "id": "2731e88d-620b-4881-8b43-419ffe35e443"
      },
      "source": [
        "### Exercício 08\n",
        "\n",
        "Crie um contador com o valor 0 e utilizando uma estrutura de repetição while crie um programa que imprima 5 vezes a frase **'Programação em Python'**.\n",
        "\n",
        "**Dica:**  \n",
        "_Utilize um contador_"
      ]
    },
    {
      "cell_type": "code",
      "execution_count": null,
      "id": "e8ab5ad4-f3f7-43f0-a808-464b59c20726",
      "metadata": {
        "id": "e8ab5ad4-f3f7-43f0-a808-464b59c20726"
      },
      "outputs": [],
      "source": [
        "c = 0\n",
        "\n",
        "while c < 5:\n",
        "\n",
        "    print('Programação em Python')\n",
        "    c = c + 1\n",
        "\n",
        "print()\n",
        "print(f'Fim')"
      ]
    },
    {
      "cell_type": "markdown",
      "id": "da3fa10e-b2d2-4439-a151-58ebecdf91bd",
      "metadata": {
        "id": "da3fa10e-b2d2-4439-a151-58ebecdf91bd"
      },
      "source": [
        "---"
      ]
    },
    {
      "cell_type": "markdown",
      "id": "1586e09e-4614-488b-8d33-5dc8d5cc4588",
      "metadata": {
        "tags": [],
        "id": "1586e09e-4614-488b-8d33-5dc8d5cc4588"
      },
      "source": [
        "### Exercício 09\n",
        "\n",
        "Crie duas variáveis, sendo uma lista vazia [] e um contador com valor 0, e em seguida faça um loop while onde cada iteração pergunte **'qual fruta o usuário deseja adicionar a lista'**, enquanto a lista não tiver 5 frutas continue executando o código.  \n",
        "\n",
        "Após o fim do loop imprima os itens da lista.  \n",
        "\n",
        "**Dica:**  \n",
        "_Utilize um contador_"
      ]
    },
    {
      "cell_type": "code",
      "execution_count": null,
      "id": "7abaac3b-e63c-4438-beb5-efb0e02ba727",
      "metadata": {
        "tags": [],
        "id": "7abaac3b-e63c-4438-beb5-efb0e02ba727"
      },
      "outputs": [],
      "source": [
        "lista = []\n",
        "x = 0\n",
        "\n",
        "while x < 5:\n",
        "\n",
        "    fruta = input('Qual fruta você deseja adicionar na lista: ')\n",
        "\n",
        "    lista.append(fruta)\n",
        "    x = x + 1\n",
        "\n",
        "print()\n",
        "print(lista)"
      ]
    },
    {
      "cell_type": "markdown",
      "id": "7aee4a32-8157-45a4-adb9-e519f941f353",
      "metadata": {
        "id": "7aee4a32-8157-45a4-adb9-e519f941f353"
      },
      "source": [
        "---"
      ]
    },
    {
      "cell_type": "markdown",
      "id": "c423400e-5e2a-426d-86ed-5e29f6d351b9",
      "metadata": {
        "id": "c423400e-5e2a-426d-86ed-5e29f6d351b9"
      },
      "source": [
        "### Exercício 10\n",
        "\n",
        "Crie uma variável com o valor 0 e faça um loop while pedindo para o usuário inserir um número inteiro e enquanto o usuário inserir um valor **maior ou igual a zero** continue executando o código."
      ]
    },
    {
      "cell_type": "code",
      "execution_count": null,
      "id": "5ef50124-40eb-43bd-8235-55d450ee0b5b",
      "metadata": {
        "id": "5ef50124-40eb-43bd-8235-55d450ee0b5b"
      },
      "outputs": [],
      "source": [
        "n = 0\n",
        "\n",
        "while n >= 0:\n",
        "\n",
        "    n = int(input('Digite um número inteiro: '))\n",
        "\n",
        "print()\n",
        "print('Fim!')"
      ]
    },
    {
      "cell_type": "markdown",
      "id": "e3a6c527-ccfc-457c-9400-002802de044b",
      "metadata": {
        "id": "e3a6c527-ccfc-457c-9400-002802de044b"
      },
      "source": [
        "---"
      ]
    },
    {
      "cell_type": "markdown",
      "id": "16d3fc53-96a9-4edf-8688-c23a60ab67ab",
      "metadata": {
        "id": "16d3fc53-96a9-4edf-8688-c23a60ab67ab"
      },
      "source": [
        "### Exercício 11\n",
        "\n",
        "Crie uma variável com o valor '' e utilizando uma estrutura de repetição while, faça programa que peça para o usuário **'Digitar uma palavra'** e enquanto o usuário digitar uma palavra com **menos que 6** caracteres continue executando o código."
      ]
    },
    {
      "cell_type": "code",
      "execution_count": null,
      "id": "38bb2a63-b5ee-49f5-ab8e-32ad0579a2e9",
      "metadata": {
        "id": "38bb2a63-b5ee-49f5-ab8e-32ad0579a2e9"
      },
      "outputs": [],
      "source": [
        "palavra = ''\n",
        "\n",
        "while len(palavra) < 6:\n",
        "\n",
        "    palavra = input('Digite uma nova palavra:')\n",
        "\n",
        "print()\n",
        "print('Fim!')"
      ]
    },
    {
      "cell_type": "markdown",
      "id": "b277f9bd-6c08-4376-84ce-2366ecfcdcc3",
      "metadata": {
        "id": "b277f9bd-6c08-4376-84ce-2366ecfcdcc3"
      },
      "source": [
        "---"
      ]
    },
    {
      "cell_type": "markdown",
      "id": "f9540547-db11-4bd1-8307-064b82f09c20",
      "metadata": {
        "id": "f9540547-db11-4bd1-8307-064b82f09c20"
      },
      "source": [
        "### Exercício 12\n",
        "\n",
        "Crie uma variável **total** com o valor igual a 0 e em seguida crie um laço while com o valor igual a True, exemplo:\n",
        "\n",
        "```python\n",
        "while True:\n",
        "```\n",
        "\n",
        "Dentro do laço peça para o usuário digitar um número inteiro, cada vez que o usuário digitar um número some o valor informado a variável **total**.\n",
        "\n",
        "Quando a variável **total** for **maior que 100**, então saia do laço (Break)"
      ]
    },
    {
      "cell_type": "code",
      "execution_count": null,
      "id": "422e0260-d6d9-4930-9601-b39d209a43fd",
      "metadata": {
        "tags": [],
        "id": "422e0260-d6d9-4930-9601-b39d209a43fd"
      },
      "outputs": [],
      "source": [
        "total = 0\n",
        "\n",
        "while True:\n",
        "\n",
        "    if total > 100:\n",
        "        break\n",
        "\n",
        "    n = int(input('Digite um número inteiro: '))\n",
        "\n",
        "    total = total + n\n",
        "\n",
        "    print(total)\n",
        "\n",
        "print()\n",
        "print('Fim!')"
      ]
    },
    {
      "cell_type": "markdown",
      "id": "d2f352c3-9a73-4042-986a-2710abbebf85",
      "metadata": {
        "id": "d2f352c3-9a73-4042-986a-2710abbebf85"
      },
      "source": [
        "---"
      ]
    }
  ],
  "metadata": {
    "kernelspec": {
      "display_name": "Python 3 (ipykernel)",
      "language": "python",
      "name": "python3"
    },
    "language_info": {
      "codemirror_mode": {
        "name": "ipython",
        "version": 3
      },
      "file_extension": ".py",
      "mimetype": "text/x-python",
      "name": "python",
      "nbconvert_exporter": "python",
      "pygments_lexer": "ipython3",
      "version": "3.11.5"
    },
    "colab": {
      "provenance": [],
      "include_colab_link": true
    }
  },
  "nbformat": 4,
  "nbformat_minor": 5
}