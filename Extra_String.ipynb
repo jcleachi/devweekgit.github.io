{
  "cells": [
    {
      "cell_type": "markdown",
      "metadata": {
        "id": "view-in-github",
        "colab_type": "text"
      },
      "source": [
        "<a href=\"https://colab.research.google.com/github/jcleachi/devweekgit.github.io/blob/main/Extra_String.ipynb\" target=\"_parent\"><img src=\"https://colab.research.google.com/assets/colab-badge.svg\" alt=\"Open In Colab\"/></a>"
      ]
    },
    {
      "cell_type": "markdown",
      "id": "8423575c-e99d-4f19-bb0c-30c709d0581e",
      "metadata": {
        "id": "8423575c-e99d-4f19-bb0c-30c709d0581e"
      },
      "source": [
        "# <font color='OrangeRed'><center>Extra - String</center></font>"
      ]
    },
    {
      "cell_type": "markdown",
      "id": "56496ba3-b3f5-406c-b95a-451ba2fd1f00",
      "metadata": {
        "id": "56496ba3-b3f5-406c-b95a-451ba2fd1f00"
      },
      "source": [
        "### Exercício 01\n",
        "\n",
        "Faça um programa que peça um e-mail ao usuário para valiar se o ele digitou um e-mail do SENAI válido e em seguida crie a condicional abaixo:\n",
        "\n",
        "* Se o usuário digitou um e-mail válido retorne 'E-MAIL VÁLIDO'\n",
        "* Senão retorne 'E-MAIL INVÁLIDO'\n",
        "\n",
        "**Observação**  \n",
        "_Para o e-mail do SENAI ser considerado válido ele precisa terminar os caracteres **@senai.com.br**_"
      ]
    },
    {
      "cell_type": "code",
      "execution_count": null,
      "id": "f1e2c34f-6798-49ff-9cbe-3b8c30886491",
      "metadata": {
        "tags": [],
        "id": "f1e2c34f-6798-49ff-9cbe-3b8c30886491"
      },
      "outputs": [],
      "source": [
        "\n",
        "\n"
      ]
    },
    {
      "cell_type": "markdown",
      "id": "ba8af6dc-a616-491a-b28b-e05f05af2a3a",
      "metadata": {
        "id": "ba8af6dc-a616-491a-b28b-e05f05af2a3a"
      },
      "source": [
        "---"
      ]
    },
    {
      "cell_type": "markdown",
      "id": "47aedddf-26f5-482c-a6e6-5f80fb3556fd",
      "metadata": {
        "id": "47aedddf-26f5-482c-a6e6-5f80fb3556fd"
      },
      "source": [
        "### Exercício 02\n",
        "\n",
        "Faça um programa que peça uma senha ao usuário, a senha correta é **PASSWORD**, porém o programa deve permitir o acesso mesmo que o usuário escreva a senha variando entre caixa alta e caixa baixa, por exemplo:\n",
        "\n",
        "* PASSWORD - Correto\n",
        "* PASSword - Correto\n",
        "* password - Correto\n",
        "* Password - Correto\n",
        "* PassWord - Correto\n",
        "\n",
        "Em seguida crie a condicional abaixo:\n",
        "\n",
        "* Se o usuário escrever a senha correta retorne 'Acesso liberado!'\n",
        "* Senão retorne 'Senha incorreta, por favor tente novamente.'"
      ]
    },
    {
      "cell_type": "code",
      "execution_count": null,
      "id": "f0d69763-66d5-4911-938d-536cf7915aed",
      "metadata": {
        "id": "f0d69763-66d5-4911-938d-536cf7915aed"
      },
      "outputs": [],
      "source": [
        "\n",
        "\n"
      ]
    },
    {
      "cell_type": "markdown",
      "id": "f3cb629c-b1b0-40a4-ba78-437ce448724b",
      "metadata": {
        "id": "f3cb629c-b1b0-40a4-ba78-437ce448724b"
      },
      "source": [
        "---"
      ]
    },
    {
      "cell_type": "markdown",
      "id": "4dab8475-f2ca-47f6-aa39-cfcc62d3bcef",
      "metadata": {
        "id": "4dab8475-f2ca-47f6-aa39-cfcc62d3bcef"
      },
      "source": [
        "### Exercício 03\n",
        "\n",
        "O CPF é um documento feito pela Receita Federal e serve para identificar os contribuintes, atualmente ele possui a numeração com 11 dígitos.\n",
        "\n",
        "Crie um programa que peça para o usuario digitir o CPF dele e caso o valor digitado contenha menos do que 11 dígitos complete os dígitos faltantes com zero a esquerda, por exemplo:\n",
        "\n",
        "**CPF:**  \n",
        "_12345678_  \n",
        "**Retorne:**  \n",
        "_00012345678_\n",
        "\n",
        "Por fim, imprima o CPF do usuário com 11 dígitos."
      ]
    },
    {
      "cell_type": "code",
      "execution_count": null,
      "id": "f41ae54a-c611-4789-88a9-92fc63551134",
      "metadata": {
        "tags": [],
        "id": "f41ae54a-c611-4789-88a9-92fc63551134"
      },
      "outputs": [],
      "source": [
        "\n",
        "\n"
      ]
    },
    {
      "cell_type": "markdown",
      "id": "2862dfbf-b7cb-4c8c-8aa7-34ba01e74c53",
      "metadata": {
        "id": "2862dfbf-b7cb-4c8c-8aa7-34ba01e74c53"
      },
      "source": [
        "---"
      ]
    },
    {
      "cell_type": "markdown",
      "id": "6dbf619d-af87-4012-9885-789e40ce042e",
      "metadata": {
        "id": "6dbf619d-af87-4012-9885-789e40ce042e"
      },
      "source": [
        "### Exercício 04\n",
        "\n",
        "Faça um programa que peça um número para o usuário e em seguida crie uma validação para saber se o valor digitado é um número inteiro ou não, sendo:\n",
        "\n",
        "* Se o valor digitado for um número inteiro imprima 'O número digitado foi o {numero}.'\n",
        "* Senão retorne 'O valor digitado não é um número inteiro.'\n"
      ]
    },
    {
      "cell_type": "code",
      "execution_count": null,
      "id": "ab9c1cf8-6064-48e3-84c5-fc14da5f540d",
      "metadata": {
        "tags": [],
        "id": "ab9c1cf8-6064-48e3-84c5-fc14da5f540d"
      },
      "outputs": [],
      "source": [
        "\n",
        "\n"
      ]
    },
    {
      "cell_type": "markdown",
      "id": "9239c2b7-145e-4176-b729-d61810f780da",
      "metadata": {
        "id": "9239c2b7-145e-4176-b729-d61810f780da"
      },
      "source": [
        "---"
      ]
    },
    {
      "cell_type": "markdown",
      "id": "5fb7d12f-67f7-4b82-b244-a8d0747b6dd4",
      "metadata": {
        "tags": [],
        "id": "5fb7d12f-67f7-4b82-b244-a8d0747b6dd4"
      },
      "source": [
        "### Exercício 05\n",
        "\n",
        "Faça um programa que peça para o usuário criar uma nova senha, porém por questões de segurança a senha deve atender os requisitos abaixo:\n",
        "\n",
        "* A senha deve conter no mínimo 8 caracteres\n",
        "* Deve iniciar com letras, mas os demais caracteres podem ser letras ou números\n",
        "* A senha não pode conter espaços em branco\n",
        "\n",
        "Em seguida crie a condição abaixo:\n",
        "\n",
        "* Se a senha atender os requisitos acima retorne 'Nova senha cadastrada com sucesso!'\n",
        "* Senão retorne 'Sua senha não atende os requisitos.'"
      ]
    },
    {
      "cell_type": "code",
      "execution_count": null,
      "id": "67ca62db-190c-4deb-8aa8-5d534b05682b",
      "metadata": {
        "tags": [],
        "id": "67ca62db-190c-4deb-8aa8-5d534b05682b"
      },
      "outputs": [],
      "source": [
        "\n",
        "\n"
      ]
    },
    {
      "cell_type": "markdown",
      "id": "491a3e95-bbb7-4044-bc32-a1ac9f4d93fb",
      "metadata": {
        "id": "491a3e95-bbb7-4044-bc32-a1ac9f4d93fb"
      },
      "source": [
        "---"
      ]
    },
    {
      "cell_type": "markdown",
      "id": "12100321-d4cf-475c-8a55-e709f8fb2b1d",
      "metadata": {
        "id": "12100321-d4cf-475c-8a55-e709f8fb2b1d"
      },
      "source": [
        "### Exercício 06\n",
        "\n",
        "Faça um programa que peça para o usuário digitar um **número com ponto flutuante** e em seguida converta o caracter '.' - ponto - por ',' - vírgula -, por exemplo:\n",
        "\n",
        "**Antes**  \n",
        "_Valor da conta: R$20.50_\n",
        "\n",
        "**Depois**  \n",
        "_Valor da conta: R$20,50_"
      ]
    },
    {
      "cell_type": "code",
      "execution_count": null,
      "id": "3e7f7c38-0453-4c64-af47-39908c0ea2ef",
      "metadata": {
        "tags": [],
        "id": "3e7f7c38-0453-4c64-af47-39908c0ea2ef"
      },
      "outputs": [],
      "source": [
        "\n",
        "\n"
      ]
    },
    {
      "cell_type": "markdown",
      "id": "9fafa171-8be0-4d59-8d7f-9a5f19545469",
      "metadata": {
        "id": "9fafa171-8be0-4d59-8d7f-9a5f19545469"
      },
      "source": [
        "---"
      ]
    },
    {
      "cell_type": "markdown",
      "id": "9ad50e68-3567-47e6-9a5f-850a5159b1f2",
      "metadata": {
        "id": "9ad50e68-3567-47e6-9a5f-850a5159b1f2"
      },
      "source": [
        "### Exercício 07\n",
        "\n",
        "Faça um programa que peça para o usuário digitar qualquer entrada de texto e em seguida crie a condição abaixo:\n",
        "\n",
        "* Se os valores digitados forem apenas números retorne 'Foram digitados apenas NÚMEROS'\n",
        "* Se os valores digitados forem apenas letras retorne 'Foram digitados apenas LETRAS'\n",
        "* Se os valores digitados forem letras e números retorne 'Foram digitados LETRAS e NÚMEROS'\n",
        "* Senão retorne 'Valor não identificado'"
      ]
    },
    {
      "cell_type": "code",
      "execution_count": null,
      "id": "b2cf5275-67e3-4caa-b492-08d60c65892b",
      "metadata": {
        "tags": [],
        "id": "b2cf5275-67e3-4caa-b492-08d60c65892b"
      },
      "outputs": [],
      "source": [
        "\n",
        "\n"
      ]
    },
    {
      "cell_type": "markdown",
      "id": "48becb2e-b5b3-4319-89e1-052268624a3e",
      "metadata": {
        "id": "48becb2e-b5b3-4319-89e1-052268624a3e"
      },
      "source": [
        "---"
      ]
    },
    {
      "cell_type": "markdown",
      "id": "1804504d-faf5-4dbe-917d-8c23832233be",
      "metadata": {
        "id": "1804504d-faf5-4dbe-917d-8c23832233be"
      },
      "source": [
        "### Exercício 08\n",
        "\n",
        "Faça um programa que peça para o usuário digitar o RG dele incluindo os pontos e traço e em seguinda imprima o número do RG sem eles, por exemplo:\n",
        "\n",
        "**Entrada:**  \n",
        "_022.284.529-55_  \n",
        "\n",
        "**Saída:**  \n",
        "_02228452955_"
      ]
    },
    {
      "cell_type": "code",
      "execution_count": null,
      "id": "7cc907fa-9b5e-4ab0-8983-cb4bb83d17d8",
      "metadata": {
        "tags": [],
        "id": "7cc907fa-9b5e-4ab0-8983-cb4bb83d17d8"
      },
      "outputs": [],
      "source": [
        "\n",
        "\n"
      ]
    },
    {
      "cell_type": "markdown",
      "id": "f141de8d-af24-4b51-9ff3-63f4aa3ead6b",
      "metadata": {
        "id": "f141de8d-af24-4b51-9ff3-63f4aa3ead6b"
      },
      "source": [
        "---"
      ]
    },
    {
      "cell_type": "markdown",
      "id": "ea7dbd0c-4323-43aa-9f2c-556825f2ae28",
      "metadata": {
        "id": "ea7dbd0c-4323-43aa-9f2c-556825f2ae28"
      },
      "source": [
        "### Exercício 09\n",
        "\n",
        "Faça um programa para validar a senha digitada pelo usuário, a senha deve atender os requisitos abaixo:\n",
        "\n",
        "* Conter apenas números\n",
        "* Conter entre 6 a 8 dígitos\n",
        "\n",
        "Em seguida crie a condição abaixo:\n",
        "\n",
        "* Se a senha atender os requisitos acima retorne 'Nova senha cadastrada!'\n",
        "* Senão retorne 'Sua senha não atende os requisitos.'"
      ]
    },
    {
      "cell_type": "code",
      "execution_count": null,
      "id": "d2c85f3c-f38d-46ec-a56b-764ecac4d14d",
      "metadata": {
        "tags": [],
        "id": "d2c85f3c-f38d-46ec-a56b-764ecac4d14d"
      },
      "outputs": [],
      "source": [
        "\n",
        "\n"
      ]
    },
    {
      "cell_type": "markdown",
      "id": "98eaa664-23ee-4ee9-94d1-4fe319d49762",
      "metadata": {
        "id": "98eaa664-23ee-4ee9-94d1-4fe319d49762"
      },
      "source": [
        "---"
      ]
    },
    {
      "cell_type": "markdown",
      "id": "f0f84092-4b3f-43db-a7a9-8966793739ed",
      "metadata": {
        "id": "f0f84092-4b3f-43db-a7a9-8966793739ed"
      },
      "source": [
        "### Exercício 10\n",
        "\n",
        "Faça um programa que peça para o usuário digitar apenas o primeiro nome dele, em seguida verifique se o texto inserido é válido, ou seja, se ele não contém números ou caracteres especiais, sendo:\n",
        "\n",
        "* Se o texto inserido for válido retorne 'Olá {nome}!'\n",
        "* Senão retorne 'Nome inválido.'"
      ]
    },
    {
      "cell_type": "code",
      "execution_count": null,
      "id": "4df4f84c-1bb0-4711-b11a-501d1ed57e65",
      "metadata": {
        "tags": [],
        "id": "4df4f84c-1bb0-4711-b11a-501d1ed57e65"
      },
      "outputs": [],
      "source": [
        "\n",
        "\n"
      ]
    },
    {
      "cell_type": "markdown",
      "id": "1ab58004-9269-40e2-b796-0e172aa2e1d0",
      "metadata": {
        "id": "1ab58004-9269-40e2-b796-0e172aa2e1d0"
      },
      "source": [
        "---"
      ]
    },
    {
      "cell_type": "markdown",
      "id": "9058f3bd-ebf1-4521-b316-1d14ee72644e",
      "metadata": {
        "id": "9058f3bd-ebf1-4521-b316-1d14ee72644e"
      },
      "source": [
        "### Exercício 11\n",
        "\n",
        "Faça um programa que peça para o usuário o código de rastreio e em seguida valide se o código inserido antende os requisitos abaixo:\n",
        "\n",
        "* O código deve iniciar com os caracteres 'SP'\n",
        "* O código deve finalizar com os caracteres 'BR'\n",
        "* O código deve conter exatamente 13 caracteres\n",
        "\n",
        "**Exemplo de um código válido:**  \n",
        "_SP123456785BR_\n",
        "\n",
        "Em seguida crie a condição abaixo:\n",
        "\n",
        "* Se o código de atender os requisitos acima retorne 'Seu pedido está a caminho!'\n",
        "* Senão retorne 'Código inválido. Por favor verifique o código digitado.'"
      ]
    },
    {
      "cell_type": "code",
      "execution_count": null,
      "id": "14100a50-15cc-4488-988d-2618b0ce331b",
      "metadata": {
        "tags": [],
        "id": "14100a50-15cc-4488-988d-2618b0ce331b"
      },
      "outputs": [],
      "source": [
        "\n",
        "\n"
      ]
    },
    {
      "cell_type": "markdown",
      "id": "88d86f03-2a70-4be3-9d6d-3d10445a9a3f",
      "metadata": {
        "id": "88d86f03-2a70-4be3-9d6d-3d10445a9a3f"
      },
      "source": [
        "---"
      ]
    }
  ],
  "metadata": {
    "kernelspec": {
      "display_name": "Python 3 (ipykernel)",
      "language": "python",
      "name": "python3"
    },
    "language_info": {
      "codemirror_mode": {
        "name": "ipython",
        "version": 3
      },
      "file_extension": ".py",
      "mimetype": "text/x-python",
      "name": "python",
      "nbconvert_exporter": "python",
      "pygments_lexer": "ipython3",
      "version": "3.11.5"
    },
    "colab": {
      "provenance": [],
      "include_colab_link": true
    }
  },
  "nbformat": 4,
  "nbformat_minor": 5
}