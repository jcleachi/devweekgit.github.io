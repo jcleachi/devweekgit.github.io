{
  "cells": [
    {
      "cell_type": "markdown",
      "metadata": {
        "id": "view-in-github",
        "colab_type": "text"
      },
      "source": [
        "<a href=\"https://colab.research.google.com/github/jcleachi/devweekgit.github.io/blob/main/Extras_Listas_Itera%C3%A7%C3%A3o_de_listas.ipynb\" target=\"_parent\"><img src=\"https://colab.research.google.com/assets/colab-badge.svg\" alt=\"Open In Colab\"/></a>"
      ]
    },
    {
      "cell_type": "markdown",
      "id": "63c9e98e-1c8f-488d-b939-36da825dcff0",
      "metadata": {
        "id": "63c9e98e-1c8f-488d-b939-36da825dcff0"
      },
      "source": [
        "# <font color='OrangeRed'><center>Extra - Listas: Iteração de listas</center></font>"
      ]
    },
    {
      "cell_type": "markdown",
      "id": "8ef78051-3bc4-475d-b514-c4b83e6e71e7",
      "metadata": {
        "id": "8ef78051-3bc4-475d-b514-c4b83e6e71e7"
      },
      "source": [
        "### Exercício 01\n",
        "\n",
        "Crie uma variável chamada **soma** com o valor igual a 0 e a cada iteração da lista some a variável soma mais o valor atual da lista.  \n",
        "\n",
        "Por exemplo: soma = soma + numero"
      ]
    },
    {
      "cell_type": "code",
      "execution_count": null,
      "id": "035f11ef-66ca-49fe-9286-6e7acfda8af6",
      "metadata": {
        "id": "035f11ef-66ca-49fe-9286-6e7acfda8af6"
      },
      "outputs": [],
      "source": [
        "numeros = [1, 2, 3, 4, 5, 6, 7, 8, 9, 10]\n",
        "\n"
      ]
    },
    {
      "cell_type": "markdown",
      "id": "e77374f6-a2fc-478d-b247-08fc24a3eb8d",
      "metadata": {
        "id": "e77374f6-a2fc-478d-b247-08fc24a3eb8d"
      },
      "source": [
        "---"
      ]
    },
    {
      "cell_type": "markdown",
      "id": "f1013818-32a2-435b-bce5-57de87521e21",
      "metadata": {
        "id": "f1013818-32a2-435b-bce5-57de87521e21"
      },
      "source": [
        "### Exercício 02\n",
        "\n",
        "Faça um programa que percorra a palavra abaixo e para letra da palavra faça uma validação com uma condicional if/else para que imprima se a letra é uma **vogal** ou uma **consoante**."
      ]
    },
    {
      "cell_type": "code",
      "execution_count": null,
      "id": "93b179cc-9b3f-4bbe-88e1-0c330191a8c8",
      "metadata": {
        "id": "93b179cc-9b3f-4bbe-88e1-0c330191a8c8"
      },
      "outputs": [],
      "source": [
        "palavra = 'senai'\n",
        "\n"
      ]
    },
    {
      "cell_type": "markdown",
      "id": "7d3569b5-cf01-4441-877c-b95d9ac8f1a3",
      "metadata": {
        "id": "7d3569b5-cf01-4441-877c-b95d9ac8f1a3"
      },
      "source": [
        "---"
      ]
    },
    {
      "cell_type": "markdown",
      "id": "f7be5c0e-e3e2-4d18-b0f1-44d5e796c943",
      "metadata": {
        "tags": [],
        "id": "f7be5c0e-e3e2-4d18-b0f1-44d5e796c943"
      },
      "source": [
        "### Exercício 03\n",
        "\n",
        "Crie uma variável chamada **contagem** com o valor igual a 0, em seguida percorra o texto abaixo e a cada vez que apareça uma vogal some +1 a variável contagem, no final imprima o valor de contagem. Lembre-se de contabilizar tanto vogais de caixa alta como de caixa baixa, vogais com acentuação devem ser ignoradas."
      ]
    },
    {
      "cell_type": "code",
      "execution_count": null,
      "id": "5e6b78f6-e58b-47a8-890c-8b2ec2f0335f",
      "metadata": {
        "id": "5e6b78f6-e58b-47a8-890c-8b2ec2f0335f"
      },
      "outputs": [],
      "source": [
        "texto = '''\n",
        "Uma Lista em Python, é uma estrutura de dado capaz de armazenar uma coleção\n",
        "ordenada de valores, separados por vírgula e dentro de colchetes.\n",
        "'''\n",
        "\n",
        "\n"
      ]
    },
    {
      "cell_type": "markdown",
      "id": "b645fbc4-d20a-4a37-b3bd-d291082d7a25",
      "metadata": {
        "tags": [],
        "id": "b645fbc4-d20a-4a37-b3bd-d291082d7a25"
      },
      "source": [
        "---"
      ]
    },
    {
      "cell_type": "markdown",
      "id": "5f51388b-bea9-409e-a2f2-0aabf0ee8428",
      "metadata": {
        "id": "5f51388b-bea9-409e-a2f2-0aabf0ee8428"
      },
      "source": [
        "### Exercício 04\n",
        "\n",
        "Crie uma variável chamada **maior** com o valor igual a 0, em seguida percorra a lista de números abaixo e crie um algoritmo para atribuir o maior número da lista dentro da variável maior. Por fim, imprima o valor do maior número."
      ]
    },
    {
      "cell_type": "code",
      "execution_count": null,
      "id": "64d9f97a-b0a3-46cb-af9b-ae16fcc8936f",
      "metadata": {
        "id": "64d9f97a-b0a3-46cb-af9b-ae16fcc8936f"
      },
      "outputs": [],
      "source": [
        "numeros = [33, 29, 51, 31, 11, 37, 41, 53, 17, 13]\n",
        "\n",
        "\n"
      ]
    },
    {
      "cell_type": "markdown",
      "id": "4b03da0b-4585-4166-89a2-69ea442bcd76",
      "metadata": {
        "id": "4b03da0b-4585-4166-89a2-69ea442bcd76"
      },
      "source": [
        "---"
      ]
    },
    {
      "cell_type": "markdown",
      "id": "f1453ed9-a3ee-464d-849e-3d109577ef0a",
      "metadata": {
        "id": "f1453ed9-a3ee-464d-849e-3d109577ef0a"
      },
      "source": [
        "### Exercício 05\n",
        "\n",
        "Siga os passos abaixo para criar um programa para calcular a soma de cada um dos dígitos:\n",
        "1. Crie uma variável chamada **soma** com o valor igual a 0.\n",
        "1. Converta os dígitos para uma string para poder percorrê-los\n",
        "1. A cada iteração do texto converta novamente o dígito para número inteiro e some o valor do número atual com a variável soma\n",
        "1. Por fim, imprima o valor da variável soma"
      ]
    },
    {
      "cell_type": "code",
      "execution_count": null,
      "id": "09e6d9eb-4045-4f60-a889-472effedafdb",
      "metadata": {
        "id": "09e6d9eb-4045-4f60-a889-472effedafdb"
      },
      "outputs": [],
      "source": [
        "digitos = 12345\n",
        "\n",
        "\n"
      ]
    },
    {
      "cell_type": "markdown",
      "id": "b7ac7ff8-2926-4840-8c59-cbcb1e5d91dd",
      "metadata": {
        "id": "b7ac7ff8-2926-4840-8c59-cbcb1e5d91dd"
      },
      "source": [
        "---"
      ]
    },
    {
      "cell_type": "markdown",
      "id": "075a8ac4-56ca-43bf-8735-b661012a83ea",
      "metadata": {
        "id": "075a8ac4-56ca-43bf-8735-b661012a83ea"
      },
      "source": [
        "### Exercício 06\n",
        "\n",
        "Crie uma lista vazia chamada **lista**, em seguida percorra a lista de números abaixo e crie a condição abaixo:\n",
        "\n",
        "* Se o número da lista for par, então divida o número por 2 e adicione o resultado no final da variável **lista**\n",
        "* Se o número da lista for ímpar, então multiplique o número por 2 e adicione o resultado no final da variável **lista**\n",
        "\n",
        "Por fim, imprima os valores da lista criada"
      ]
    },
    {
      "cell_type": "code",
      "execution_count": null,
      "id": "637650a8-358f-4585-a6e3-273d09c81980",
      "metadata": {
        "id": "637650a8-358f-4585-a6e3-273d09c81980"
      },
      "outputs": [],
      "source": [
        "numeros = [1, 2, 3, 4, 5, 6, 7, 8, 9, 10]\n",
        "\n",
        "\n"
      ]
    },
    {
      "cell_type": "markdown",
      "id": "68c3bf85-7a5a-46fd-87a2-c43ba2ab1e37",
      "metadata": {
        "id": "68c3bf85-7a5a-46fd-87a2-c43ba2ab1e37"
      },
      "source": [
        "---"
      ]
    },
    {
      "cell_type": "markdown",
      "id": "e394365a-83fd-4905-99dd-fec9f019a637",
      "metadata": {
        "id": "e394365a-83fd-4905-99dd-fec9f019a637"
      },
      "source": [
        "### Exercício 07\n",
        "\n",
        "Faça um programa que percorra a lista de sites abaixo e imprima somente o domínio de localização do site do google, como por exemplo, 'es', 'ar'."
      ]
    },
    {
      "cell_type": "code",
      "execution_count": null,
      "id": "91d36644-bd67-414b-8643-cfb0a658b74c",
      "metadata": {
        "id": "91d36644-bd67-414b-8643-cfb0a658b74c"
      },
      "outputs": [],
      "source": [
        "sites = ['www.google.com.es', 'www.google.com.ar', 'www.google.com.br', 'www.google.com.pt', 'www.google.com.py', 'www.google.com.mx']\n",
        "\n",
        "\n"
      ]
    },
    {
      "cell_type": "markdown",
      "id": "778397c1-02b3-4775-8e8e-cd0d1d216981",
      "metadata": {
        "id": "778397c1-02b3-4775-8e8e-cd0d1d216981"
      },
      "source": [
        "---"
      ]
    },
    {
      "cell_type": "markdown",
      "id": "8304fe7b-cb22-45d6-9ddc-27bdce1eaa2a",
      "metadata": {
        "id": "8304fe7b-cb22-45d6-9ddc-27bdce1eaa2a"
      },
      "source": [
        "### Exercício 08\n",
        "\n",
        "Faça um programa que percorra a lista de frutas abaixo e retorne a quantidade de letras que possui cada palavra."
      ]
    },
    {
      "cell_type": "code",
      "execution_count": null,
      "id": "15145b4f-a284-479d-bc5d-36aab830d9f7",
      "metadata": {
        "id": "15145b4f-a284-479d-bc5d-36aab830d9f7"
      },
      "outputs": [],
      "source": [
        "frutas = ['Maçã', 'Banana', 'Jaca', 'Melão', 'Abacaxi', 'Kiwi', 'Cereja']\n",
        "\n",
        "\n"
      ]
    },
    {
      "cell_type": "markdown",
      "id": "26d18351-cdae-4366-9d2d-5f68cf1c2031",
      "metadata": {
        "id": "26d18351-cdae-4366-9d2d-5f68cf1c2031"
      },
      "source": [
        "---"
      ]
    },
    {
      "cell_type": "markdown",
      "id": "60128282-883c-46b2-8860-6c1a9814be28",
      "metadata": {
        "id": "60128282-883c-46b2-8860-6c1a9814be28"
      },
      "source": [
        "### Exercício 09\n",
        "\n",
        "Crie uma lista vazia chamada **lista**, em seguida percorra a lista de nomes abaixo para validar se os nomes dos usuários são válidos, sendo:\n",
        "\n",
        "* Se o nome da lista possuir apenas letras do alfabeto, então adicione o nome do usuário no final da variável **lista**\n",
        "* Senão não faça nada\n",
        "\n",
        "Por fim, imprima os valores da lista criada"
      ]
    },
    {
      "cell_type": "code",
      "execution_count": null,
      "id": "a95e6c8f-a9a8-4c60-aa10-d2fc43dfa3df",
      "metadata": {
        "id": "a95e6c8f-a9a8-4c60-aa10-d2fc43dfa3df"
      },
      "outputs": [],
      "source": [
        "nomes = ['Mari4','Raquel','Alan','K3vin','Dieg0','Heloísa','Mar14na','L4il4','Juliana','Alexandre']\n",
        "\n",
        "\n",
        "\n"
      ]
    },
    {
      "cell_type": "markdown",
      "id": "28eb3572-6d5a-421b-ac36-8058d0572b5c",
      "metadata": {
        "id": "28eb3572-6d5a-421b-ac36-8058d0572b5c"
      },
      "source": [
        "---"
      ]
    },
    {
      "cell_type": "markdown",
      "id": "0d05b9a8-1d33-42f1-9f2e-7944dbf71bc3",
      "metadata": {
        "id": "0d05b9a8-1d33-42f1-9f2e-7944dbf71bc3"
      },
      "source": [
        "### Exercício 10\n",
        "\n",
        "Crie uma lista vazia chamada **emails**, em seguida percorra a lista de nomes abaixo para criar os e-mails dos novos funcionários abaixo, sendo:\n",
        "\n",
        "1. Os e-mails dos novos funcionários serão compostos pelo nome e sobrenome do funcionário\n",
        "1. Todos os caracteres do e-mail precisam estar em caixa baixa\n",
        "1. O espaço entre o nome e o sobrenome dos funcionários devem ser substituidos pelo '.' -ponto-\n",
        "1. O domínio do e-mail dos funcionários será **@senai.com.br**, dito isto, adicione esse valor no final do resultado das etapas anteriores\n",
        "1. Adicione o e-mail criado dentro da lista **emails**\n",
        "\n",
        "**Saída esperada:**  \n",
        "_luiz.ladogano@senai.com.br_\n",
        "\n",
        "Por fim, imprima os valores da lista de e-mails criada"
      ]
    },
    {
      "cell_type": "code",
      "execution_count": null,
      "id": "1fb4b5cd-754d-4f21-8a41-82a81f4f25b5",
      "metadata": {
        "id": "1fb4b5cd-754d-4f21-8a41-82a81f4f25b5"
      },
      "outputs": [],
      "source": [
        "nomes = ['Luiz Ladogano', 'Lucas Procaci', 'Roberta Vaz', 'Eduardo Ramos', 'Frederico Vidal', 'Gabriel Pereira']\n",
        "\n",
        "\n"
      ]
    },
    {
      "cell_type": "markdown",
      "id": "2288c00a-4eef-4199-9f8d-8c19fdf51fda",
      "metadata": {
        "id": "2288c00a-4eef-4199-9f8d-8c19fdf51fda"
      },
      "source": [
        "---"
      ]
    },
    {
      "cell_type": "markdown",
      "id": "0f3e65a5-193d-4b3b-9534-57d0cbb2f17a",
      "metadata": {
        "id": "0f3e65a5-193d-4b3b-9534-57d0cbb2f17a"
      },
      "source": [
        "### Exercício 11\n",
        "\n",
        "Percorra a lista de números abaixo e remova todos os números ímpares da lista, em seguida imprima a lista atualizada."
      ]
    },
    {
      "cell_type": "code",
      "execution_count": null,
      "id": "269a7c55-bd9a-43dc-b8a3-7ef1eb2f9f52",
      "metadata": {
        "id": "269a7c55-bd9a-43dc-b8a3-7ef1eb2f9f52"
      },
      "outputs": [],
      "source": [
        "numeros = [1, 2, 3, 4, 5, 6, 7, 8, 9, 10]\n",
        "\n",
        "\n"
      ]
    },
    {
      "cell_type": "markdown",
      "id": "2dbe6b1e-9cda-498d-8b90-5517770c78bc",
      "metadata": {
        "id": "2dbe6b1e-9cda-498d-8b90-5517770c78bc"
      },
      "source": [
        "---"
      ]
    },
    {
      "cell_type": "markdown",
      "id": "b221abbf-5ade-4a64-bb42-ed0ab0b51630",
      "metadata": {
        "tags": [],
        "id": "b221abbf-5ade-4a64-bb42-ed0ab0b51630"
      },
      "source": [
        "### Exercício 12\n",
        "\n",
        "Faça um programa que percorra a lista abaixo e crie a seguinte condição:\n",
        "\n",
        "* Se o número da lista for divisível pelos números 2 e 3, então imprima '{numero} é divisível por 2 e 3'\n",
        "* Se o número da lista for divisível apenas pelo número 2, então imprima '{numero} é divisível por 2'\n",
        "* Se o número da lista for divisível apenas pelo número 3, então imprima '{numero} é divisível por 3'\n",
        "\n",
        "**Dica:**  \n",
        "_Utilize o operador módulo %_"
      ]
    },
    {
      "cell_type": "code",
      "execution_count": null,
      "id": "eac6d60b-37a5-4ce3-84fa-ca66c0b9251a",
      "metadata": {
        "id": "eac6d60b-37a5-4ce3-84fa-ca66c0b9251a"
      },
      "outputs": [],
      "source": [
        "numeros = [2, 3, 6, 9, 12, 18, 24, 27, 30, 33]\n",
        "\n",
        "\n"
      ]
    },
    {
      "cell_type": "markdown",
      "id": "e23e20f1-8e23-4789-a89b-e8b65ac64363",
      "metadata": {
        "id": "e23e20f1-8e23-4789-a89b-e8b65ac64363"
      },
      "source": [
        "---"
      ]
    },
    {
      "cell_type": "markdown",
      "id": "758590b2-cd10-489d-b34b-d26de8664233",
      "metadata": {
        "id": "758590b2-cd10-489d-b34b-d26de8664233"
      },
      "source": [
        "### Exercício 13\n",
        "\n",
        "Percorra a lista de **frutas** e cada iteração adicione o plural do nome da fruta dentro da lista **plurais_frutas**."
      ]
    },
    {
      "cell_type": "code",
      "execution_count": null,
      "id": "c77ae629-b5ff-469b-8df7-ff9687a2a4fd",
      "metadata": {
        "id": "c77ae629-b5ff-469b-8df7-ff9687a2a4fd"
      },
      "outputs": [],
      "source": [
        "frutas = ['Laranja', 'Banana', 'Jaca', 'Abacate', 'Abacaxi', 'Manga', 'Cereja']\n",
        "\n"
      ]
    },
    {
      "cell_type": "markdown",
      "id": "b1651ddd-e89d-458a-8c3d-a9db530bb5de",
      "metadata": {
        "id": "b1651ddd-e89d-458a-8c3d-a9db530bb5de"
      },
      "source": [
        "---"
      ]
    },
    {
      "cell_type": "markdown",
      "id": "7672c1ae-ec3b-4d08-a542-083ae5ea60c0",
      "metadata": {
        "tags": [],
        "id": "7672c1ae-ec3b-4d08-a542-083ae5ea60c0"
      },
      "source": [
        "### Exercício 14\n",
        "\n",
        "Faça um programa que percorra a lista abaixo e para cada item da lista execute as ações abaixo:\n",
        "\n",
        "* Use um método para substituir a ',' por '.'\n",
        "* Use um método para substituir a 'R$' por ''\n",
        "* Use uma função para converter o texto para o tipo float\n",
        "* Por fim, imprima o número"
      ]
    },
    {
      "cell_type": "code",
      "execution_count": null,
      "id": "7af29ed0-416e-4a44-878c-a097f72da695",
      "metadata": {
        "tags": [],
        "id": "7af29ed0-416e-4a44-878c-a097f72da695"
      },
      "outputs": [],
      "source": [
        "numeros = ['R$2,99', 'R$5,50', 'R$9,49', 'R$3,75', 'R$7,25']\n",
        "\n"
      ]
    },
    {
      "cell_type": "markdown",
      "id": "9ddfb5c6-1fa1-419d-b5ff-51b19559b319",
      "metadata": {
        "id": "9ddfb5c6-1fa1-419d-b5ff-51b19559b319"
      },
      "source": [
        "---"
      ]
    },
    {
      "cell_type": "markdown",
      "id": "9b87e42a-c182-47cc-806b-110e876b7929",
      "metadata": {
        "id": "9b87e42a-c182-47cc-806b-110e876b7929"
      },
      "source": [
        "### Exercício 15\n",
        "\n",
        "Crie uma variável chamada **contador_vogais** e faça um programa que peça para o usuário digitar um texto, em seguida percorra o texto inserido pelo usuário e para cada **vogal** encontrada some +1 a variável **contador_vogais**.\n",
        "\n",
        "Por fim, imprima o valor da variável contador_vogais."
      ]
    },
    {
      "cell_type": "code",
      "execution_count": null,
      "id": "9f7c4f5e-24e2-4056-9666-2c4647ec96fb",
      "metadata": {
        "id": "9f7c4f5e-24e2-4056-9666-2c4647ec96fb"
      },
      "outputs": [],
      "source": [
        "palavra = input(\"Digite uma palavra: \")\n",
        "\n",
        "vogais = \"aeiouAEIOU\"\n",
        "\n",
        "contador_vogais = 0\n",
        "\n",
        "for letra in palavra:\n",
        "    if letra in vogais:\n",
        "        contador_vogais += 1\n",
        "\n",
        "print(f\"A palavra '{palavra}' tem {contador_vogais} vogais.\")"
      ]
    },
    {
      "cell_type": "markdown",
      "id": "c07ef314-e5de-4b47-85db-f447c555fa71",
      "metadata": {
        "id": "c07ef314-e5de-4b47-85db-f447c555fa71"
      },
      "source": [
        "---"
      ]
    }
  ],
  "metadata": {
    "kernelspec": {
      "display_name": "Python 3 (ipykernel)",
      "language": "python",
      "name": "python3"
    },
    "language_info": {
      "codemirror_mode": {
        "name": "ipython",
        "version": 3
      },
      "file_extension": ".py",
      "mimetype": "text/x-python",
      "name": "python",
      "nbconvert_exporter": "python",
      "pygments_lexer": "ipython3",
      "version": "3.11.5"
    },
    "colab": {
      "provenance": [],
      "include_colab_link": true
    }
  },
  "nbformat": 4,
  "nbformat_minor": 5
}