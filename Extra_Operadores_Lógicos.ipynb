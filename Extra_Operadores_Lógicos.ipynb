{
  "cells": [
    {
      "cell_type": "markdown",
      "metadata": {
        "id": "view-in-github",
        "colab_type": "text"
      },
      "source": [
        "<a href=\"https://colab.research.google.com/github/jcleachi/devweekgit.github.io/blob/main/Extra_Operadores_L%C3%B3gicos.ipynb\" target=\"_parent\"><img src=\"https://colab.research.google.com/assets/colab-badge.svg\" alt=\"Open In Colab\"/></a>"
      ]
    },
    {
      "cell_type": "markdown",
      "id": "683567dd-3c83-4c12-baa9-fbf1cddba90e",
      "metadata": {
        "id": "683567dd-3c83-4c12-baa9-fbf1cddba90e"
      },
      "source": [
        "# <font color='OrangeRed'><center>Extra - Operadores Lógicos</center></font>"
      ]
    },
    {
      "cell_type": "markdown",
      "id": "96eebbd7-ea7b-48aa-9989-2641cb2be11e",
      "metadata": {
        "id": "96eebbd7-ea7b-48aa-9989-2641cb2be11e"
      },
      "source": [
        "### Exercício 01\n",
        "\n",
        "Faça um programa que peça para o usuário digitar uma nota de 0 a 10, em seguida converta a 'Nota' inforamada pelo 'Conceito', caso o número informado seja diferente de 0 a 10 retorne 'Nota inválida.'\n",
        "\n",
        "| Nota | Conceito |\n",
        "|:----:|:--------:|\n",
        "| Entre 9.0 e 10.0 | A |\n",
        "| Entre 7.5 e 8.9 | B |\n",
        "| Entre 6.0 e 7.4 | C |\n",
        "| Entre 4.0 e 5.9 | D |\n",
        "| Entre 0.0 e 3.9 | E |"
      ]
    },
    {
      "cell_type": "code",
      "execution_count": null,
      "id": "514618da-b2f1-4d8a-a3e3-a7a977efc0d4",
      "metadata": {
        "id": "514618da-b2f1-4d8a-a3e3-a7a977efc0d4"
      },
      "outputs": [],
      "source": [
        "\n",
        "\n"
      ]
    },
    {
      "cell_type": "markdown",
      "id": "d3ec49c8-ec26-421f-8294-1255e57cf3a4",
      "metadata": {
        "id": "d3ec49c8-ec26-421f-8294-1255e57cf3a4"
      },
      "source": [
        "---"
      ]
    },
    {
      "cell_type": "markdown",
      "id": "70635a94-8ff1-4e2b-a07c-415c94f1ef33",
      "metadata": {
        "tags": [],
        "id": "70635a94-8ff1-4e2b-a07c-415c94f1ef33"
      },
      "source": [
        "### Exercício 02\n",
        "\n",
        "Escreva um programa que receba a idade de um nadador e em seguida classifique-o em uma das\n",
        "seguintes categorias:\n",
        "\n",
        "|Categoria | Idade |\n",
        "|:--------:|:-----:|\n",
        "| Infantil A | 5 a 7 |\n",
        "| Infantil B | 8 a 10 |\n",
        "| Juvenil A | 11 a 13 |\n",
        "| Juvenil B | 14 a 17 |\n",
        "| Sênior | Maiores de 18 anos |\n",
        "\n",
        "Caso o nadador tenha a idade abaixo de 5 anos retorne 'Sua inscrição não permitida.'"
      ]
    },
    {
      "cell_type": "code",
      "execution_count": null,
      "id": "8d215ee5-032e-4fab-8e3f-1843ad8d985a",
      "metadata": {
        "id": "8d215ee5-032e-4fab-8e3f-1843ad8d985a"
      },
      "outputs": [],
      "source": [
        "\n",
        "\n"
      ]
    },
    {
      "cell_type": "markdown",
      "id": "c89d673c-7815-472c-8d5f-605fcde25194",
      "metadata": {
        "id": "c89d673c-7815-472c-8d5f-605fcde25194"
      },
      "source": [
        "---"
      ]
    },
    {
      "cell_type": "markdown",
      "id": "dd0a1b3c-a852-418d-88d5-507c33162996",
      "metadata": {
        "id": "dd0a1b3c-a852-418d-88d5-507c33162996"
      },
      "source": [
        "### Exercício 03\n",
        "\n",
        "Faça um programa que peça para o usuário digitar o salário dele, em seguida retorne o valor de\n",
        "imposto de renda que será deduzido da folha de pagamento.\n",
        "\n",
        "| Salário | Imposto de Renda |\n",
        "|:-------:|:----------------:|\n",
        "| Até 2112.00  | 0.00 |\n",
        "| De 2112.01 até 2826.66 | 158.40 |\n",
        "| De 2826.67 até 3751.06 | 370.40 |\n",
        "| De 3751.07 até 4664.68 | 651.73 |\n",
        "| Acima de 4664.68 | 884.96 |"
      ]
    },
    {
      "cell_type": "code",
      "execution_count": null,
      "id": "bc5ffd38-da7a-405a-a7b2-ba41110452f0",
      "metadata": {
        "id": "bc5ffd38-da7a-405a-a7b2-ba41110452f0"
      },
      "outputs": [],
      "source": [
        "\n",
        "\n"
      ]
    },
    {
      "cell_type": "markdown",
      "id": "64f61146-947c-490a-9c6f-21871791ec43",
      "metadata": {
        "tags": [],
        "id": "64f61146-947c-490a-9c6f-21871791ec43"
      },
      "source": [
        "---"
      ]
    },
    {
      "cell_type": "markdown",
      "id": "1f7b129c-2a59-41f4-88e6-57f0aeff8802",
      "metadata": {
        "id": "1f7b129c-2a59-41f4-88e6-57f0aeff8802"
      },
      "source": [
        "### Exercício 04\n",
        "\n",
        "Faça um programa que pergunte ao usuário quantos milímetros de água choveu em um determiando dia e em seguida retorne em qual classificação de intensidade se enquadra:\n",
        "\n",
        "\n",
        "| Intensidade | Milímetros |\n",
        "|:-----------:|:----------:|\n",
        "| Chuva fraca | entre 0.1 e 5.0 mm/h |\n",
        "| Chuva moderada | entre 5.1 e 25.0 mm/h |\n",
        "| Chuva forte | entre 25.1 e 50.0 mm/h |\n",
        "| Chuva muito forte | acima de 50.0 mm/h |"
      ]
    },
    {
      "cell_type": "code",
      "execution_count": null,
      "id": "8aa93ad9-cb13-4948-9d08-a56e327a3fb7",
      "metadata": {
        "id": "8aa93ad9-cb13-4948-9d08-a56e327a3fb7"
      },
      "outputs": [],
      "source": [
        "\n",
        "\n"
      ]
    },
    {
      "cell_type": "markdown",
      "id": "289e2480-fa28-452c-94ad-26243a09d1ce",
      "metadata": {
        "id": "289e2480-fa28-452c-94ad-26243a09d1ce"
      },
      "source": [
        "---"
      ]
    },
    {
      "cell_type": "markdown",
      "id": "55baee73-ce6f-45c5-93ec-bc82fa01c9aa",
      "metadata": {
        "id": "55baee73-ce6f-45c5-93ec-bc82fa01c9aa"
      },
      "source": [
        "### Exercício 05\n",
        "\n",
        "Faça um programa que pergunte ao usuário o peso cachorro dele em quilos e em seguida retorne em qual porte ele se classifica:\n",
        "\n",
        "\n",
        "| Porte | Quilos |\n",
        "|:-----:|:------:|\n",
        "| Mini | Até 6.00 quilos |\n",
        "| Pequeno | de 6.01 e 15.00 quilos |\n",
        "| Médio | de 15.01 a 25.00 quilos |\n",
        "| Grande | de 25.01 a 45.00 quilos |\n",
        "| Gigante | acima de 45.00 quilos |"
      ]
    },
    {
      "cell_type": "code",
      "execution_count": null,
      "id": "f9a1c3bf-4530-42bc-a6e2-ed7edbf43ccd",
      "metadata": {
        "id": "f9a1c3bf-4530-42bc-a6e2-ed7edbf43ccd"
      },
      "outputs": [],
      "source": [
        "\n",
        "\n"
      ]
    },
    {
      "cell_type": "markdown",
      "id": "8b8bec40-1dda-4ee9-afb3-06211a46cee6",
      "metadata": {
        "id": "8b8bec40-1dda-4ee9-afb3-06211a46cee6"
      },
      "source": [
        "---"
      ]
    },
    {
      "cell_type": "markdown",
      "id": "a7dc5287-53ae-433c-a476-fb23a423358a",
      "metadata": {
        "id": "a7dc5287-53ae-433c-a476-fb23a423358a"
      },
      "source": [
        "### Exercício 06\n",
        "\n",
        "Faça as 3 perguntas abaixo para o usuário, sendo uma de cada vez, e peça para que ele responda 'sim' ou 'não':\n",
        "\n",
        "- Caso as 3 respostas sejam iguais a 'sim' retorne 'Você pode se inscrever para o curso: Programação em Python'\n",
        "- Senão retorne 'Você não pode se inscrever para o curso: Programação em Python'\n",
        "\n",
        "**Perguntas:**\n",
        "1. Você possui 16 anos de idade ou mais?\n",
        "1. Você concluiu o Nível Fundamental?\n",
        "1. Você possui conhecimentos em Informática Básica?"
      ]
    },
    {
      "cell_type": "code",
      "execution_count": null,
      "id": "4cba1d5a-7e4c-4883-90c8-11a36aabdcda",
      "metadata": {
        "id": "4cba1d5a-7e4c-4883-90c8-11a36aabdcda"
      },
      "outputs": [],
      "source": [
        "\n",
        "\n"
      ]
    },
    {
      "cell_type": "markdown",
      "id": "5de11c75-de69-43e9-8a8d-dd041b23445c",
      "metadata": {
        "id": "5de11c75-de69-43e9-8a8d-dd041b23445c"
      },
      "source": [
        "---"
      ]
    },
    {
      "cell_type": "markdown",
      "id": "e899cd76-f9d1-4de8-b09d-c9b74f403073",
      "metadata": {
        "id": "e899cd76-f9d1-4de8-b09d-c9b74f403073"
      },
      "source": [
        "### Exercício 07\n",
        "\n",
        "De acordo com o Código de Trânsito Brasileiro, a velocidade mínima não poderá ser inferior à metade da velocidade máxima estabelecida, dito isto, faça um programa que solicite a velocidade de um carro e crie seguinte condinção:\n",
        "\n",
        "- Se a velocidade for maior ou igual a 150 Km/H retorne 'Velocidade muito acima do permitido'\n",
        "- Se a velocidade for entre 120 a 149 Km/H retorne 'Velocidade acima do permitido'\n",
        "- Se a velocidade for entre 60 a 119 Km/H retorne 'Velocidade dentro do permitido'\n",
        "- Se a velocidade for abaixo de 60 Km/H retorne 'Velocidade abaixo do permitido'"
      ]
    },
    {
      "cell_type": "code",
      "execution_count": null,
      "id": "61f673dc-284b-4286-9823-d974ba75f7e9",
      "metadata": {
        "id": "61f673dc-284b-4286-9823-d974ba75f7e9"
      },
      "outputs": [],
      "source": [
        "\n",
        "\n"
      ]
    },
    {
      "cell_type": "markdown",
      "id": "178d4be5-0fb3-4ddf-a478-54e2bdc6c12b",
      "metadata": {
        "id": "178d4be5-0fb3-4ddf-a478-54e2bdc6c12b"
      },
      "source": [
        "---"
      ]
    },
    {
      "cell_type": "markdown",
      "id": "8544bce6-cac0-4256-9c2b-3cdb94cdac54",
      "metadata": {
        "id": "8544bce6-cac0-4256-9c2b-3cdb94cdac54"
      },
      "source": [
        "### Exercício 08\n",
        "\n",
        "Escreva um programa para ler 3 valores inteiros e retorne o maior deles.  \n",
        "Considere que o usuário não informará valores iguais."
      ]
    },
    {
      "cell_type": "code",
      "execution_count": null,
      "id": "d0e74570-e26d-4bf2-9594-eb059a2527d2",
      "metadata": {
        "id": "d0e74570-e26d-4bf2-9594-eb059a2527d2"
      },
      "outputs": [],
      "source": [
        "\n",
        "\n"
      ]
    },
    {
      "cell_type": "markdown",
      "id": "4f0237dc-2222-4093-899a-420f7640a9c2",
      "metadata": {
        "id": "4f0237dc-2222-4093-899a-420f7640a9c2"
      },
      "source": [
        "---"
      ]
    },
    {
      "cell_type": "markdown",
      "id": "775874df-0f03-4c2d-ae95-885d1781fe60",
      "metadata": {
        "id": "775874df-0f03-4c2d-ae95-885d1781fe60"
      },
      "source": [
        "### Exercício 09\n",
        "\n",
        "Faça um programa que solicite um número inteiro ao usuário, em seguida crie a seguinte condição:\n",
        "    \n",
        "- Se o número digitado for divisível por 2 e por 3 retorne 'Número divisível por 2 e por 3.'\n",
        "- Se o número digitado for divisível apenas por 2 retorne 'Número divisível por 2.'\n",
        "- Se o número digitado for divisível apenas por 3 retorne 'Número divisível por 3.'\n",
        "- Senão retorne 'Número não é divisível por 2 ou por 3'\n",
        "\n",
        "**Dicas:**  \n",
        "_Um número é considerado divisível por outro quando o resto da divisão é igual a zero._\n",
        "\n",
        "**_Formúla:_**  \n",
        "_% (Módulo ou resto de divisão)_  \n",
        "<img style=\"height:120px\" src=https://www.estudamos.com.br/divisao/elementos-da-divisao.jpg>"
      ]
    },
    {
      "cell_type": "code",
      "execution_count": null,
      "id": "b6a02be4-0e67-491e-96e4-dd4441fee2bb",
      "metadata": {
        "id": "b6a02be4-0e67-491e-96e4-dd4441fee2bb"
      },
      "outputs": [],
      "source": [
        "\n",
        "\n"
      ]
    },
    {
      "cell_type": "markdown",
      "id": "8f8e88e2-4bf2-49e8-a856-cefc4d63241d",
      "metadata": {
        "id": "8f8e88e2-4bf2-49e8-a856-cefc4d63241d"
      },
      "source": [
        "---"
      ]
    },
    {
      "cell_type": "markdown",
      "id": "52f40caa-775e-44b3-bffa-dbcd714927fa",
      "metadata": {
        "id": "52f40caa-775e-44b3-bffa-dbcd714927fa"
      },
      "source": [
        "### Exercício 10\n",
        "\n",
        "Escreva um programa que pergunte a altura e o peso do usuário e em seguida calcule o IMC (Índice de Massa Corpória), após obter o IMC retorne a classificação do usuário:\n",
        "\n",
        "| IMC | Classificação |\n",
        "|:---:|:-------------:|\n",
        "| Abaixo de 17 | Muito abaixo do peso |\n",
        "| Entre 17 e 18.49 | Abaixo do peso |\n",
        "| Entre 18.5 e 24.99 | Peso normal |\n",
        "| Entre 25 e 29.99 | Um pouco acima do peso |\n",
        "| Entre 30 e 34.99 | Obeso |\n",
        "| A partir de 35 | Obesidade severa |\n",
        "\n",
        "**Formúla:**  \n",
        "_IMC = Peso / (Altura*Altura)_"
      ]
    },
    {
      "cell_type": "code",
      "execution_count": null,
      "id": "80375e70-42c7-442c-9551-8d91c8de92d4",
      "metadata": {
        "id": "80375e70-42c7-442c-9551-8d91c8de92d4"
      },
      "outputs": [],
      "source": [
        "\n",
        "\n"
      ]
    },
    {
      "cell_type": "markdown",
      "id": "cc31fa46-25f3-4c43-9623-3f5e756fdf69",
      "metadata": {
        "tags": [],
        "id": "cc31fa46-25f3-4c43-9623-3f5e756fdf69"
      },
      "source": [
        "---"
      ]
    },
    {
      "cell_type": "markdown",
      "id": "d7385eae-98dd-4d99-a36c-8c22ce5a4c46",
      "metadata": {
        "id": "d7385eae-98dd-4d99-a36c-8c22ce5a4c46"
      },
      "source": [
        "### Exercício 11\n",
        "\n",
        "Desenvolva um programa que pergunte a idade do usuário e se ele tem carteira de estudante, peça que responda com 'S' se ele tiver e 'N' se não tiver, em seguida crie a condição abaixo:\n",
        "\n",
        "* Se a idade do usuário foi maior ou igual a 18 anos **E** se ele tiver a carteira de estudante, retorne 'Meia-entrada'\n",
        "* Se a idade do usuário foi maior ou igual a 18 anos **E** se ele não tiver a carteira de estudante, retorne 'Inteira'\n",
        "* Para os demais casos retorne 'Venda não permitida'"
      ]
    },
    {
      "cell_type": "code",
      "execution_count": null,
      "id": "b7d4b178-4528-4d55-8eea-81bd3df1a72e",
      "metadata": {
        "tags": [],
        "id": "b7d4b178-4528-4d55-8eea-81bd3df1a72e"
      },
      "outputs": [],
      "source": [
        "\n",
        "\n"
      ]
    },
    {
      "cell_type": "markdown",
      "id": "dadc3641-dc2f-4b72-9d02-9ad016f2b2a6",
      "metadata": {
        "id": "dadc3641-dc2f-4b72-9d02-9ad016f2b2a6"
      },
      "source": [
        "---"
      ]
    }
  ],
  "metadata": {
    "kernelspec": {
      "display_name": "Python 3 (ipykernel)",
      "language": "python",
      "name": "python3"
    },
    "language_info": {
      "codemirror_mode": {
        "name": "ipython",
        "version": 3
      },
      "file_extension": ".py",
      "mimetype": "text/x-python",
      "name": "python",
      "nbconvert_exporter": "python",
      "pygments_lexer": "ipython3",
      "version": "3.11.5"
    },
    "colab": {
      "provenance": [],
      "include_colab_link": true
    }
  },
  "nbformat": 4,
  "nbformat_minor": 5
}