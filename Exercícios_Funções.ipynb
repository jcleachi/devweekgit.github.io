{
  "cells": [
    {
      "cell_type": "markdown",
      "metadata": {
        "id": "view-in-github",
        "colab_type": "text"
      },
      "source": [
        "<a href=\"https://colab.research.google.com/github/jcleachi/devweekgit.github.io/blob/main/Exerc%C3%ADcios_Fun%C3%A7%C3%B5es.ipynb\" target=\"_parent\"><img src=\"https://colab.research.google.com/assets/colab-badge.svg\" alt=\"Open In Colab\"/></a>"
      ]
    },
    {
      "cell_type": "markdown",
      "id": "e18376ba-7875-4414-ab0d-d1900316a5d9",
      "metadata": {
        "tags": [],
        "id": "e18376ba-7875-4414-ab0d-d1900316a5d9"
      },
      "source": [
        "# <font color='OrangeRed'><center>Exercícios - Funções</center></font>"
      ]
    },
    {
      "cell_type": "markdown",
      "id": "095576dd-6fcd-48ae-90ef-2c2dd49aa35d",
      "metadata": {
        "id": "095576dd-6fcd-48ae-90ef-2c2dd49aa35d"
      },
      "source": [
        "### Exercício 01\n",
        "\n",
        "Crie uma função que receba três números como parâmetros, e que retorne a soma desses três números."
      ]
    },
    {
      "cell_type": "code",
      "execution_count": null,
      "id": "9875cdf1-f7a6-4d0e-8497-0e1a112a93af",
      "metadata": {
        "id": "9875cdf1-f7a6-4d0e-8497-0e1a112a93af"
      },
      "outputs": [],
      "source": [
        "\n",
        "\n"
      ]
    },
    {
      "cell_type": "markdown",
      "id": "b39845b1-ff90-435c-91de-a15fc8a82fb7",
      "metadata": {
        "id": "b39845b1-ff90-435c-91de-a15fc8a82fb7"
      },
      "source": [
        "---"
      ]
    },
    {
      "cell_type": "markdown",
      "id": "00f50df4-0654-4c42-8f0e-9898c8c2cb5f",
      "metadata": {
        "id": "00f50df4-0654-4c42-8f0e-9898c8c2cb5f"
      },
      "source": [
        "### Exercício 02\n",
        "\n",
        "Crie uma função que receba um número como parâmetro, e com uma condicional if/else crie a condição abaixo:\n",
        "\n",
        "* Se o número informado for maior que 0, então retorne **'Positivo'**\n",
        "* Se o número informado for menor que 0, então retorne **'Negativo'**  \n",
        "* Se o número informado for igual a zero, então retorne **'Neutro'**  "
      ]
    },
    {
      "cell_type": "code",
      "execution_count": null,
      "id": "74f75e45-5192-409b-9018-1758f23a2993",
      "metadata": {
        "id": "74f75e45-5192-409b-9018-1758f23a2993"
      },
      "outputs": [],
      "source": [
        "\n",
        "\n"
      ]
    },
    {
      "cell_type": "markdown",
      "id": "14b1f0c5-e100-480c-8187-340f82a9217c",
      "metadata": {
        "id": "14b1f0c5-e100-480c-8187-340f82a9217c"
      },
      "source": [
        "---"
      ]
    },
    {
      "cell_type": "markdown",
      "id": "a046c905-a350-4636-867a-7f7d74541c25",
      "metadata": {
        "id": "a046c905-a350-4636-867a-7f7d74541c25"
      },
      "source": [
        "### Exercício 03\n",
        "\n",
        "Crie uma função que receba um número como parâmetro, e que retorne o dobro do número."
      ]
    },
    {
      "cell_type": "code",
      "execution_count": null,
      "id": "03953933-cf27-436e-8690-84696e05a18f",
      "metadata": {
        "id": "03953933-cf27-436e-8690-84696e05a18f"
      },
      "outputs": [],
      "source": [
        "\n",
        "\n"
      ]
    },
    {
      "cell_type": "markdown",
      "id": "b1c7278b-775b-4ea8-9b37-e985ea9a048b",
      "metadata": {
        "id": "b1c7278b-775b-4ea8-9b37-e985ea9a048b"
      },
      "source": [
        "---"
      ]
    },
    {
      "cell_type": "markdown",
      "id": "a62ae0e4-8e4b-4ba3-8b48-419f787156af",
      "metadata": {
        "id": "a62ae0e4-8e4b-4ba3-8b48-419f787156af"
      },
      "source": [
        "### Exercício 04\n",
        "\n",
        "Crie uma função que receba um texto como parâmetro, e que retorne o texto informado ao contrário."
      ]
    },
    {
      "cell_type": "code",
      "execution_count": null,
      "id": "18882b38-32a7-46a2-8197-64fe9b54efb7",
      "metadata": {
        "id": "18882b38-32a7-46a2-8197-64fe9b54efb7"
      },
      "outputs": [],
      "source": [
        "\n",
        "\n"
      ]
    },
    {
      "cell_type": "markdown",
      "id": "5cbce694-d8e7-4800-a4e0-28b74e9c3d68",
      "metadata": {
        "id": "5cbce694-d8e7-4800-a4e0-28b74e9c3d68"
      },
      "source": [
        "---"
      ]
    },
    {
      "cell_type": "markdown",
      "id": "face8095-6de9-4a8c-9786-e92ac0392fb3",
      "metadata": {
        "id": "face8095-6de9-4a8c-9786-e92ac0392fb3"
      },
      "source": [
        "### Exercício 05\n",
        "\n",
        "Crie uma função que receba um salário como parâmetro, e que retorne o valor do salário mais um reajuste de 10%.\n",
        "\n",
        "**Dica:**  \n",
        "_10% é o equivalente a 0.1_"
      ]
    },
    {
      "cell_type": "code",
      "execution_count": null,
      "id": "5393ada0-98a2-4404-af43-634e0c0202ec",
      "metadata": {
        "id": "5393ada0-98a2-4404-af43-634e0c0202ec"
      },
      "outputs": [],
      "source": [
        "\n",
        "\n"
      ]
    },
    {
      "cell_type": "markdown",
      "id": "bf3cada8-d138-446e-adbc-fead28fea0b1",
      "metadata": {
        "id": "bf3cada8-d138-446e-adbc-fead28fea0b1"
      },
      "source": [
        "---"
      ]
    },
    {
      "cell_type": "markdown",
      "id": "68bba43a-b5b5-41a1-a048-ef6f705bbc3b",
      "metadata": {
        "id": "68bba43a-b5b5-41a1-a048-ef6f705bbc3b"
      },
      "source": [
        "### Exercício 06\n",
        "\n",
        "Crie uma função que receba um texto qualquer, e que retorne todas as letras do texto em maiúsculo."
      ]
    },
    {
      "cell_type": "code",
      "execution_count": null,
      "id": "59ba1653-9af0-4d24-9240-4066cb8d83de",
      "metadata": {
        "id": "59ba1653-9af0-4d24-9240-4066cb8d83de"
      },
      "outputs": [],
      "source": [
        "\n",
        "\n"
      ]
    },
    {
      "cell_type": "markdown",
      "id": "e2a09cd5-c83f-43fd-a96a-84266e74b21c",
      "metadata": {
        "id": "e2a09cd5-c83f-43fd-a96a-84266e74b21c"
      },
      "source": [
        "---"
      ]
    },
    {
      "cell_type": "markdown",
      "id": "bef3877c-7140-498c-8761-7a2c94cfd0bb",
      "metadata": {
        "id": "bef3877c-7140-498c-8761-7a2c94cfd0bb"
      },
      "source": [
        "### Exercício 07\n",
        "\n",
        "Crie uma função que receba quatro notas como parâmetro, em seguida some as quatro notas e retorne a média aritmética, ou seja, divida a soma das quatro notas por quatro."
      ]
    },
    {
      "cell_type": "code",
      "execution_count": null,
      "id": "c14da5dd-463a-4a7e-b92d-76c8b27f4155",
      "metadata": {
        "id": "c14da5dd-463a-4a7e-b92d-76c8b27f4155"
      },
      "outputs": [],
      "source": [
        "\n",
        "\n"
      ]
    },
    {
      "cell_type": "markdown",
      "id": "98275870-4cad-437f-88dd-54890b16e1d4",
      "metadata": {
        "id": "98275870-4cad-437f-88dd-54890b16e1d4"
      },
      "source": [
        "---"
      ]
    },
    {
      "cell_type": "markdown",
      "id": "2df310e8-923a-4eb5-88dc-e07055f60ce6",
      "metadata": {
        "id": "2df310e8-923a-4eb5-88dc-e07055f60ce6"
      },
      "source": [
        "### Exercício 08\n",
        "\n",
        "Crie uma função que receba dois parâmetros, o 1º sendo um nome e o 2º sendo um sobrenome, e que retorne o nome completo da pessoa."
      ]
    },
    {
      "cell_type": "code",
      "execution_count": null,
      "id": "da74073a-01c4-473f-bbc4-76e6f267b6b5",
      "metadata": {
        "id": "da74073a-01c4-473f-bbc4-76e6f267b6b5"
      },
      "outputs": [],
      "source": [
        "\n",
        "\n"
      ]
    },
    {
      "cell_type": "markdown",
      "id": "21dad33b-976a-48ae-9bce-f4ab64274d96",
      "metadata": {
        "id": "21dad33b-976a-48ae-9bce-f4ab64274d96"
      },
      "source": [
        "---"
      ]
    },
    {
      "cell_type": "markdown",
      "id": "c0cedcce-6bfa-49a6-a814-ea6c7baff647",
      "metadata": {
        "id": "c0cedcce-6bfa-49a6-a814-ea6c7baff647"
      },
      "source": [
        "### Exercício 09\n",
        "\n",
        "Crie uma função que receba um número como parâmetro, e em seguida crie uma condicional if/else que retorne se o número informado é divisível por 3 ou não."
      ]
    },
    {
      "cell_type": "code",
      "execution_count": null,
      "id": "4a6b2a37-f55d-4ef6-a6a2-a678d0310036",
      "metadata": {
        "id": "4a6b2a37-f55d-4ef6-a6a2-a678d0310036"
      },
      "outputs": [],
      "source": [
        "\n",
        "\n"
      ]
    },
    {
      "cell_type": "markdown",
      "id": "9bf72d16-1c6f-4023-8961-f69996156532",
      "metadata": {
        "id": "9bf72d16-1c6f-4023-8961-f69996156532"
      },
      "source": [
        "---"
      ]
    },
    {
      "cell_type": "markdown",
      "id": "434120b5-d233-405a-b974-16ffcd7cb0fa",
      "metadata": {
        "id": "434120b5-d233-405a-b974-16ffcd7cb0fa"
      },
      "source": [
        "### Exercício 10\n",
        "\n",
        "Crie uma função que receba três valores como parâmetro, e que retorne uma lista com esses 3 valores passados como argumentos."
      ]
    },
    {
      "cell_type": "code",
      "execution_count": null,
      "id": "9cf9bbcc-3715-46d0-b1ef-7877be199558",
      "metadata": {
        "id": "9cf9bbcc-3715-46d0-b1ef-7877be199558"
      },
      "outputs": [],
      "source": [
        "\n",
        "\n"
      ]
    },
    {
      "cell_type": "markdown",
      "id": "8c7a2a04-a9d6-44b5-a0c2-f9b5dedabf56",
      "metadata": {
        "id": "8c7a2a04-a9d6-44b5-a0c2-f9b5dedabf56"
      },
      "source": [
        "---"
      ]
    },
    {
      "cell_type": "markdown",
      "id": "a92688a3-643c-4585-9913-7eb17a02075a",
      "metadata": {
        "id": "a92688a3-643c-4585-9913-7eb17a02075a"
      },
      "source": [
        "### Exercício 11\n",
        "\n",
        "Crie uma função que receba uma lista de números como parâmetro, e que retorne apenas o maior número da lista.\n",
        "\n",
        "**A lista de números deve ser criada por você.**"
      ]
    },
    {
      "cell_type": "code",
      "execution_count": null,
      "id": "9dfd2e21-bc87-415a-9feb-4535be70ba8f",
      "metadata": {
        "id": "9dfd2e21-bc87-415a-9feb-4535be70ba8f"
      },
      "outputs": [],
      "source": [
        "\n",
        "\n"
      ]
    },
    {
      "cell_type": "markdown",
      "id": "983e51c5-0ccb-4765-85ab-b9aa702591d5",
      "metadata": {
        "id": "983e51c5-0ccb-4765-85ab-b9aa702591d5"
      },
      "source": [
        "---"
      ]
    },
    {
      "cell_type": "markdown",
      "id": "d210d36c-abd9-49bd-ae00-1b87ceb5131d",
      "metadata": {
        "id": "d210d36c-abd9-49bd-ae00-1b87ceb5131d"
      },
      "source": [
        "### Exercício 12\n",
        "\n",
        "Crie uma função que receba dois números como argumentos, sendo:\n",
        "\n",
        "1. O número da **Base**\n",
        "2. O número do **Expoente**\n",
        "\n",
        "\n",
        "Por fim, retorne a **Potência**\n",
        "\n",
        "<img src='https://matematicaproeja.files.wordpress.com/2018/09/termos-potencia.png' style='width: 250px'>"
      ]
    },
    {
      "cell_type": "code",
      "execution_count": null,
      "id": "1ce7db21-9972-40da-a4f3-101faa108f9d",
      "metadata": {
        "id": "1ce7db21-9972-40da-a4f3-101faa108f9d"
      },
      "outputs": [],
      "source": [
        "\n",
        "\n"
      ]
    },
    {
      "cell_type": "markdown",
      "id": "996962ec-928c-4151-8580-52b8237614dd",
      "metadata": {
        "id": "996962ec-928c-4151-8580-52b8237614dd"
      },
      "source": [
        "---"
      ]
    },
    {
      "cell_type": "markdown",
      "id": "07c3d4f5-59e8-4fe5-bb3d-e8066904c807",
      "metadata": {
        "id": "07c3d4f5-59e8-4fe5-bb3d-e8066904c807"
      },
      "source": [
        "### Exercício 13\n",
        "\n",
        "Crie uma função que receba uma lista de números como parâmetro, e que retorne a média dos números.\n",
        "\n",
        "**Dica:**  \n",
        "_Uma das formas de se fazer é utilizando **2 funções**_\n",
        "\n",
        "**A lista de números deve ser criada por você.**"
      ]
    },
    {
      "cell_type": "code",
      "execution_count": null,
      "id": "742d2e5c-33c8-4403-af68-b62a7b616c44",
      "metadata": {
        "tags": [],
        "id": "742d2e5c-33c8-4403-af68-b62a7b616c44"
      },
      "outputs": [],
      "source": [
        "\n",
        "\n"
      ]
    },
    {
      "cell_type": "markdown",
      "id": "498d8be8-dac6-4003-88c6-c24f6d5f3cc3",
      "metadata": {
        "id": "498d8be8-dac6-4003-88c6-c24f6d5f3cc3"
      },
      "source": [
        "---"
      ]
    },
    {
      "cell_type": "markdown",
      "id": "ad7d01c5-2bb2-4ea4-bf36-478185eb0b3b",
      "metadata": {
        "id": "ad7d01c5-2bb2-4ea4-bf36-478185eb0b3b"
      },
      "source": [
        "### Exercício 14\n",
        "\n",
        "Crie uma função que receba dois parâmetros, sendo altura e peso, e em seguida retorne o calculo o IMC (Índice de Massa Corpória):\n",
        "\n",
        "**Formúla:**  \n",
        "_IMC = Peso / (Altura*Altura)_"
      ]
    },
    {
      "cell_type": "code",
      "execution_count": null,
      "id": "bdde9d04-4ec7-4066-8a2f-9bdee7006d6c",
      "metadata": {
        "tags": [],
        "id": "bdde9d04-4ec7-4066-8a2f-9bdee7006d6c"
      },
      "outputs": [],
      "source": [
        "\n",
        "\n"
      ]
    },
    {
      "cell_type": "markdown",
      "id": "71eb643e-a3a7-4dd6-9e4c-b9ddfe65c541",
      "metadata": {
        "id": "71eb643e-a3a7-4dd6-9e4c-b9ddfe65c541"
      },
      "source": [
        "---"
      ]
    },
    {
      "cell_type": "markdown",
      "id": "d85c07d7-eeb4-4684-aaa0-64946902f09b",
      "metadata": {
        "id": "d85c07d7-eeb4-4684-aaa0-64946902f09b"
      },
      "source": [
        "### Exercício 15\n",
        "\n",
        "Crie uma função que receba um número inteiro como parâmetro e em seguida retorne o texto **'Python '** pela quantidade de vezes informada.\n",
        "\n",
        "**Entrada:**  \n",
        "3\n",
        "\n",
        "**Saída:**  \n",
        "'Python Python Python '"
      ]
    },
    {
      "cell_type": "code",
      "execution_count": null,
      "id": "ca6ae957-ce75-4a9d-ae46-b4aeb1c99055",
      "metadata": {
        "tags": [],
        "id": "ca6ae957-ce75-4a9d-ae46-b4aeb1c99055"
      },
      "outputs": [],
      "source": [
        "\n",
        "\n"
      ]
    },
    {
      "cell_type": "markdown",
      "id": "7a8fa322-8f36-484e-bcb1-1edaf13bb29f",
      "metadata": {
        "id": "7a8fa322-8f36-484e-bcb1-1edaf13bb29f"
      },
      "source": [
        "---"
      ]
    },
    {
      "cell_type": "markdown",
      "id": "c2506980-900d-4e9c-aab9-45aac2495940",
      "metadata": {
        "id": "c2506980-900d-4e9c-aab9-45aac2495940"
      },
      "source": [
        "### Exercício 16\n",
        "\n",
        "Crie uma função que receba o valor do peso de uma bagagem como parâmetro e em seguida retorne o custo do despacho:\n",
        "\n",
        "| Peso(Kg) | Custo(R$) |\n",
        "|:--------:|:---------:|\n",
        "| Até 23.9 | Grátis |\n",
        "| Entre 24.0 e 33.9 | 80.00 |\n",
        "| Entre 34.0 e 43.9 | 120.00 |\n",
        "| A partir de 44 | 180.00 |"
      ]
    },
    {
      "cell_type": "code",
      "execution_count": null,
      "id": "04d2671a-9f40-44b5-90a6-756fd0826e94",
      "metadata": {
        "tags": [],
        "id": "04d2671a-9f40-44b5-90a6-756fd0826e94"
      },
      "outputs": [],
      "source": [
        "\n",
        "\n"
      ]
    },
    {
      "cell_type": "markdown",
      "id": "4eff5138-f6af-495d-9fe7-abbd1ec83b8f",
      "metadata": {
        "id": "4eff5138-f6af-495d-9fe7-abbd1ec83b8f"
      },
      "source": [
        "---"
      ]
    },
    {
      "cell_type": "markdown",
      "id": "58a7758e-e2ec-4a9f-87f8-fd6c829d1e6c",
      "metadata": {
        "id": "58a7758e-e2ec-4a9f-87f8-fd6c829d1e6c"
      },
      "source": [
        "### Exercício 17\n",
        "\n",
        "No Brasil, 15 Kg equivale a 1 arroba. Dito isto, faça uma função que receba um valor em Kgs e retorne o valor convertido em arrobas:\n",
        "\n",
        "**Fórmula:**  \n",
        "_@ = Kg / 15_"
      ]
    },
    {
      "cell_type": "code",
      "execution_count": null,
      "id": "7f972e71-9e49-43cb-b72b-8ccbf8a9600d",
      "metadata": {
        "tags": [],
        "id": "7f972e71-9e49-43cb-b72b-8ccbf8a9600d"
      },
      "outputs": [],
      "source": [
        "\n",
        "\n"
      ]
    },
    {
      "cell_type": "markdown",
      "id": "44a0dac0-3092-4374-b050-044e31702a49",
      "metadata": {
        "tags": [],
        "id": "44a0dac0-3092-4374-b050-044e31702a49"
      },
      "source": [
        "---"
      ]
    },
    {
      "cell_type": "markdown",
      "id": "83099ab8-c488-4a85-9a03-408db769603f",
      "metadata": {
        "id": "83099ab8-c488-4a85-9a03-408db769603f"
      },
      "source": [
        "### Exercício 18\n",
        "\n",
        "Crie uma função que receba dois números como argumentos, sendo o 1º o **dividendo** e o 2º o **divisor**, em seguida crie a condição abaixo:\n",
        "\n",
        "* Se o número divisor for igual a 0, então retorne 'Erro: divisão por zero'\n",
        "* Senão retorne o resultado da divisão\n",
        "\n",
        "<img style=\"height:120px\" src=https://www.estudamos.com.br/divisao/elementos-da-divisao.jpg>"
      ]
    },
    {
      "cell_type": "code",
      "execution_count": null,
      "id": "e6b009d5-3ee3-4e07-a007-c767be76c002",
      "metadata": {
        "tags": [],
        "id": "e6b009d5-3ee3-4e07-a007-c767be76c002"
      },
      "outputs": [],
      "source": [
        "\n",
        "\n"
      ]
    },
    {
      "cell_type": "markdown",
      "id": "adcd5076-820c-47c2-966d-e6984de646eb",
      "metadata": {
        "tags": [],
        "id": "adcd5076-820c-47c2-966d-e6984de646eb"
      },
      "source": [
        "---"
      ]
    }
  ],
  "metadata": {
    "kernelspec": {
      "display_name": "Python 3 (ipykernel)",
      "language": "python",
      "name": "python3"
    },
    "language_info": {
      "codemirror_mode": {
        "name": "ipython",
        "version": 3
      },
      "file_extension": ".py",
      "mimetype": "text/x-python",
      "name": "python",
      "nbconvert_exporter": "python",
      "pygments_lexer": "ipython3",
      "version": "3.11.5"
    },
    "colab": {
      "provenance": [],
      "include_colab_link": true
    }
  },
  "nbformat": 4,
  "nbformat_minor": 5
}