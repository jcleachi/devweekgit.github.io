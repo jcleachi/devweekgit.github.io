{
  "cells": [
    {
      "cell_type": "markdown",
      "metadata": {
        "id": "view-in-github",
        "colab_type": "text"
      },
      "source": [
        "<a href=\"https://colab.research.google.com/github/jcleachi/devweekgit.github.io/blob/main/Aula_Listas_Indexa%C3%A7%C3%A3o_negativa.ipynb\" target=\"_parent\"><img src=\"https://colab.research.google.com/assets/colab-badge.svg\" alt=\"Open In Colab\"/></a>"
      ]
    },
    {
      "cell_type": "markdown",
      "id": "3cd982f2-d7be-4d02-9ec6-297a3e06746a",
      "metadata": {
        "id": "3cd982f2-d7be-4d02-9ec6-297a3e06746a"
      },
      "source": [
        "# <font color='OrangeRed'><center>Exercícios - Listas: Indexação negativa</center></font>"
      ]
    },
    {
      "cell_type": "markdown",
      "id": "d3ae6cf6-6fae-4cad-8546-8408f552e772",
      "metadata": {
        "id": "d3ae6cf6-6fae-4cad-8546-8408f552e772"
      },
      "source": [
        "### Exercício 01\n",
        "\n",
        "Utilizando a indexação negativa, imprima o item 'Abacaxi' da lista abaixo"
      ]
    },
    {
      "cell_type": "code",
      "execution_count": null,
      "id": "0bed6b71-d2f5-4958-80a4-d90c4cd647bc",
      "metadata": {
        "id": "0bed6b71-d2f5-4958-80a4-d90c4cd647bc"
      },
      "outputs": [],
      "source": [
        "frutas = ['Maça', 'Banana', 'Jaca', 'Melão', 'Abacaxi', 'Laranja', 'Kiwi']\n",
        "\n"
      ]
    },
    {
      "cell_type": "markdown",
      "id": "88f69baf-e5a3-4e2c-a05a-a51a6096b63a",
      "metadata": {
        "id": "88f69baf-e5a3-4e2c-a05a-a51a6096b63a"
      },
      "source": [
        "---"
      ]
    },
    {
      "cell_type": "markdown",
      "id": "8f55c3cd-9e2a-4158-bf16-e357adcdec65",
      "metadata": {
        "id": "8f55c3cd-9e2a-4158-bf16-e357adcdec65"
      },
      "source": [
        "### Exercício 02\n",
        "\n",
        "Utilizando a indexação negativa, imprima o número 9 da lista abaixo"
      ]
    },
    {
      "cell_type": "code",
      "execution_count": null,
      "id": "66c4138a-c4cd-458a-a562-e48e9c801dde",
      "metadata": {
        "id": "66c4138a-c4cd-458a-a562-e48e9c801dde"
      },
      "outputs": [],
      "source": [
        "numeros = [1, 2, 3, 4, 5, 6, 7, 8, 9, 10]\n",
        "\n"
      ]
    },
    {
      "cell_type": "markdown",
      "id": "d67b85f3-e49f-40a2-bcc0-135cc93dd24e",
      "metadata": {
        "id": "d67b85f3-e49f-40a2-bcc0-135cc93dd24e"
      },
      "source": [
        "---"
      ]
    },
    {
      "cell_type": "markdown",
      "id": "025281f4-0a12-4bbf-8a42-0eedc51195d9",
      "metadata": {
        "id": "025281f4-0a12-4bbf-8a42-0eedc51195d9"
      },
      "source": [
        "### Exercício 03\n",
        "\n",
        "Utilizando a indexação negativa, faça o fatiamento da lista abaixo para retornar apenas esses elementos:\n",
        "\n",
        "> [8, 9, 10]"
      ]
    },
    {
      "cell_type": "code",
      "execution_count": null,
      "id": "5c3ce953-45aa-4a94-8e49-e4015a2518a1",
      "metadata": {
        "id": "5c3ce953-45aa-4a94-8e49-e4015a2518a1"
      },
      "outputs": [],
      "source": [
        "lista = [0, 1, 2, 3, 4, 5, 6, 7, 8, 9, 10]\n",
        "\n"
      ]
    },
    {
      "cell_type": "markdown",
      "id": "6fa7534a-3a8e-499b-9915-d87ce8212c17",
      "metadata": {
        "id": "6fa7534a-3a8e-499b-9915-d87ce8212c17"
      },
      "source": [
        "---"
      ]
    },
    {
      "cell_type": "markdown",
      "id": "23372662-abfd-42bb-8d19-68f03e23dbdd",
      "metadata": {
        "id": "23372662-abfd-42bb-8d19-68f03e23dbdd"
      },
      "source": [
        "### Exercício 04\n",
        "\n",
        "Utilizando a indexação negativa, faça o fatiamento da lista abaixo para retornar apenas esses elementos:\n",
        "\n",
        "> [0, 1, 2, 3, 4, 5, 6]"
      ]
    },
    {
      "cell_type": "code",
      "execution_count": null,
      "id": "f850a43c-6d48-4e8f-a4e9-fc2e2313bfb1",
      "metadata": {
        "id": "f850a43c-6d48-4e8f-a4e9-fc2e2313bfb1"
      },
      "outputs": [],
      "source": [
        "lista = [0, 1, 2, 3, 4, 5, 6, 7, 8, 9, 10]\n",
        "\n",
        "\n"
      ]
    },
    {
      "cell_type": "markdown",
      "id": "947cdd7e-b483-481e-a1b4-7656ef620f23",
      "metadata": {
        "id": "947cdd7e-b483-481e-a1b4-7656ef620f23"
      },
      "source": [
        "---"
      ]
    },
    {
      "cell_type": "markdown",
      "id": "52ce52d3-df9d-4b35-b0d4-1407475a9d03",
      "metadata": {
        "id": "52ce52d3-df9d-4b35-b0d4-1407475a9d03"
      },
      "source": [
        "### Exercício 05\n",
        "\n",
        "Utilizando a indexação negativa, faça o fatiamento da lista abaixo para retornar apenas esses elementos:\n",
        "\n",
        "> ['Maça', 'Banana', 'Jaca', 'Melão']"
      ]
    },
    {
      "cell_type": "code",
      "execution_count": null,
      "id": "5473fd09-0c24-4b58-b068-fd2d3c9ae6bf",
      "metadata": {
        "id": "5473fd09-0c24-4b58-b068-fd2d3c9ae6bf"
      },
      "outputs": [],
      "source": [
        "frutas = ['Maça', 'Banana', 'Jaca', 'Melão', 'Abacaxi', 'Laranja', 'Kiwi']\n",
        "\n",
        "\n"
      ]
    },
    {
      "cell_type": "markdown",
      "id": "92f58fa6-70a1-46bb-9d9a-044f2a1e53c4",
      "metadata": {
        "id": "92f58fa6-70a1-46bb-9d9a-044f2a1e53c4"
      },
      "source": [
        "---"
      ]
    },
    {
      "cell_type": "markdown",
      "id": "91c090fa-66d6-453f-ac28-297d7fd552ef",
      "metadata": {
        "tags": [],
        "id": "91c090fa-66d6-453f-ac28-297d7fd552ef"
      },
      "source": [
        "### Exercício 06\n",
        "\n",
        "Utilizando a indexação negativa, faça um programa que retorne a palavra 'SENAI' da string abaixo:"
      ]
    },
    {
      "cell_type": "code",
      "execution_count": null,
      "id": "b6fa0834-2389-404c-a018-253990cb9ecf",
      "metadata": {
        "id": "b6fa0834-2389-404c-a018-253990cb9ecf"
      },
      "outputs": [],
      "source": [
        "texto = 'IANES'\n",
        "\n",
        "\n"
      ]
    },
    {
      "cell_type": "markdown",
      "id": "06eecbd1-ca75-4262-8125-b4b920be5866",
      "metadata": {
        "id": "06eecbd1-ca75-4262-8125-b4b920be5866"
      },
      "source": [
        "---"
      ]
    },
    {
      "cell_type": "markdown",
      "id": "eb752b5a-d8cd-4fca-aec2-6d1a3d128ee1",
      "metadata": {
        "id": "eb752b5a-d8cd-4fca-aec2-6d1a3d128ee1"
      },
      "source": [
        "### Exercício 07\n",
        "\n",
        "Utilizando a indexação negativa, faça o fatiamento da lista abaixo para retornar apenas esses elementos:\n",
        "\n",
        "> [10, 8, 6, 4, 2, 0]"
      ]
    },
    {
      "cell_type": "code",
      "execution_count": null,
      "id": "94cfe885-0501-4f77-8755-cd9bb0e5b79a",
      "metadata": {
        "id": "94cfe885-0501-4f77-8755-cd9bb0e5b79a"
      },
      "outputs": [],
      "source": [
        "numeros = [0, 1, 2, 3, 4, 5, 6, 7, 8, 9, 10]\n",
        "\n",
        "\n"
      ]
    },
    {
      "cell_type": "markdown",
      "id": "d4ca9e41-619f-44d2-85ff-d05abeb9fa1c",
      "metadata": {
        "id": "d4ca9e41-619f-44d2-85ff-d05abeb9fa1c"
      },
      "source": [
        "---"
      ]
    },
    {
      "cell_type": "markdown",
      "id": "a2a760fc-94be-4c7d-a2e5-070aabfa04ed",
      "metadata": {
        "tags": [],
        "id": "a2a760fc-94be-4c7d-a2e5-070aabfa04ed"
      },
      "source": [
        "### Exercício 08\n",
        "\n",
        "Utilizando a idexação negativa, faça o fatiamento da lista abaixo para retornar apenas os dias de fim de semana:\n",
        "\n",
        "> ['SAB', 'DOM']"
      ]
    },
    {
      "cell_type": "code",
      "execution_count": null,
      "id": "50f86f2c-08c0-48ad-af66-ac618efd94d2",
      "metadata": {
        "tags": [],
        "id": "50f86f2c-08c0-48ad-af66-ac618efd94d2"
      },
      "outputs": [],
      "source": [
        "semana = ['SEG', 'TER', 'QUA', 'QUI', 'SEX', 'SAB', 'DOM']\n",
        "\n",
        "\n"
      ]
    },
    {
      "cell_type": "markdown",
      "id": "dcc0051f-3ee3-433e-a24d-67c4172a850d",
      "metadata": {
        "id": "dcc0051f-3ee3-433e-a24d-67c4172a850d"
      },
      "source": [
        "---"
      ]
    },
    {
      "cell_type": "markdown",
      "id": "e521542e-3cff-474e-aca7-e116c675bea5",
      "metadata": {
        "tags": [],
        "id": "e521542e-3cff-474e-aca7-e116c675bea5"
      },
      "source": [
        "### Exercício 09\n",
        "\n",
        "Os meses do ano que possuem 31 dias são:\n",
        "* Janeiro\n",
        "* Março\n",
        "* Maio\n",
        "* Julho\n",
        "* Agosto\n",
        "* Outubro\n",
        "* Dezembro\n",
        "\n",
        "Dito isto, utilizando a idexação negativa, faça o fatiamento da lista de meses abaixo e retorne apenas os meses do ano que possuem 31 dias, **o retorne do fatiamento não precisa seguir a ordem correta dos meses**"
      ]
    },
    {
      "cell_type": "code",
      "execution_count": null,
      "id": "b7d94a15-b579-404b-9ebc-b4283bbdcba7",
      "metadata": {
        "id": "b7d94a15-b579-404b-9ebc-b4283bbdcba7"
      },
      "outputs": [],
      "source": [
        "meses = ['Agosto', 'Setembro', 'Outubro', 'Novembro', 'Dezembro']\n",
        "\n",
        "\n"
      ]
    },
    {
      "cell_type": "markdown",
      "id": "3fb54c40-ee9f-4b69-91c8-694c122d719b",
      "metadata": {
        "id": "3fb54c40-ee9f-4b69-91c8-694c122d719b"
      },
      "source": [
        "---"
      ]
    },
    {
      "cell_type": "markdown",
      "id": "a2af007f-cbd4-4971-a7ab-019d30064ff1",
      "metadata": {
        "id": "a2af007f-cbd4-4971-a7ab-019d30064ff1"
      },
      "source": [
        "### Exercício 10\n",
        "\n",
        "Utilizando a indexação negativa, faça um programa que retorne apenas o ano da data abaixo"
      ]
    },
    {
      "cell_type": "code",
      "execution_count": null,
      "id": "1970cbb7-fb1e-4b1f-a534-79146d10d1ea",
      "metadata": {
        "id": "1970cbb7-fb1e-4b1f-a534-79146d10d1ea"
      },
      "outputs": [],
      "source": [
        "data = '20/01/1999'\n",
        "\n"
      ]
    },
    {
      "cell_type": "markdown",
      "id": "b4358c66-e5ae-4de2-8e41-8ea4724b8309",
      "metadata": {
        "id": "b4358c66-e5ae-4de2-8e41-8ea4724b8309"
      },
      "source": [
        "---"
      ]
    },
    {
      "cell_type": "markdown",
      "id": "3c1b3aac-8070-4ca9-a612-2772c11d8908",
      "metadata": {
        "id": "3c1b3aac-8070-4ca9-a612-2772c11d8908"
      },
      "source": [
        "### Exercício 11\n",
        "\n",
        "Utilizando a indexação negativa, crie a condição abaixo:\n",
        "\n",
        "* Se a variável **local** terminar com 'SP', então retorne 'Você mora em São Paulo'\n",
        "* Se a variável **local** não terminar com 'SP', então retorne 'Você NÃO mora em São Paulo'"
      ]
    },
    {
      "cell_type": "code",
      "execution_count": null,
      "id": "1251bf0b-41f4-4467-a8ca-91218cda41a4",
      "metadata": {
        "tags": [],
        "id": "1251bf0b-41f4-4467-a8ca-91218cda41a4"
      },
      "outputs": [],
      "source": [
        "local = 'Sorocaba - SP'\n",
        "\n"
      ]
    },
    {
      "cell_type": "markdown",
      "id": "da628fe7-b9e4-41fc-aab4-1b9ece2f50e5",
      "metadata": {
        "id": "da628fe7-b9e4-41fc-aab4-1b9ece2f50e5"
      },
      "source": [
        "---"
      ]
    },
    {
      "cell_type": "markdown",
      "id": "024e0d7a-bfe8-43ca-82df-ea864d4ae5d0",
      "metadata": {
        "id": "024e0d7a-bfe8-43ca-82df-ea864d4ae5d0"
      },
      "source": [
        "### Exercício 12\n",
        "\n",
        "Utilizando a indexação negativa, faça um programa que retorne apenas a palavra 'Python' do texto abaixo"
      ]
    },
    {
      "cell_type": "code",
      "execution_count": null,
      "id": "909d87e4-091d-4805-ba67-766d322db067",
      "metadata": {
        "tags": [],
        "id": "909d87e4-091d-4805-ba67-766d322db067"
      },
      "outputs": [],
      "source": [
        "diretorio = 'C:/Users/Aluno/Desktop/Python/Listas'\n",
        "\n"
      ]
    },
    {
      "cell_type": "markdown",
      "id": "973ef182-7dab-4f69-abcd-9b5c9c2ecae9",
      "metadata": {
        "id": "973ef182-7dab-4f69-abcd-9b5c9c2ecae9"
      },
      "source": [
        "---"
      ]
    }
  ],
  "metadata": {
    "kernelspec": {
      "display_name": "Python 3 (ipykernel)",
      "language": "python",
      "name": "python3"
    },
    "language_info": {
      "codemirror_mode": {
        "name": "ipython",
        "version": 3
      },
      "file_extension": ".py",
      "mimetype": "text/x-python",
      "name": "python",
      "nbconvert_exporter": "python",
      "pygments_lexer": "ipython3",
      "version": "3.11.5"
    },
    "colab": {
      "provenance": [],
      "include_colab_link": true
    }
  },
  "nbformat": 4,
  "nbformat_minor": 5
}