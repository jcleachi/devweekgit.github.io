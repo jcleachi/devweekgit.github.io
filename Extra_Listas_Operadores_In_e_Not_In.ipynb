{
  "cells": [
    {
      "cell_type": "markdown",
      "metadata": {
        "id": "view-in-github",
        "colab_type": "text"
      },
      "source": [
        "<a href=\"https://colab.research.google.com/github/jcleachi/devweekgit.github.io/blob/main/Extra_Listas_Operadores_In_e_Not_In.ipynb\" target=\"_parent\"><img src=\"https://colab.research.google.com/assets/colab-badge.svg\" alt=\"Open In Colab\"/></a>"
      ]
    },
    {
      "cell_type": "markdown",
      "id": "c1fefb80-7e4e-4a7c-94e1-95a1e80a3ed0",
      "metadata": {
        "id": "c1fefb80-7e4e-4a7c-94e1-95a1e80a3ed0"
      },
      "source": [
        "# <font color='OrangeRed'><center>Extra - Listas: Operadores In e Not In</center></font>"
      ]
    },
    {
      "cell_type": "markdown",
      "id": "c0eb066d-7f7b-4add-95dd-4197f814767c",
      "metadata": {
        "tags": [],
        "id": "c0eb066d-7f7b-4add-95dd-4197f814767c"
      },
      "source": [
        "### Exercício 01\n",
        "\n",
        "Utilizando o operador **in**, faça um programa que peça ao usuário digitar um número inteiro e em seguida crie a condição abaixo:\n",
        "\n",
        "* Se o número informado existir na lista, então retorne o número informado convertido para negativo, exemplo: 5 para -5.\n",
        "* Senão retorne 'O número não está presente na lista.'"
      ]
    },
    {
      "cell_type": "code",
      "execution_count": null,
      "id": "85d681c5-3880-4972-9c40-389047f6eaf3",
      "metadata": {
        "id": "85d681c5-3880-4972-9c40-389047f6eaf3"
      },
      "outputs": [],
      "source": [
        "numeros = [1, 2, 3, 4, 5, 6, 7, 8, 9, 10]\n",
        "\n"
      ]
    },
    {
      "cell_type": "markdown",
      "id": "c56044a5-e0df-49a2-90ee-ac4e351de12b",
      "metadata": {
        "id": "c56044a5-e0df-49a2-90ee-ac4e351de12b"
      },
      "source": [
        "---"
      ]
    },
    {
      "cell_type": "markdown",
      "id": "1c119dbe-4ee6-4641-9105-cd091717ff48",
      "metadata": {
        "id": "1c119dbe-4ee6-4641-9105-cd091717ff48"
      },
      "source": [
        "### Exercício 02\n",
        "\n",
        "Utilizando o operador **not in**, faça um programa que peça ao usuário digitar uma **letra** e em seguida crie uma condicional if/else que retorne se a letra está ou não está contido na **palavra** abaixo"
      ]
    },
    {
      "cell_type": "code",
      "execution_count": null,
      "id": "14bbee4e-afab-4ed2-b3b2-cefb00523b42",
      "metadata": {
        "id": "14bbee4e-afab-4ed2-b3b2-cefb00523b42"
      },
      "outputs": [],
      "source": [
        "palavra = 'JavaScript'\n",
        "\n"
      ]
    },
    {
      "cell_type": "markdown",
      "id": "91c14818-6ea2-4281-b055-d8879be51f4a",
      "metadata": {
        "id": "91c14818-6ea2-4281-b055-d8879be51f4a"
      },
      "source": [
        "---"
      ]
    },
    {
      "cell_type": "markdown",
      "id": "5dbb59c4-59fb-4de4-b6f3-798a045ffaa2",
      "metadata": {
        "id": "5dbb59c4-59fb-4de4-b6f3-798a045ffaa2"
      },
      "source": [
        "### Exercício 03\n",
        "\n",
        "Faça um programa que peça para o usuário digitar uma única letra e usando **in** retorne se a letra digitada é uma vogal ou consoante, o programa deve considerar tanto vogais de caixa alta como vogais com caixa baixa"
      ]
    },
    {
      "cell_type": "code",
      "execution_count": null,
      "id": "22af4fb7-c3e2-4ba4-a7d6-539c916bc43c",
      "metadata": {
        "id": "22af4fb7-c3e2-4ba4-a7d6-539c916bc43c"
      },
      "outputs": [],
      "source": [
        "\n",
        "\n"
      ]
    },
    {
      "cell_type": "markdown",
      "id": "ba97b532-9790-489d-bb23-1f4e75b2e7b2",
      "metadata": {
        "id": "ba97b532-9790-489d-bb23-1f4e75b2e7b2"
      },
      "source": [
        "---"
      ]
    },
    {
      "cell_type": "markdown",
      "id": "5ae78251-7c7e-4f4a-a12b-5c84da02607f",
      "metadata": {
        "id": "5ae78251-7c7e-4f4a-a12b-5c84da02607f"
      },
      "source": [
        "### Exercício 04\n",
        "\n",
        "Utilizando o operador **not in**, faça um programa que peça ao usuário digitar um número e em seguida crie uma condicional if/else que retorne se o número informado está ou não está contido na lista abaixo"
      ]
    },
    {
      "cell_type": "code",
      "execution_count": null,
      "id": "92fe804f-da81-4b88-a53c-7c3bc687720e",
      "metadata": {
        "id": "92fe804f-da81-4b88-a53c-7c3bc687720e"
      },
      "outputs": [],
      "source": [
        "numeros = [11, 12, 13, 14, 15, 16, 17, 18, 19, 20]\n",
        "\n"
      ]
    },
    {
      "cell_type": "markdown",
      "id": "9cd5f791-afe0-4bf6-b2ca-8d89dcb24fa4",
      "metadata": {
        "id": "9cd5f791-afe0-4bf6-b2ca-8d89dcb24fa4"
      },
      "source": [
        "---"
      ]
    },
    {
      "cell_type": "markdown",
      "id": "700b417c-f62e-4178-88ea-a246b0db7d55",
      "metadata": {
        "id": "700b417c-f62e-4178-88ea-a246b0db7d55"
      },
      "source": [
        "### Exercício 05\n",
        "\n",
        "Utilizando o operador **not in**, faça um programa que peça ao usuário digitar um número inteiro e em seguida crie a condição abaixo:\n",
        "\n",
        "* Se o número informado não existir na lista, então use um método para adicioná-lo na lista\n",
        "* Senão não faça nada\n",
        "\n",
        "Por fim, imprima a lista de números."
      ]
    },
    {
      "cell_type": "code",
      "execution_count": null,
      "id": "fcfbc863-2687-4508-a103-85052be4de8a",
      "metadata": {
        "id": "fcfbc863-2687-4508-a103-85052be4de8a"
      },
      "outputs": [],
      "source": [
        "numeros = [1, 3, 5, 7, 9]\n",
        "\n"
      ]
    },
    {
      "cell_type": "markdown",
      "id": "43687665-95b0-4e25-8e93-2cf5d6cb2a32",
      "metadata": {
        "id": "43687665-95b0-4e25-8e93-2cf5d6cb2a32"
      },
      "source": [
        "---"
      ]
    },
    {
      "cell_type": "markdown",
      "id": "6e1154c4-e85f-4105-9b63-fd3f6ce9411f",
      "metadata": {
        "id": "6e1154c4-e85f-4105-9b63-fd3f6ce9411f"
      },
      "source": [
        "### Exercício 06\n",
        "\n",
        "Utilizando o operador **in**, faça um programa que peça ao usuário digitar um nome e em seguida crie a condição abaixo:\n",
        "\n",
        "* Se o nome informado existir na lista, então use um método para removê-lo da lista\n",
        "* Se o nome informado não existir na lista, então use um método para adicioná-lo da lista\n",
        "\n",
        "Por fim, imprima a lista de nomes."
      ]
    },
    {
      "cell_type": "code",
      "execution_count": null,
      "id": "4e9ddcdf-3c70-43fe-85a0-440abfc74e67",
      "metadata": {
        "id": "4e9ddcdf-3c70-43fe-85a0-440abfc74e67"
      },
      "outputs": [],
      "source": [
        "nomes = ['José', 'Pedro', 'Paulo', 'João', 'Maria', 'Cláudia', 'Márcia', 'Joana']\n",
        "\n"
      ]
    },
    {
      "cell_type": "markdown",
      "id": "a383a306-a2e3-46fb-bdd8-b1c05b35e60a",
      "metadata": {
        "id": "a383a306-a2e3-46fb-bdd8-b1c05b35e60a"
      },
      "source": [
        "---"
      ]
    },
    {
      "cell_type": "markdown",
      "id": "0323b09d-62af-4b64-9b53-b1f51f1214a7",
      "metadata": {
        "id": "0323b09d-62af-4b64-9b53-b1f51f1214a7"
      },
      "source": [
        "### Exercício 07\n",
        "\n",
        "Utilizando o operador **in**, faça um programa que peça ao usuário digitar um número inteiro e em seguida crie a condição abaixo:\n",
        "\n",
        "* Se o nome informado existir na lista, então use um método que retorne em qual posição da lista o número foi encontrado, por exemplo:\n",
        "    * O número 5 está presente na lista na posição 0.\n",
        "* Senão retorne 'O número não está presente na lista.'\n",
        "\n",
        "Por fim, imprima a lista de nomes."
      ]
    },
    {
      "cell_type": "code",
      "execution_count": null,
      "id": "25aec523-c765-4c59-a76c-dca8195eef4a",
      "metadata": {
        "id": "25aec523-c765-4c59-a76c-dca8195eef4a"
      },
      "outputs": [],
      "source": [
        "numeros = [5, 6, 3, 8, 1, 2, 7, 4, 9]\n",
        "\n"
      ]
    },
    {
      "cell_type": "markdown",
      "id": "e4672aa8-7c3d-41ba-91bb-f15220d9c505",
      "metadata": {
        "id": "e4672aa8-7c3d-41ba-91bb-f15220d9c505"
      },
      "source": [
        "---"
      ]
    },
    {
      "cell_type": "markdown",
      "id": "882ae1e1-e74f-41ee-b01e-269f7ce0c8bf",
      "metadata": {
        "id": "882ae1e1-e74f-41ee-b01e-269f7ce0c8bf"
      },
      "source": [
        "### Exercício 08\n",
        "\n",
        "Utilizando o operador **in**, faça um programa que peça ao usuário digitar uma palavra e em seguida crie a condição abaixo:\n",
        "\n",
        "* Se o palavra informada existir na lista, então use um método para retornar a quantidade de vezes que a palavra parece no texto abaixo\n",
        "* Senão retorne 'palavra não encontrata.'\n",
        "\n",
        "Por fim, imprima a lista de nomes."
      ]
    },
    {
      "cell_type": "code",
      "execution_count": null,
      "id": "2e01a609-3467-47eb-a93c-708cfe01d0c3",
      "metadata": {
        "id": "2e01a609-3467-47eb-a93c-708cfe01d0c3"
      },
      "outputs": [],
      "source": [
        "texto = ''' O Serviço Nacional de Aprendizagem Industrial (SENAI) tem como objetivo estimular\n",
        "a inovação industrial por meio da educação, consultoria, pesquisa aplicada e serviços técnicos\n",
        "e tecnológicos que são decisivos para a competitividade das empresas do Estado e do Brasil. '''\n",
        "\n",
        "\n"
      ]
    },
    {
      "cell_type": "markdown",
      "id": "10bded6a-12b6-421e-88f4-032d195da56f",
      "metadata": {
        "id": "10bded6a-12b6-421e-88f4-032d195da56f"
      },
      "source": [
        "---"
      ]
    },
    {
      "cell_type": "markdown",
      "id": "01511ca1-e831-4aa9-a46a-582390f2f5ef",
      "metadata": {
        "id": "01511ca1-e831-4aa9-a46a-582390f2f5ef"
      },
      "source": [
        "### Exercício 09\n",
        "\n",
        "Utilizando o operador **in**, faça um programa que peça ao usuário digitar um número inteiro e em seguida crie a condição abaixo:\n",
        "\n",
        "* Se o número informado existir na lista **E** e se o número for par, então retorne o número informado divido por 2.\n",
        "* Se o número informado existir na lista **E** e se o número for ímpar, então retorne o número informado multiplicado por 2.\n",
        "* Senão retorne 'O número não está presente na lista.'"
      ]
    },
    {
      "cell_type": "code",
      "execution_count": null,
      "id": "404bef41-7d43-4657-89dd-ba87da903800",
      "metadata": {
        "id": "404bef41-7d43-4657-89dd-ba87da903800"
      },
      "outputs": [],
      "source": [
        "numeros = [1, 2, 3, 4, 5, 6, 7, 8, 9]\n",
        "\n",
        "\n"
      ]
    },
    {
      "cell_type": "markdown",
      "id": "01d1feb8-a8c7-4962-9918-d9dc420aff6b",
      "metadata": {
        "id": "01d1feb8-a8c7-4962-9918-d9dc420aff6b"
      },
      "source": [
        "---"
      ]
    },
    {
      "cell_type": "markdown",
      "id": "ca32803d-1fa2-4004-ab02-64395ab14915",
      "metadata": {
        "id": "ca32803d-1fa2-4004-ab02-64395ab14915"
      },
      "source": [
        "### Exercício 10\n",
        "\n",
        "Utilizando o operador **not in**, faça um programa que peça ao usuário digitar um nome em seguida crie uma condicional if/else que retorne se a fruta está ou não está contido na lista abaixo"
      ]
    },
    {
      "cell_type": "code",
      "execution_count": null,
      "id": "f664e274-5f3f-48c0-a77c-7d729b0c962b",
      "metadata": {
        "id": "f664e274-5f3f-48c0-a77c-7d729b0c962b"
      },
      "outputs": [],
      "source": [
        "nomes = ['José', 'Pedro', 'Paulo', 'João', 'Maria', 'Cláudia', 'Márcia', 'Joana']\n",
        "\n"
      ]
    },
    {
      "cell_type": "markdown",
      "id": "601bcfd6-fa07-49e1-9049-0719d71d5dde",
      "metadata": {
        "id": "601bcfd6-fa07-49e1-9049-0719d71d5dde"
      },
      "source": [
        "---"
      ]
    },
    {
      "cell_type": "markdown",
      "id": "a900dda3-fee6-415a-b14b-30495726da9b",
      "metadata": {
        "id": "a900dda3-fee6-415a-b14b-30495726da9b"
      },
      "source": [
        "### Exercício 11\n",
        "\n",
        "O SKU de produto é utilizado para facilitar a identicação dos protudos. Segue abaixo alguns exemplos de SKU:\n",
        "\n",
        "| SKU | Cor |\n",
        "|:---:|:---:|\n",
        "| ALG40BRA | Branco |\n",
        "| ALG40PRE | Preto |\n",
        "| ALG40AMA | Amarelo |\n",
        "| ALG40AZU | Azul |\n",
        "\n",
        "Dito isto, faça um programa que peça para o usuário digitar um SKU e em seguida identifique a cor do produto, sendo:\n",
        "\n",
        "* Se o valor digitador conter o texto ALG40 **E** conter texto BRA então retorne 'Cor: Branco'\n",
        "* Se o valor digitador conter o texto ALG40 **E** conter texto PRE então retorne 'Cor: Preto'\n",
        "* Se o valor digitador conter o texto ALG40 **E** conter texto AMA então retorne 'Cor: Amarelo'\n",
        "* Se o valor digitador conter o texto ALG40 **E** conter texto AZU então retorne 'Cor: Azul'\n",
        "* Senão retorne 'SKU inválido'"
      ]
    },
    {
      "cell_type": "code",
      "execution_count": null,
      "id": "7eecdb48-1d6b-4f7e-9466-6851e33a3d2e",
      "metadata": {
        "id": "7eecdb48-1d6b-4f7e-9466-6851e33a3d2e"
      },
      "outputs": [],
      "source": [
        "\n",
        "\n"
      ]
    },
    {
      "cell_type": "markdown",
      "id": "1519316f-f202-4739-b915-6afeef46d3d9",
      "metadata": {
        "id": "1519316f-f202-4739-b915-6afeef46d3d9"
      },
      "source": [
        "---"
      ]
    }
  ],
  "metadata": {
    "kernelspec": {
      "display_name": "Python 3 (ipykernel)",
      "language": "python",
      "name": "python3"
    },
    "language_info": {
      "codemirror_mode": {
        "name": "ipython",
        "version": 3
      },
      "file_extension": ".py",
      "mimetype": "text/x-python",
      "name": "python",
      "nbconvert_exporter": "python",
      "pygments_lexer": "ipython3",
      "version": "3.11.5"
    },
    "colab": {
      "provenance": [],
      "include_colab_link": true
    }
  },
  "nbformat": 4,
  "nbformat_minor": 5
}