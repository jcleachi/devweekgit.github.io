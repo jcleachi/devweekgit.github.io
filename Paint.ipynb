{
  "cells": [
    {
      "cell_type": "markdown",
      "metadata": {
        "id": "view-in-github",
        "colab_type": "text"
      },
      "source": [
        "<a href=\"https://colab.research.google.com/github/jcleachi/devweekgit.github.io/blob/main/Paint.ipynb\" target=\"_parent\"><img src=\"https://colab.research.google.com/assets/colab-badge.svg\" alt=\"Open In Colab\"/></a>"
      ]
    },
    {
      "cell_type": "markdown",
      "id": "24fd5dc0-c9e2-45e8-b034-aa883e225501",
      "metadata": {
        "id": "24fd5dc0-c9e2-45e8-b034-aa883e225501"
      },
      "source": [
        "### Desenhar no Paint\n",
        "\n",
        "Deixe o Paint aberto e execute o código abaixo"
      ]
    },
    {
      "cell_type": "code",
      "execution_count": null,
      "id": "028fbc58-feab-41ce-be92-2a40b1f5f3d0",
      "metadata": {
        "id": "028fbc58-feab-41ce-be92-2a40b1f5f3d0"
      },
      "outputs": [],
      "source": [
        "import pyautogui\n",
        "import pyperclip\n",
        "import time"
      ]
    },
    {
      "cell_type": "code",
      "execution_count": null,
      "id": "2de0d2cd-6691-4e78-be15-4e82ecffb600",
      "metadata": {
        "id": "2de0d2cd-6691-4e78-be15-4e82ecffb600"
      },
      "outputs": [],
      "source": [
        "time.sleep(3)\n",
        "\n",
        "distance = 200\n",
        "while distance > 0:\n",
        "    pyautogui.drag(distance, 0, duration=0.5)   # move right\n",
        "    distance -= 5\n",
        "    pyautogui.drag(0, distance, duration=0.5)   # move down\n",
        "    pyautogui.drag(-distance, 0, duration=0.5)  # move left\n",
        "    distance -= 5\n",
        "    pyautogui.drag(0, -distance, duration=0.5)  # move up"
      ]
    },
    {
      "cell_type": "code",
      "execution_count": null,
      "id": "f9525443-a779-4acf-9d90-03046afe0f31",
      "metadata": {
        "id": "f9525443-a779-4acf-9d90-03046afe0f31"
      },
      "outputs": [],
      "source": [
        "time.sleep(3)\n",
        "\n",
        "distancia = 0\n",
        "while distancia < 50:\n",
        "    pyautogui.drag(distancia, 0, duration=0.5)   # move right\n",
        "    distancia += 5\n",
        "    pyautogui.drag(0, distancia, duration=0.5)   # move down\n",
        "    pyautogui.drag(-distancia, 0, duration=0.5)  # move left\n",
        "    distancia += 5\n",
        "    pyautogui.drag(0, -distancia, duration=0.5)  # move up"
      ]
    }
  ],
  "metadata": {
    "kernelspec": {
      "display_name": "Python 3 (ipykernel)",
      "language": "python",
      "name": "python3"
    },
    "language_info": {
      "codemirror_mode": {
        "name": "ipython",
        "version": 3
      },
      "file_extension": ".py",
      "mimetype": "text/x-python",
      "name": "python",
      "nbconvert_exporter": "python",
      "pygments_lexer": "ipython3",
      "version": "3.11.5"
    },
    "colab": {
      "provenance": [],
      "include_colab_link": true
    }
  },
  "nbformat": 4,
  "nbformat_minor": 5
}