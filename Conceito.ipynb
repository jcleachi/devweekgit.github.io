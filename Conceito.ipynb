{
  "cells": [
    {
      "cell_type": "markdown",
      "metadata": {
        "id": "view-in-github",
        "colab_type": "text"
      },
      "source": [
        "<a href=\"https://colab.research.google.com/github/jcleachi/devweekgit.github.io/blob/main/Conceito.ipynb\" target=\"_parent\"><img src=\"https://colab.research.google.com/assets/colab-badge.svg\" alt=\"Open In Colab\"/></a>"
      ]
    },
    {
      "cell_type": "code",
      "execution_count": null,
      "id": "f5f565ae-2aab-464f-9f81-7dfa0efb74a8",
      "metadata": {
        "tags": [],
        "id": "f5f565ae-2aab-464f-9f81-7dfa0efb74a8",
        "outputId": "b03c2d5b-ebe2-4e57-c841-979e6c90e15b"
      },
      "outputs": [
        {
          "name": "stdout",
          "output_type": "stream",
          "text": [
            "O valor da variável a é {a} e o valor da variável b é {b}.\n",
            "O valor da variável a é 3 e o valor da variável b é 7.\n"
          ]
        }
      ],
      "source": [
        "a = 3\n",
        "b = 7\n",
        "\n",
        "print('O valor da variável a é {a} e o valor da variável b é {b}.')\n",
        "print(f'O valor da variável a é {a} e o valor da variável b é {b}.')"
      ]
    },
    {
      "cell_type": "code",
      "execution_count": null,
      "id": "ae6bd720-29df-4320-81a5-8a401b1967eb",
      "metadata": {
        "tags": [],
        "id": "ae6bd720-29df-4320-81a5-8a401b1967eb",
        "outputId": "a70c56a8-84f0-415b-ff9a-d38a12adcab5"
      },
      "outputs": [
        {
          "name": "stdout",
          "output_type": "stream",
          "text": [
            "3 + 7 = 10\n",
            "3 + 7 = 10\n"
          ]
        }
      ],
      "source": [
        "a = 3\n",
        "b = 7\n",
        "c = a + b\n",
        "\n",
        "print(f'{a} + {b} = {a + b}')\n",
        "\n",
        "print(f'{a} + {b} = {c}')\n",
        "\n"
      ]
    },
    {
      "cell_type": "code",
      "execution_count": null,
      "id": "0990d53f-5143-406f-8876-3b22f598079b",
      "metadata": {
        "tags": [],
        "id": "0990d53f-5143-406f-8876-3b22f598079b"
      },
      "outputs": [],
      "source": [
        "nome = input('Digite o seu nome:')\n",
        "\n",
        "\n",
        "print(f'O meu nome é {nome}.')"
      ]
    },
    {
      "cell_type": "code",
      "execution_count": null,
      "id": "b78c29da-8774-4250-8092-fa6366787443",
      "metadata": {
        "tags": [],
        "id": "b78c29da-8774-4250-8092-fa6366787443",
        "outputId": "6da8c903-b241-4072-9849-b84919ab5721"
      },
      "outputs": [
        {
          "name": "stdout",
          "output_type": "stream",
          "text": [
            "25/12/2020\n",
            "2020-12-25\n",
            "25 do 12 de 2020\n"
          ]
        }
      ],
      "source": [
        "dia = 25\n",
        "mes = 12\n",
        "ano = 2020\n",
        "\n",
        "print(f'{dia}/{mes}/{ano}')\n",
        "print(f'{ano}-{mes}-{dia}')\n",
        "print(f'{dia} do {mes} de {ano}')"
      ]
    },
    {
      "cell_type": "code",
      "execution_count": null,
      "id": "19be6c0c-d608-46f9-ba4b-cd72161aaa6a",
      "metadata": {
        "tags": [],
        "id": "19be6c0c-d608-46f9-ba4b-cd72161aaa6a",
        "outputId": "aa0cc9b4-6129-4b83-b0c0-fed4089bb8f3"
      },
      "outputs": [
        {
          "name": "stdin",
          "output_type": "stream",
          "text": [
            "Digite o seu nome: Thiago\n",
            "Digite o seu sobrenome: Ferreira Lucas\n"
          ]
        },
        {
          "name": "stdout",
          "output_type": "stream",
          "text": [
            "O meu nome é Thiago Ferreira Lucas.\n"
          ]
        }
      ],
      "source": [
        "nome = input('Digite o seu nome:')\n",
        "sobrenome = input('Digite o seu sobrenome:')\n",
        "\n",
        "print(f'O meu nome completo é {nome} {sobrenome}.')"
      ]
    },
    {
      "cell_type": "code",
      "execution_count": null,
      "id": "dd05c6b2-0491-4c3e-8e04-447ac74e801b",
      "metadata": {
        "id": "dd05c6b2-0491-4c3e-8e04-447ac74e801b"
      },
      "outputs": [],
      "source": [
        "# Números com casas decimais\n",
        "\n",
        "a = 1.5\n",
        "b = 2.99\n",
        "c = 10.456"
      ]
    },
    {
      "cell_type": "code",
      "execution_count": null,
      "id": "4f4c3284-e98c-4e94-87b5-edde4f294e0f",
      "metadata": {
        "tags": [],
        "id": "4f4c3284-e98c-4e94-87b5-edde4f294e0f",
        "outputId": "0fac9a86-e3a8-4d5b-fe2b-7443148145ac"
      },
      "outputs": [
        {
          "name": "stdout",
          "output_type": "stream",
          "text": [
            "1.1234\n",
            "1.1234\n",
            "1.1234\n",
            "1.1234\n",
            "1.1234\n",
            "+1\n",
            "1.1235\n",
            "1.1235\n",
            "1.1235\n",
            "1.1235\n",
            "1.1235\n"
          ]
        }
      ],
      "source": [
        "print(f'{1.12340:.4f}')\n",
        "print(f'{1.12341:.4f}')\n",
        "print(f'{1.12342:.4f}')\n",
        "print(f'{1.12343:.4f}')\n",
        "print(f'{1.12344:.4f}')\n",
        "print('+1')\n",
        "print(f'{1.12345:.4f}')\n",
        "print(f'{1.12346:.4f}')\n",
        "print(f'{1.12347:.4f}')\n",
        "print(f'{1.12348:.4f}')\n",
        "print(f'{1.12349:.4f}')"
      ]
    },
    {
      "cell_type": "code",
      "execution_count": null,
      "id": "c7903d3d-9036-4792-9222-b1625aa676a3",
      "metadata": {
        "tags": [],
        "id": "c7903d3d-9036-4792-9222-b1625aa676a3",
        "outputId": "df5630c9-c015-4d58-c6d1-0d620ceca7a1"
      },
      "outputs": [
        {
          "name": "stdout",
          "output_type": "stream",
          "text": [
            "10 dividido por 3 é 3.3333333333333335\n",
            "10 dividido por 3 é 3.33\n"
          ]
        }
      ],
      "source": [
        "divisao = 10 / 3\n",
        "\n",
        "print(f'10 dividido por 3 é {divisao}')\n",
        "\n",
        "print(f'10 dividido por 3 é {divisao:.2f}')"
      ]
    },
    {
      "cell_type": "code",
      "execution_count": null,
      "id": "f90228ea-57f7-40b3-bd55-d80809c70386",
      "metadata": {
        "tags": [],
        "id": "f90228ea-57f7-40b3-bd55-d80809c70386",
        "outputId": "6156514b-329f-418c-9388-86332213aa8a"
      },
      "outputs": [
        {
          "name": "stdout",
          "output_type": "stream",
          "text": [
            "Texto\n",
            "com múltiplas\n",
            "linhas\n"
          ]
        }
      ],
      "source": [
        "texto_aspas_simples = '''Texto\n",
        "com múltiplas\n",
        "linhas'''\n",
        "\n",
        "print(texto_aspas_simples)"
      ]
    },
    {
      "cell_type": "code",
      "execution_count": null,
      "id": "ee569dc7-36d1-477b-b1d2-1307362c6473",
      "metadata": {
        "tags": [],
        "id": "ee569dc7-36d1-477b-b1d2-1307362c6473",
        "outputId": "9437d948-6f0b-47e4-9d0d-e9cb2967bd40"
      },
      "outputs": [
        {
          "name": "stdout",
          "output_type": "stream",
          "text": [
            "Texto\n",
            "com múltiplas\n",
            "linhas\n"
          ]
        }
      ],
      "source": [
        "texto_aspas_duplas = \"\"\"Texto\n",
        "com múltiplas\n",
        "linhas\"\"\"\n",
        "\n",
        "print(texto_aspas_duplas)"
      ]
    },
    {
      "cell_type": "code",
      "execution_count": null,
      "id": "66270798-d569-4688-a0e4-94fc403367bc",
      "metadata": {
        "tags": [],
        "id": "66270798-d569-4688-a0e4-94fc403367bc",
        "outputId": "38959779-d613-4e93-b02c-500b03bc09b0"
      },
      "outputs": [
        {
          "name": "stdout",
          "output_type": "stream",
          "text": [
            "Meses do ano:\n",
            "1º Janeiro\n",
            "2º Fevereiro\n",
            "3º Março\n",
            "\n"
          ]
        }
      ],
      "source": [
        "mes1= 'Janeiro'\n",
        "mes2= 'Fevereiro'\n",
        "mes3= 'Março'\n",
        "\n",
        "print(f'''Meses do ano:\n",
        "1º {mes1}\n",
        "2º {mes2}\n",
        "3º {mes3}\n",
        "''')"
      ]
    }
  ],
  "metadata": {
    "kernelspec": {
      "display_name": "Python 3 (ipykernel)",
      "language": "python",
      "name": "python3"
    },
    "language_info": {
      "codemirror_mode": {
        "name": "ipython",
        "version": 3
      },
      "file_extension": ".py",
      "mimetype": "text/x-python",
      "name": "python",
      "nbconvert_exporter": "python",
      "pygments_lexer": "ipython3",
      "version": "3.11.5"
    },
    "colab": {
      "provenance": [],
      "include_colab_link": true
    }
  },
  "nbformat": 4,
  "nbformat_minor": 5
}