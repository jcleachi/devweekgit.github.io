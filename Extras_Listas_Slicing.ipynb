{
  "cells": [
    {
      "cell_type": "markdown",
      "metadata": {
        "id": "view-in-github",
        "colab_type": "text"
      },
      "source": [
        "<a href=\"https://colab.research.google.com/github/jcleachi/devweekgit.github.io/blob/main/Extras_Listas_Slicing.ipynb\" target=\"_parent\"><img src=\"https://colab.research.google.com/assets/colab-badge.svg\" alt=\"Open In Colab\"/></a>"
      ]
    },
    {
      "cell_type": "markdown",
      "id": "83778c0a-b368-4660-a81f-3a0bd1789ad3",
      "metadata": {
        "id": "83778c0a-b368-4660-a81f-3a0bd1789ad3"
      },
      "source": [
        "# <font color='OrangeRed'><center>Extras - Listas: Slicing<br>Respostas</center></font>"
      ]
    },
    {
      "cell_type": "markdown",
      "id": "1d4e075f-5243-40b7-87a8-f746f6d56d5b",
      "metadata": {
        "id": "1d4e075f-5243-40b7-87a8-f746f6d56d5b"
      },
      "source": [
        "## Slicling\n",
        "\n",
        ">Lista[ **Início : Fim : Passo** ]"
      ]
    },
    {
      "cell_type": "markdown",
      "id": "bcd721bd-0f76-4b48-9eef-f9e0c100323c",
      "metadata": {
        "id": "bcd721bd-0f76-4b48-9eef-f9e0c100323c"
      },
      "source": [
        "---"
      ]
    },
    {
      "cell_type": "markdown",
      "id": "aae7f8ce-2efe-4120-bf00-8c5a82936535",
      "metadata": {
        "id": "aae7f8ce-2efe-4120-bf00-8c5a82936535"
      },
      "source": [
        "### Exercíco 01\n",
        "\n",
        "Faça um programa que peça para o usuário digitar o número 1 ou o número 2 e crie a condição abaixo:\n",
        "\n",
        "* Se o usuário digitar o número 1, então imprima somente os números pares da lista abaixo\n",
        "* Se o usuário digitar o número 2, então imprima somente os números ímpares da lista abaixo\n",
        "* Senão retorne 'Número inválido, operação cancelada'"
      ]
    },
    {
      "cell_type": "code",
      "execution_count": null,
      "id": "bcba26eb-fdf0-4d1c-bf97-fa56b0f81463",
      "metadata": {
        "id": "bcba26eb-fdf0-4d1c-bf97-fa56b0f81463"
      },
      "outputs": [],
      "source": [
        "numeros = [0, 1, 2, 3, 4, 5, 6, 7, 8, 9]\n",
        "\n"
      ]
    },
    {
      "cell_type": "markdown",
      "id": "1d7aa4aa-2825-41c3-a006-a5f0375f72e7",
      "metadata": {
        "id": "1d7aa4aa-2825-41c3-a006-a5f0375f72e7"
      },
      "source": [
        "---"
      ]
    },
    {
      "cell_type": "markdown",
      "id": "dedc0a3b-840b-4825-b138-6cec6ea284dd",
      "metadata": {
        "tags": [],
        "id": "dedc0a3b-840b-4825-b138-6cec6ea284dd"
      },
      "source": [
        "### Exercício 02\n",
        "\n",
        "Utilizando a operação de slicing, faça o fatiamento da string abaixo para retornar apenas esses caracteres:\n",
        "\n",
        "> 'Luiz Pagliato'"
      ]
    },
    {
      "cell_type": "code",
      "execution_count": null,
      "id": "19aba72e-ca92-4cb6-b6ce-b4b20daa6ba3",
      "metadata": {
        "id": "19aba72e-ca92-4cb6-b6ce-b4b20daa6ba3"
      },
      "outputs": [],
      "source": [
        "texto = 'Escola SENAI Luiz Pagliato'\n",
        "\n",
        "\n"
      ]
    },
    {
      "cell_type": "markdown",
      "id": "6525bd95-8c8e-47de-9601-9cd87bc5854d",
      "metadata": {
        "id": "6525bd95-8c8e-47de-9601-9cd87bc5854d"
      },
      "source": [
        "---"
      ]
    },
    {
      "cell_type": "markdown",
      "id": "d5b84b92-9315-43da-a7cd-5122af9cae58",
      "metadata": {
        "id": "d5b84b92-9315-43da-a7cd-5122af9cae58"
      },
      "source": [
        "### Exercício 03\n",
        "\n",
        "Utilizando a operação de slicing, faça o fatiamento da string abaixo para retornar apenas esses caracteres:\n",
        "\n",
        "> 'Escola'"
      ]
    },
    {
      "cell_type": "code",
      "execution_count": null,
      "id": "3c6152f4-14e7-499b-9731-03762eec1865",
      "metadata": {
        "id": "3c6152f4-14e7-499b-9731-03762eec1865"
      },
      "outputs": [],
      "source": [
        "texto = 'Escola SENAI Luiz Pagliato'\n",
        "\n",
        "\n"
      ]
    },
    {
      "cell_type": "markdown",
      "id": "4c14a631-d7e8-4145-9a2e-bdf29201f967",
      "metadata": {
        "id": "4c14a631-d7e8-4145-9a2e-bdf29201f967"
      },
      "source": [
        "---"
      ]
    },
    {
      "cell_type": "markdown",
      "id": "20bcf269-1c33-4bfa-86cf-ee23eafe303d",
      "metadata": {
        "id": "20bcf269-1c33-4bfa-86cf-ee23eafe303d"
      },
      "source": [
        "### Exercício 04\n",
        "\n",
        "Utilizando a operação de slicing, faça o fatiamento da string abaixo para retornar apenas esses caracteres:\n",
        "\n",
        "> 'SENAI'"
      ]
    },
    {
      "cell_type": "code",
      "execution_count": null,
      "id": "37a91880-a8ce-41ea-9b94-3f7669ac0150",
      "metadata": {
        "id": "37a91880-a8ce-41ea-9b94-3f7669ac0150"
      },
      "outputs": [],
      "source": [
        "texto = 'Escola SENAI Luiz Pagliato'\n",
        "\n",
        "\n"
      ]
    },
    {
      "cell_type": "markdown",
      "id": "bbba9f93-367d-4a5e-a08f-eef0a57c7c34",
      "metadata": {
        "id": "bbba9f93-367d-4a5e-a08f-eef0a57c7c34"
      },
      "source": [
        "---"
      ]
    },
    {
      "cell_type": "markdown",
      "id": "61a54a87-e5ab-4c60-a76b-80224103d4d1",
      "metadata": {
        "id": "61a54a87-e5ab-4c60-a76b-80224103d4d1"
      },
      "source": [
        "### Exercício 05\n",
        "\n",
        "Utilizando a operação de slicing, faça um programa que peça ao usuário digitar um número entre 0 a 10 e em seguida use o número como parâmetro de **início** e imprima o resultado\n",
        "\n",
        "**Exemplo:**  \n",
        "Se o usuário digitar 5 o retorno deverá ser: [5, 6, 7, 8, 9, 10]\n"
      ]
    },
    {
      "cell_type": "code",
      "execution_count": null,
      "id": "9f0838e5-0a7a-4594-8a0a-10dee9a636ea",
      "metadata": {
        "jp-MarkdownHeadingCollapsed": true,
        "tags": [],
        "id": "9f0838e5-0a7a-4594-8a0a-10dee9a636ea"
      },
      "outputs": [],
      "source": [
        "numeros = [0, 1, 2, 3, 4, 5, 6, 7, 8, 9, 10]\n",
        "\n",
        "n = int(input('Digite um número entre 0 a 10: '))"
      ]
    },
    {
      "cell_type": "markdown",
      "id": "06fd9ed4-fc20-4dc9-a647-8cfa3d94164c",
      "metadata": {
        "id": "06fd9ed4-fc20-4dc9-a647-8cfa3d94164c"
      },
      "source": [
        "---"
      ]
    },
    {
      "cell_type": "markdown",
      "id": "4b9b1cdc-3ae8-47b0-a099-eefb6b887831",
      "metadata": {
        "id": "4b9b1cdc-3ae8-47b0-a099-eefb6b887831"
      },
      "source": [
        "### Exercício 06\n",
        "\n",
        "Utilizando a operação de slicing, faça um programa que peça ao usuário digitar 'dia', 'mês' ou 'ano' e em seguida crie a condição:\n",
        "\n",
        "* Se o usuário digitar **dia**, então retorne apenas o dia da data abaixo\n",
        "* Se o usuário digitar **mês**, então retorne apenas o mês da data abaixo\n",
        "* Se o usuário digitar **ano**, então retorne apenas o ano da data abaixo"
      ]
    },
    {
      "cell_type": "code",
      "execution_count": null,
      "id": "7abd88b8-54db-426a-90cf-6886672b820d",
      "metadata": {
        "id": "7abd88b8-54db-426a-90cf-6886672b820d"
      },
      "outputs": [],
      "source": [
        "data = '01/12/2023'\n",
        "\n",
        "\n"
      ]
    },
    {
      "cell_type": "markdown",
      "id": "13acd4d1-0acb-437d-8c0d-f4c2531e922e",
      "metadata": {
        "id": "13acd4d1-0acb-437d-8c0d-f4c2531e922e"
      },
      "source": [
        "---"
      ]
    },
    {
      "cell_type": "markdown",
      "id": "db25a1a7-f9b4-4f45-a313-71dd8fbde19d",
      "metadata": {
        "id": "db25a1a7-f9b4-4f45-a313-71dd8fbde19d"
      },
      "source": [
        "### Exercício 07\n",
        "\n",
        "O número de inscrição no CPF é composto de onze dígitos decimais, sendo os oito primeiros aleatoriamente designados no momento da inscrição. **Já o nono (antepenúltimo) dígito indica a região fiscal responsável pela inscrição**. Por fim, o décimo e o décimo-primeiro são dígitos verificadores calculados de acordo com um algoritmo definido pela Receita Federal e publicamente conhecido.\n",
        "\n",
        "Dito isto, crie um programa que verifique o **nono dígito do CPF do usuário** e retorne qual é a região fiscal responsável pela inscrição, sendo:\n",
        "\n",
        "* Se o nono dígito for 1 então retorne 'DF, GO, MT, MS e TO'\n",
        "* Se o nono dígito for 2 então retorne 'AC, AP, AM, PA, RO e RR'\n",
        "* Se o nono dígito for 3 então retorne 'CE, MA e PI'\n",
        "* Se o nono dígito for 4 então retorne 'AL, PB, PE e RN'\n",
        "* Se o nono dígito for 5 então retorne 'BA e SE'\n",
        "* Se o nono dígito for 6 então retorne 'MG'\n",
        "* Se o nono dígito for 7 então retorne 'ES e RJ'\n",
        "* Se o nono dígito for 8 então retorne 'SP'\n",
        "* Se o nono dígito for 9 então retorne 'PR e SC'\n",
        "* Se o nono dígito for 0 então retorne 'RS'"
      ]
    },
    {
      "cell_type": "code",
      "execution_count": null,
      "id": "f43f43e4-e092-4c9b-9e53-27dd72fcb605",
      "metadata": {
        "id": "f43f43e4-e092-4c9b-9e53-27dd72fcb605"
      },
      "outputs": [],
      "source": [
        "\n",
        "\n",
        "\n"
      ]
    },
    {
      "cell_type": "markdown",
      "id": "1edc6d01-2ebe-46bb-894f-0c9ebb40ae00",
      "metadata": {
        "id": "1edc6d01-2ebe-46bb-894f-0c9ebb40ae00"
      },
      "source": [
        "---"
      ]
    },
    {
      "cell_type": "markdown",
      "id": "8b3a0e60-a72b-4da4-801f-e9864534a803",
      "metadata": {
        "id": "8b3a0e60-a72b-4da4-801f-e9864534a803"
      },
      "source": [
        "### Exercício 08\n",
        "\n",
        "A empresa Soluções.Py possui o telefone 32220100, porém dependendo do número digitado a ligação é transferida para um detertimado ramal. Dito isto, faça um programa que receba um número do telefone e crie a condição abaixo:\n",
        "\n",
        "* Se o número iniciar com '32220' **E** finalizar com uma das opções abaixo retorne o departamento correspondente:\n",
        "\n",
        "\n",
        "| Final | Departamento |\n",
        "|:-----:|:------------:|\n",
        "| 100 | Recepção |\n",
        "| 101 | Financeiro |\n",
        "| 102 | RH |\n",
        "| 103 | Comercial |\n",
        "| 104 | Administrativo |\n",
        "\n",
        "**Exemplo:**  \n",
        "_32220101_  \n",
        "**Saída:**  \n",
        "_Departamento: Financeiro_"
      ]
    },
    {
      "cell_type": "code",
      "execution_count": null,
      "id": "21bf97ce-e98f-4c84-aaaf-59ea3b90cb71",
      "metadata": {
        "id": "21bf97ce-e98f-4c84-aaaf-59ea3b90cb71"
      },
      "outputs": [],
      "source": [
        "\n",
        "\n",
        "\n"
      ]
    },
    {
      "cell_type": "markdown",
      "id": "1bc958c6-d4f8-48cc-bf17-c727165e1064",
      "metadata": {
        "id": "1bc958c6-d4f8-48cc-bf17-c727165e1064"
      },
      "source": [
        "---"
      ]
    },
    {
      "cell_type": "markdown",
      "id": "4ca3e81c-2df8-4042-b80c-61fee792e45f",
      "metadata": {
        "id": "4ca3e81c-2df8-4042-b80c-61fee792e45f"
      },
      "source": [
        "### Exercício 09\n",
        "\n",
        "Os números de conta do cartão do banco Py são compostos por 10 dígitos. Sendo:\n",
        "\n",
        "* Os 4 primeiros dígitos são referentes ao número da agência\n",
        "* Entre o 5º ao 9º dígito são referentes ao número da conta\n",
        "* Por fim, o décimo dígito é o dígito verificador\n",
        "\n",
        "Dito isto, faça um programa que receba um número de conta e imprima qual é o número da agência, o número da conta e o dígito verificador, por exemplo:\n",
        "\n",
        "**Exemplo:**  \n",
        "_7136697021_  \n",
        "**Saída:**  \n",
        "_Agência: 7136_  \n",
        "_Conta: 69702_  \n",
        "_Dígito: 1_  "
      ]
    },
    {
      "cell_type": "code",
      "execution_count": null,
      "id": "ceeba2f8-1d9a-4128-b198-667a77c8a40f",
      "metadata": {
        "id": "ceeba2f8-1d9a-4128-b198-667a77c8a40f"
      },
      "outputs": [],
      "source": [
        "\n",
        "\n",
        "\n"
      ]
    },
    {
      "cell_type": "markdown",
      "id": "b9d56f96-5f5a-4606-a8ae-adf16f608560",
      "metadata": {
        "id": "b9d56f96-5f5a-4606-a8ae-adf16f608560"
      },
      "source": [
        "---"
      ]
    },
    {
      "cell_type": "markdown",
      "id": "f98b81c4-5352-4f53-a53b-e8acebb9edb9",
      "metadata": {
        "id": "f98b81c4-5352-4f53-a53b-e8acebb9edb9"
      },
      "source": [
        "### Exercício 10\n",
        "\n",
        "Utilizando a operação de slicing, faça um algoritimo para seguir os passos abaixo:\n",
        "\n",
        "1. Peça ao usuário digitar um número entre 0 a 7\n",
        "1. Use o número digitado pelo usuário como parâmetro de **início** na lista de números\n",
        "1. Use um método para somar o retorno da lista\n",
        "1. Por fim, imprima o resultado\n",
        "\n",
        "**Exemplo:**  \n",
        "Se o usuário digitar 6 o retorno deverá ser: 100 (47 + 53)"
      ]
    },
    {
      "cell_type": "code",
      "execution_count": null,
      "id": "9f34b248-2073-4e1b-a000-7398633eafd9",
      "metadata": {
        "id": "9f34b248-2073-4e1b-a000-7398633eafd9"
      },
      "outputs": [],
      "source": [
        "numeros = [23, 29, 31, 37, 41, 43, 47, 53]\n",
        "\n",
        "\n"
      ]
    },
    {
      "cell_type": "markdown",
      "id": "64e64908-ace6-4363-a9b2-84e0f7ca442e",
      "metadata": {
        "id": "64e64908-ace6-4363-a9b2-84e0f7ca442e"
      },
      "source": [
        "---"
      ]
    }
  ],
  "metadata": {
    "kernelspec": {
      "display_name": "Python 3 (ipykernel)",
      "language": "python",
      "name": "python3"
    },
    "language_info": {
      "codemirror_mode": {
        "name": "ipython",
        "version": 3
      },
      "file_extension": ".py",
      "mimetype": "text/x-python",
      "name": "python",
      "nbconvert_exporter": "python",
      "pygments_lexer": "ipython3",
      "version": "3.11.5"
    },
    "colab": {
      "provenance": [],
      "include_colab_link": true
    }
  },
  "nbformat": 4,
  "nbformat_minor": 5
}