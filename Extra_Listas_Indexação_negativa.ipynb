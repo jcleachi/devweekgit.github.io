{
  "cells": [
    {
      "cell_type": "markdown",
      "metadata": {
        "id": "view-in-github",
        "colab_type": "text"
      },
      "source": [
        "<a href=\"https://colab.research.google.com/github/jcleachi/devweekgit.github.io/blob/main/Extra_Listas_Indexa%C3%A7%C3%A3o_negativa.ipynb\" target=\"_parent\"><img src=\"https://colab.research.google.com/assets/colab-badge.svg\" alt=\"Open In Colab\"/></a>"
      ]
    },
    {
      "cell_type": "markdown",
      "id": "3cd982f2-d7be-4d02-9ec6-297a3e06746a",
      "metadata": {
        "id": "3cd982f2-d7be-4d02-9ec6-297a3e06746a"
      },
      "source": [
        "# <font color='OrangeRed'><center>Extra - Listas: Indexação negativa</center></font>"
      ]
    },
    {
      "cell_type": "markdown",
      "id": "b184b1e3-8874-4ded-b826-1033fc55939c",
      "metadata": {
        "id": "b184b1e3-8874-4ded-b826-1033fc55939c"
      },
      "source": [
        "### Exercício 01\n",
        "\n",
        "**Palíndromos** são frases ou palavras que podem ser lidas **da esquerda para a direita ou da direita para a esquerma** e mantém o mesmo sentido.\n",
        "\n",
        "**Exemplo de palavras palíndromos:**  \n",
        "_radar_  \n",
        "_socos_  \n",
        "_ovo_  \n",
        "_osso_  \n",
        "_arara_  \n",
        "\n",
        "Dito isto, faça um programa que peça para o usuário digitar uma palavra e em seguida retorne se é um palíndromo ou não."
      ]
    },
    {
      "cell_type": "code",
      "execution_count": null,
      "id": "c1c53804-727c-47b7-bffa-db2aeb38f023",
      "metadata": {
        "id": "c1c53804-727c-47b7-bffa-db2aeb38f023"
      },
      "outputs": [],
      "source": [
        "\n",
        "\n"
      ]
    },
    {
      "cell_type": "markdown",
      "id": "7a76579d-5b65-40c2-a18c-bfebfbd5aee0",
      "metadata": {
        "id": "7a76579d-5b65-40c2-a18c-bfebfbd5aee0"
      },
      "source": [
        "---"
      ]
    },
    {
      "cell_type": "markdown",
      "id": "41cca873-ffe7-4e54-ab74-fd12e352fdfb",
      "metadata": {
        "id": "41cca873-ffe7-4e54-ab74-fd12e352fdfb"
      },
      "source": [
        "### Exercício 02\n",
        "\n",
        "Utilizando a indexação negativa, faça um programa que peça um número inteiro para o usuário e em seguida retorne o reverso do número. Por exemplo: 127 -> 721"
      ]
    },
    {
      "cell_type": "code",
      "execution_count": null,
      "id": "52ed7d8c-3835-437e-8162-9661cfbcecd3",
      "metadata": {
        "id": "52ed7d8c-3835-437e-8162-9661cfbcecd3"
      },
      "outputs": [],
      "source": [
        "\n",
        "\n",
        "\n"
      ]
    },
    {
      "cell_type": "markdown",
      "id": "178501c8-148a-4a2c-8810-267c28b22d7b",
      "metadata": {
        "id": "178501c8-148a-4a2c-8810-267c28b22d7b"
      },
      "source": [
        "---"
      ]
    },
    {
      "cell_type": "markdown",
      "id": "814c0abb-204c-47bd-a23b-e1893d429e92",
      "metadata": {
        "tags": [],
        "id": "814c0abb-204c-47bd-a23b-e1893d429e92"
      },
      "source": [
        "### Exercício 03\n",
        "\n",
        "Utilizando a indexação negativa, faça o fatiamento da string abaixo para retornar apenas esses caracteres:\n",
        "\n",
        "> 'senai'"
      ]
    },
    {
      "cell_type": "code",
      "execution_count": null,
      "id": "87da26d5-ab0b-40d6-a12e-05c945a06900",
      "metadata": {
        "id": "87da26d5-ab0b-40d6-a12e-05c945a06900"
      },
      "outputs": [],
      "source": [
        "email = 'secretaria@senai.com'\n",
        "\n"
      ]
    },
    {
      "cell_type": "markdown",
      "id": "0cee585f-645d-47ca-9898-2f804603c08a",
      "metadata": {
        "id": "0cee585f-645d-47ca-9898-2f804603c08a"
      },
      "source": [
        "---"
      ]
    },
    {
      "cell_type": "markdown",
      "id": "9fad1aae-65a2-4827-8348-3c39bfdf3bfa",
      "metadata": {
        "id": "9fad1aae-65a2-4827-8348-3c39bfdf3bfa"
      },
      "source": [
        "### Exercício 04\n",
        "\n",
        "Utilizando a indexação negativa, faça o fatiamento da string abaixo para retornar apenas esses caracteres:\n",
        "\n",
        "> 'secretaria'"
      ]
    },
    {
      "cell_type": "code",
      "execution_count": null,
      "id": "87bc0411-8f30-467e-a524-b95b800ff477",
      "metadata": {
        "id": "87bc0411-8f30-467e-a524-b95b800ff477"
      },
      "outputs": [],
      "source": [
        "email = 'secretaria@senai.com'\n",
        "\n"
      ]
    },
    {
      "cell_type": "markdown",
      "id": "54943796-7c84-4b48-abaf-1f93d4406d72",
      "metadata": {
        "id": "54943796-7c84-4b48-abaf-1f93d4406d72"
      },
      "source": [
        "---"
      ]
    },
    {
      "cell_type": "markdown",
      "id": "620bcadd-11ff-46d5-899f-3947a346f724",
      "metadata": {
        "id": "620bcadd-11ff-46d5-899f-3947a346f724"
      },
      "source": [
        "### Exercício 05\n",
        "\n",
        "Dada a lista abaixo, substitua o penúltimo elemento pelo número 400 usando indexação negativa. Por fim, imprima a lista atualizada."
      ]
    },
    {
      "cell_type": "code",
      "execution_count": null,
      "id": "bb360075-905e-4dcc-bde8-d33155a98de0",
      "metadata": {
        "id": "bb360075-905e-4dcc-bde8-d33155a98de0"
      },
      "outputs": [],
      "source": [
        "lista = [100, 200, 300, -400, 500]\n",
        "\n",
        "\n"
      ]
    },
    {
      "cell_type": "markdown",
      "id": "7b8428a2-4980-47ca-a5b4-fcf8eaa3e97d",
      "metadata": {
        "id": "7b8428a2-4980-47ca-a5b4-fcf8eaa3e97d"
      },
      "source": [
        "---"
      ]
    },
    {
      "cell_type": "markdown",
      "id": "af5b705d-d5c1-41cd-acfb-a62df9ee01c1",
      "metadata": {
        "id": "af5b705d-d5c1-41cd-acfb-a62df9ee01c1"
      },
      "source": [
        "### Exercício 06\n",
        "\n",
        "Diferente do formato padrão de data que conhecemos como **dia/mês/ano**, o formato **ano-mês-dia** segue a norma ISO 8601, que é uma norma internacional para a representação de datas e horários. Essa padronização facilita a interoperabilidade entre sistemas e evita ambiguidades decorrentes de diferentes convenções de formatação de datas.\n",
        "\n",
        "Dito isto, faça um programa que **troque a ordem dos caracteres** abaixo que representam o formado de data do Brasil para o formato da norma ISO 8601.\n",
        "\n",
        "**Formato atual:**  \n",
        "_DD/MM/YYYY_  \n",
        "\n",
        "**Saída esperada:**  \n",
        "_YYYY-MM-DD_  \n",
        "\n",
        "**Observação:**  \n",
        "_Não esqueça de usar um método para substituir as / para -_"
      ]
    },
    {
      "cell_type": "code",
      "execution_count": null,
      "id": "d2149848-698c-4a9c-8780-e1c4658ce472",
      "metadata": {
        "id": "d2149848-698c-4a9c-8780-e1c4658ce472"
      },
      "outputs": [],
      "source": [
        "data = 'DD/MM/YYYY'\n",
        "\n",
        "\n"
      ]
    },
    {
      "cell_type": "markdown",
      "id": "9d90d979-e0b6-49c3-af6b-85faf595ebfd",
      "metadata": {
        "id": "9d90d979-e0b6-49c3-af6b-85faf595ebfd"
      },
      "source": [
        "---"
      ]
    },
    {
      "cell_type": "markdown",
      "id": "f49cfb07-7258-4e9b-a79b-39712509ff27",
      "metadata": {
        "id": "f49cfb07-7258-4e9b-a79b-39712509ff27"
      },
      "source": [
        "### Exercíco 07\n",
        "\n",
        "Faça um programa que peça para o usuário digitar o número 1 ou o número 2 e crie a condição abaixo:\n",
        "\n",
        "* Se o usuário digitar o número 1, usando indexação negativa, imprima a lista invertida contendo somente com os números ímpares\n",
        "* Se o usuário digitar o número 2, usando indexação negativa, imprima a lista invertida contendo somente com os números pares\n",
        "* Senão retorne 'Número inválido, operação cancelada'"
      ]
    },
    {
      "cell_type": "code",
      "execution_count": null,
      "id": "c662422b-5ffd-4636-8a9b-452f890d8911",
      "metadata": {
        "id": "c662422b-5ffd-4636-8a9b-452f890d8911"
      },
      "outputs": [],
      "source": [
        "numeros = [0, 1, 2, 3, 4, 5, 6, 7, 8, 9]\n",
        "\n",
        "\n"
      ]
    },
    {
      "cell_type": "markdown",
      "id": "90e4ac29-2286-490f-b8b3-efd88637fb5e",
      "metadata": {
        "id": "90e4ac29-2286-490f-b8b3-efd88637fb5e"
      },
      "source": [
        "---"
      ]
    },
    {
      "cell_type": "markdown",
      "id": "b2f03536-919e-450c-80d8-96e5a1a74aa8",
      "metadata": {
        "id": "b2f03536-919e-450c-80d8-96e5a1a74aa8"
      },
      "source": [
        "### Exercício 08\n",
        "\n",
        "Use método um método para ordenar a lista números abaixo e em seguida, usando indexação negativa, imprima o maior número da lista"
      ]
    },
    {
      "cell_type": "code",
      "execution_count": null,
      "id": "a0af4f3a-f83d-49e0-aa68-523c55439ad5",
      "metadata": {
        "id": "a0af4f3a-f83d-49e0-aa68-523c55439ad5"
      },
      "outputs": [],
      "source": [
        "numeros = [2, 7, 3, 9, 0, 5, 1, 4, 6, 8]\n",
        "\n",
        "\n"
      ]
    },
    {
      "cell_type": "markdown",
      "id": "20afbafd-35c5-4a02-bb28-722eb6d532b8",
      "metadata": {
        "id": "20afbafd-35c5-4a02-bb28-722eb6d532b8"
      },
      "source": [
        "---"
      ]
    },
    {
      "cell_type": "markdown",
      "id": "f2a576b1-401d-4e17-838e-45b6dbb48948",
      "metadata": {
        "tags": [],
        "id": "f2a576b1-401d-4e17-838e-45b6dbb48948"
      },
      "source": [
        "### Exercício 09\n",
        "\n",
        "Utilizando a indexação negativa, faça o fatiamento da string abaixo para retornar apenas esses caracteres:\n",
        "\n",
        "> 'Python'"
      ]
    },
    {
      "cell_type": "code",
      "execution_count": null,
      "id": "a68bb882-8911-40b8-ab62-6d48fc3afc56",
      "metadata": {
        "id": "a68bb882-8911-40b8-ab62-6d48fc3afc56"
      },
      "outputs": [],
      "source": [
        "texto = 'Programação em Python'\n",
        "\n",
        "\n"
      ]
    },
    {
      "cell_type": "markdown",
      "id": "7ce7e4e5-c39b-4cd4-b72d-4cfb44e31012",
      "metadata": {
        "id": "7ce7e4e5-c39b-4cd4-b72d-4cfb44e31012"
      },
      "source": [
        "---"
      ]
    },
    {
      "cell_type": "markdown",
      "id": "64cc9b05-cff4-4370-a5b3-f14c865a26d5",
      "metadata": {
        "id": "64cc9b05-cff4-4370-a5b3-f14c865a26d5"
      },
      "source": [
        "### Exercício 10\n",
        "\n",
        "As Formas Nominais do verbo são três: infinitivo, gerúndio e particípio:\n",
        "\n",
        "* **Infinito:** Verbos termiandos em **r**.\n",
        "    * Julgar, Correr, Sorrir\n",
        "* **Gerúndio:** Verbos termiandos em **ndo**.\n",
        "    * Julgando, Correndo, Sorrindo\n",
        "* **Particípio regular:** Verbos termiandos em **do**.\n",
        "    * Julgado, Corrido, Sorrido\n",
        "\n",
        "Dito isto, usuando a idexação negativa, faça um programa que receba um verbo do usuário e retorne qual a forma nominal do verbo.\n",
        "\n"
      ]
    },
    {
      "cell_type": "code",
      "execution_count": null,
      "id": "3e821bf6-262e-45c6-8d3b-f52fcb0ce153",
      "metadata": {
        "id": "3e821bf6-262e-45c6-8d3b-f52fcb0ce153"
      },
      "outputs": [],
      "source": [
        "\n",
        "\n"
      ]
    },
    {
      "cell_type": "markdown",
      "id": "527f4a4a-4793-4412-bf48-7c6bf29161f6",
      "metadata": {
        "id": "527f4a4a-4793-4412-bf48-7c6bf29161f6"
      },
      "source": [
        "---"
      ]
    }
  ],
  "metadata": {
    "kernelspec": {
      "display_name": "Python 3 (ipykernel)",
      "language": "python",
      "name": "python3"
    },
    "language_info": {
      "codemirror_mode": {
        "name": "ipython",
        "version": 3
      },
      "file_extension": ".py",
      "mimetype": "text/x-python",
      "name": "python",
      "nbconvert_exporter": "python",
      "pygments_lexer": "ipython3",
      "version": "3.11.5"
    },
    "colab": {
      "provenance": [],
      "include_colab_link": true
    }
  },
  "nbformat": 4,
  "nbformat_minor": 5
}