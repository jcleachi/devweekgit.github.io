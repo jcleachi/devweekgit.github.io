{
  "cells": [
    {
      "cell_type": "markdown",
      "metadata": {
        "id": "view-in-github",
        "colab_type": "text"
      },
      "source": [
        "<a href=\"https://colab.research.google.com/github/jcleachi/devweekgit.github.io/blob/main/Operadores_Aritm%C3%A9ticos.ipynb\" target=\"_parent\"><img src=\"https://colab.research.google.com/assets/colab-badge.svg\" alt=\"Open In Colab\"/></a>"
      ]
    },
    {
      "cell_type": "markdown",
      "id": "7480272d-de8f-49a4-926f-bf7608c5c6ce",
      "metadata": {
        "id": "7480272d-de8f-49a4-926f-bf7608c5c6ce"
      },
      "source": [
        "# <font color='OrangeRed'><center>Exercícios - Operadores</center></font>"
      ]
    },
    {
      "cell_type": "markdown",
      "id": "415d7594-85c3-41bc-8288-557653756e50",
      "metadata": {
        "id": "415d7594-85c3-41bc-8288-557653756e50"
      },
      "source": [
        "### Exercício 01\n",
        "\n",
        "Escreva um programa que receba uma mensagem do usuário e que em seguida imprima o que ele escreveu na tela."
      ]
    },
    {
      "cell_type": "code",
      "execution_count": null,
      "id": "225f01c3-a241-405f-8ec8-c52db1b6935e",
      "metadata": {
        "id": "225f01c3-a241-405f-8ec8-c52db1b6935e"
      },
      "outputs": [],
      "source": []
    },
    {
      "cell_type": "markdown",
      "id": "f393f0a7-0d92-4126-8257-138f851ae415",
      "metadata": {
        "id": "f393f0a7-0d92-4126-8257-138f851ae415"
      },
      "source": [
        "---"
      ]
    },
    {
      "cell_type": "markdown",
      "id": "7597f154-ddb4-4e4b-8324-11d479d2d4e7",
      "metadata": {
        "id": "7597f154-ddb4-4e4b-8324-11d479d2d4e7"
      },
      "source": [
        "### Exercício 02\n",
        "\n",
        "Escreva um programa que receba dois números, sendo um número de cada vez e que seguida imprima a soma dos números informados."
      ]
    },
    {
      "cell_type": "code",
      "execution_count": null,
      "id": "f2835437-8ebc-4626-961f-3ef705c40333",
      "metadata": {
        "id": "f2835437-8ebc-4626-961f-3ef705c40333"
      },
      "outputs": [],
      "source": []
    },
    {
      "cell_type": "markdown",
      "id": "8fc0df85-c0b3-4f53-b40e-9735c3e5f4ff",
      "metadata": {
        "id": "8fc0df85-c0b3-4f53-b40e-9735c3e5f4ff"
      },
      "source": [
        "---"
      ]
    },
    {
      "cell_type": "markdown",
      "id": "e55ef877-7e90-4c67-a8ab-3930bc68c5ed",
      "metadata": {
        "id": "e55ef877-7e90-4c67-a8ab-3930bc68c5ed"
      },
      "source": [
        "### Exercício 03\n",
        "\n",
        "Escreva um programa que receba dois números, sendo um número de cada vez e que seguida imprima a subtração dos números informados."
      ]
    },
    {
      "cell_type": "code",
      "execution_count": null,
      "id": "43c8304d-ee14-4428-b598-a312e09d4244",
      "metadata": {
        "id": "43c8304d-ee14-4428-b598-a312e09d4244"
      },
      "outputs": [],
      "source": []
    },
    {
      "cell_type": "markdown",
      "id": "9142530a-1500-4382-ac27-32d02d3a5622",
      "metadata": {
        "id": "9142530a-1500-4382-ac27-32d02d3a5622"
      },
      "source": [
        "---"
      ]
    },
    {
      "cell_type": "markdown",
      "id": "d31342cb-6901-48dc-aedb-5a95e94b4aca",
      "metadata": {
        "id": "d31342cb-6901-48dc-aedb-5a95e94b4aca"
      },
      "source": [
        "### Exercício 04\n",
        "\n",
        "Escreva um programa que peça 4 notas bimestrais, sendo uma nota de cada vez e mostre a média das 4 notas."
      ]
    },
    {
      "cell_type": "code",
      "execution_count": null,
      "id": "493dd9a4-a3bc-4d28-a0e1-20be5f41c1e1",
      "metadata": {
        "id": "493dd9a4-a3bc-4d28-a0e1-20be5f41c1e1"
      },
      "outputs": [],
      "source": []
    },
    {
      "cell_type": "markdown",
      "id": "acf9b35c-d29f-41ba-99ad-1a70a72626e8",
      "metadata": {
        "id": "acf9b35c-d29f-41ba-99ad-1a70a72626e8"
      },
      "source": [
        "---"
      ]
    },
    {
      "cell_type": "markdown",
      "id": "99495f74-4a49-486f-8fa0-56e58f036163",
      "metadata": {
        "id": "99495f74-4a49-486f-8fa0-56e58f036163"
      },
      "source": [
        "### Exercício 05\n",
        "\n",
        "Escreva um programa que receba um valor em metros e que em seguida\n",
        "exiba para o usuário o valor convertido em centímetros.\n",
        "\n",
        "**_Formúla:_**<br>\n",
        "_1 Metro = 100 Centímetros_"
      ]
    },
    {
      "cell_type": "code",
      "execution_count": null,
      "id": "b58d23a3-75f4-4815-92b4-709d77c78d8e",
      "metadata": {
        "id": "b58d23a3-75f4-4815-92b4-709d77c78d8e"
      },
      "outputs": [],
      "source": []
    },
    {
      "cell_type": "markdown",
      "id": "bfe32fb3-6d3f-4b91-906b-165b1cf84910",
      "metadata": {
        "id": "bfe32fb3-6d3f-4b91-906b-165b1cf84910"
      },
      "source": [
        "---"
      ]
    },
    {
      "cell_type": "markdown",
      "id": "aeb7cc33-bc2a-491a-821d-6051d673f102",
      "metadata": {
        "id": "aeb7cc33-bc2a-491a-821d-6051d673f102"
      },
      "source": [
        "### Exercício 06\n",
        "\n",
        "Escreva um programa que receba um valor em centímetros e que em seguida\n",
        "exiba para o usuário o valor convertido em metros.\n",
        "\n",
        "**_Formúla:_**<br>\n",
        "_1 Metro = 100 Centímetros_"
      ]
    },
    {
      "cell_type": "code",
      "execution_count": null,
      "id": "ecfda305-93ac-4bd2-ad5c-f8c20971e05e",
      "metadata": {
        "id": "ecfda305-93ac-4bd2-ad5c-f8c20971e05e"
      },
      "outputs": [],
      "source": []
    },
    {
      "cell_type": "markdown",
      "id": "321c490c-6fae-456e-8b99-a1552aa35706",
      "metadata": {
        "id": "321c490c-6fae-456e-8b99-a1552aa35706"
      },
      "source": [
        "---"
      ]
    },
    {
      "cell_type": "markdown",
      "id": "3a82c89c-4b55-4e05-a10b-d605f55eda7a",
      "metadata": {
        "id": "3a82c89c-4b55-4e05-a10b-d605f55eda7a"
      },
      "source": [
        "### Exercício 07\n",
        "\n",
        "Escreva um programa que receba a medida do lado de um quadrado e que em seguida imprima a medida da área do quadrado.\n",
        "\n",
        "**_Formúla:_**<br>\n",
        "_Área = Lado * Lado_"
      ]
    },
    {
      "cell_type": "code",
      "execution_count": null,
      "id": "206444f5-ab82-4291-87a5-544be196a870",
      "metadata": {
        "id": "206444f5-ab82-4291-87a5-544be196a870"
      },
      "outputs": [],
      "source": []
    },
    {
      "cell_type": "markdown",
      "id": "719f4283-792e-42c7-bb0c-58033b30b460",
      "metadata": {
        "id": "719f4283-792e-42c7-bb0c-58033b30b460"
      },
      "source": [
        "---"
      ]
    },
    {
      "cell_type": "markdown",
      "id": "506185b6-a403-4ba1-ba26-d494595b6099",
      "metadata": {
        "id": "506185b6-a403-4ba1-ba26-d494595b6099"
      },
      "source": [
        "### Exercício 08\n",
        "\n",
        "Escreva um programa que receba a medida do raio de uma circunferência e que em seguida imprima o comprimento da circunferência.\n",
        "\n",
        "**_Formúla:_**<br>\n",
        "_Comprimento = 2 * 3.14 * Raio_"
      ]
    },
    {
      "cell_type": "code",
      "execution_count": null,
      "id": "9504b0fd-b329-4ec8-9c91-b1ca50ff32f7",
      "metadata": {
        "id": "9504b0fd-b329-4ec8-9c91-b1ca50ff32f7"
      },
      "outputs": [],
      "source": []
    },
    {
      "cell_type": "markdown",
      "id": "520b484a-e54c-4a58-aa92-ccdbf40e3338",
      "metadata": {
        "id": "520b484a-e54c-4a58-aa92-ccdbf40e3338"
      },
      "source": [
        "---"
      ]
    },
    {
      "cell_type": "markdown",
      "id": "d068a3a3-c074-4fa9-873e-e90fdab642aa",
      "metadata": {
        "id": "d068a3a3-c074-4fa9-873e-e90fdab642aa"
      },
      "source": [
        "### Exercício 09\n",
        "\n",
        "Escreva um programa que pergunte quanto o usuário ganha por hora e o número de horas trabalhadas no mês, sendo uma pergunta de cada vez. Em seguida, calcule e imprima o salário do mês.\n",
        "\n",
        "**_Formúla:_**<br>\n",
        "_Salário = Valor_HR * HR_Trabalhadas_"
      ]
    },
    {
      "cell_type": "code",
      "execution_count": null,
      "id": "96d5f9ec-79ce-4b56-abc7-7ed8cd70dd77",
      "metadata": {
        "id": "96d5f9ec-79ce-4b56-abc7-7ed8cd70dd77"
      },
      "outputs": [],
      "source": []
    },
    {
      "cell_type": "markdown",
      "id": "dc6a9623-b74a-4993-ab96-ef5cdaff1555",
      "metadata": {
        "id": "dc6a9623-b74a-4993-ab96-ef5cdaff1555"
      },
      "source": [
        "---"
      ]
    },
    {
      "cell_type": "markdown",
      "id": "4317e942-20cb-4a87-bda3-f8b0f66669c0",
      "metadata": {
        "id": "4317e942-20cb-4a87-bda3-f8b0f66669c0"
      },
      "source": [
        "### Exercício 10\n",
        "\n",
        "Escreva um programa que paça um número ao usuário e que em seguida retorne o valor ao quadrado.\n",
        "\n",
        "**_Formúla:_**<br>\n",
        "_n² - Exponenciação_"
      ]
    },
    {
      "cell_type": "code",
      "execution_count": null,
      "id": "34f4160a-3be5-44db-b877-6bc3bbe5e557",
      "metadata": {
        "id": "34f4160a-3be5-44db-b877-6bc3bbe5e557"
      },
      "outputs": [],
      "source": []
    },
    {
      "cell_type": "markdown",
      "id": "ba97d73d-4cc9-4fb9-8b50-3bbf05ce0284",
      "metadata": {
        "id": "ba97d73d-4cc9-4fb9-8b50-3bbf05ce0284"
      },
      "source": [
        "---"
      ]
    },
    {
      "cell_type": "markdown",
      "id": "4c30fccd-f098-4bfc-a271-582a88c4ad40",
      "metadata": {
        "id": "4c30fccd-f098-4bfc-a271-582a88c4ad40"
      },
      "source": [
        "### Exercício 11\n",
        "\n",
        "Escreva um programa que paça um número ao usuário e que em seguida retorne o valor ao cubo.\n",
        "\n",
        "**_Formúla:_**<br>\n",
        "_n³ - Exponenciação_"
      ]
    },
    {
      "cell_type": "code",
      "execution_count": null,
      "id": "d2150693-7926-4829-a714-d675578c42b8",
      "metadata": {
        "id": "d2150693-7926-4829-a714-d675578c42b8"
      },
      "outputs": [],
      "source": []
    },
    {
      "cell_type": "markdown",
      "id": "1ce4292f-8213-4cb9-a3a7-2f6c63a43d63",
      "metadata": {
        "id": "1ce4292f-8213-4cb9-a3a7-2f6c63a43d63"
      },
      "source": [
        "---"
      ]
    },
    {
      "cell_type": "markdown",
      "id": "bb489171-bf21-4514-a451-286611d88db4",
      "metadata": {
        "id": "bb489171-bf21-4514-a451-286611d88db4"
      },
      "source": [
        "### Exercício 12\n",
        "\n",
        "Escreva um programa que peça a temperatura em graus Fahrenheit, transforme e mostre a temperatura em graus Celsius.\n",
        "\n",
        "**_Formúla:_**<br>\n",
        "_Celsius = 5 * ((Fahrenheit-32) / 9)_"
      ]
    },
    {
      "cell_type": "code",
      "execution_count": null,
      "id": "b6e9467e-293c-4fe8-abd2-05c4e963e60b",
      "metadata": {
        "id": "b6e9467e-293c-4fe8-abd2-05c4e963e60b"
      },
      "outputs": [],
      "source": []
    },
    {
      "cell_type": "markdown",
      "id": "022254ad-4d8f-4f28-915e-15a0dbb0b229",
      "metadata": {
        "id": "022254ad-4d8f-4f28-915e-15a0dbb0b229"
      },
      "source": [
        "---"
      ]
    },
    {
      "cell_type": "markdown",
      "id": "6180fad6-e12e-460d-acd1-dc65d0c364ee",
      "metadata": {
        "id": "6180fad6-e12e-460d-acd1-dc65d0c364ee"
      },
      "source": [
        "### Exercício 13\n",
        "\n",
        "Escreva um programa que peça a temperatura em graus Celsius, transforme e mostre a temperatura em graus Fahrenheit.\n",
        "\n",
        "**_Formúla:_**<br>\n",
        "_Fahrenheit = Celsius * (9 / 5) + 32_"
      ]
    },
    {
      "cell_type": "code",
      "execution_count": null,
      "id": "785bfd18-030e-446f-aa0c-2b55efad3949",
      "metadata": {
        "id": "785bfd18-030e-446f-aa0c-2b55efad3949"
      },
      "outputs": [],
      "source": []
    },
    {
      "cell_type": "markdown",
      "id": "522c78ce-9977-4d94-8284-86a6345d357f",
      "metadata": {
        "id": "522c78ce-9977-4d94-8284-86a6345d357f"
      },
      "source": [
        "---"
      ]
    },
    {
      "cell_type": "markdown",
      "id": "cffb8ffc-ede1-42f9-94f4-24da68cb57f3",
      "metadata": {
        "id": "cffb8ffc-ede1-42f9-94f4-24da68cb57f3"
      },
      "source": [
        "### Exercício 14\n",
        "\n",
        "Escreva um programa que peça um número inteiro ao usuário e que em seguida imprima o próximo número e o número anterior."
      ]
    },
    {
      "cell_type": "code",
      "execution_count": null,
      "id": "d7cd9d8a-dabd-40bf-a660-1dfbeb8a6ce3",
      "metadata": {
        "id": "d7cd9d8a-dabd-40bf-a660-1dfbeb8a6ce3"
      },
      "outputs": [],
      "source": []
    },
    {
      "cell_type": "markdown",
      "id": "5f6cc9f1-8fa8-4d0b-b2fc-f38546404296",
      "metadata": {
        "id": "5f6cc9f1-8fa8-4d0b-b2fc-f38546404296"
      },
      "source": [
        "---"
      ]
    },
    {
      "cell_type": "markdown",
      "id": "61754b1d-5965-483e-8956-481b9edd4384",
      "metadata": {
        "id": "61754b1d-5965-483e-8956-481b9edd4384"
      },
      "source": [
        "### Exercício 15\n",
        "\n",
        "Escreva um programa que peça uma quantidade de horas ao usuário e que em seguida imprima o valor das horas convertidas em minutos.\n",
        "\n",
        "\n",
        "**_Formúla:_**<br>\n",
        "_minutos = horas * 60_"
      ]
    },
    {
      "cell_type": "code",
      "execution_count": null,
      "id": "84770ecb-0d33-42a8-9027-2192544ca69f",
      "metadata": {
        "id": "84770ecb-0d33-42a8-9027-2192544ca69f"
      },
      "outputs": [],
      "source": []
    },
    {
      "cell_type": "markdown",
      "id": "554b782e-6a68-41cb-a8c8-faef367328b5",
      "metadata": {
        "id": "554b782e-6a68-41cb-a8c8-faef367328b5"
      },
      "source": [
        "---"
      ]
    },
    {
      "cell_type": "markdown",
      "id": "68472e91-1fe8-448d-b397-481a46cf6efc",
      "metadata": {
        "id": "68472e91-1fe8-448d-b397-481a46cf6efc"
      },
      "source": [
        "### Exercício 16\n",
        "Escreva um programa que receba dois números, sendo:\n",
        "- O primeiro o número dividendo.\n",
        "- O segundo o número divisor.\n",
        "    \n",
        "Em seguida imprima o resto da divisão.\n",
        "\n",
        "\n",
        "**_Formúla:_**<br>\n",
        "_% (Módulo ou resto de divisão)_\n",
        "\n",
        "**Imagem dos elementos da divisão**\n",
        "https://www.estudamos.com.br/divisao/elementos-da-divisao.jpg"
      ]
    },
    {
      "cell_type": "code",
      "execution_count": null,
      "id": "3a90833e-f192-456a-93f4-bd4bdd05c7ad",
      "metadata": {
        "id": "3a90833e-f192-456a-93f4-bd4bdd05c7ad"
      },
      "outputs": [],
      "source": []
    },
    {
      "cell_type": "markdown",
      "id": "af851aec-e325-4594-a774-e21747547065",
      "metadata": {
        "id": "af851aec-e325-4594-a774-e21747547065"
      },
      "source": [
        "---"
      ]
    },
    {
      "cell_type": "markdown",
      "id": "735bb32b-f123-4967-8bff-f2760d01e58e",
      "metadata": {
        "id": "735bb32b-f123-4967-8bff-f2760d01e58e"
      },
      "source": [
        "### Exercício 17\n",
        "\n",
        "Escreva um programa que receba três números para calcular os pontos de um time de futebol, sendo:\n",
        "- O primeiro a quantidade de vitórias.\n",
        "- O segundo a quantidade de empates.\n",
        "- O terceiro a quantidade de derrotas.\n",
        "    \n",
        "Em seguida multiplique os valores da seguinte maneira:\n",
        "- Cada vitória informada vale 3 pontos.\n",
        "- Cada empate informado vale 1 ponto.\n",
        "- Cada derrota informada vale 0 ponto.\n",
        "\n",
        "Por fim, imprima na tela a quantidade de pontos realizada pelo time."
      ]
    },
    {
      "cell_type": "code",
      "execution_count": null,
      "id": "c8705d4e-66fa-42dc-9bdd-3d5600b6ce16",
      "metadata": {
        "id": "c8705d4e-66fa-42dc-9bdd-3d5600b6ce16"
      },
      "outputs": [],
      "source": []
    },
    {
      "cell_type": "markdown",
      "id": "5529d961-fec1-474c-ac2a-e4e1464894ff",
      "metadata": {
        "id": "5529d961-fec1-474c-ac2a-e4e1464894ff"
      },
      "source": [
        "---"
      ]
    },
    {
      "cell_type": "markdown",
      "id": "0c70c2b3-0b93-4c6e-a8d5-0356a80389b9",
      "metadata": {
        "id": "0c70c2b3-0b93-4c6e-a8d5-0356a80389b9"
      },
      "source": [
        "### Exercício 18\n",
        "Escreva um programa que receba um valor em reais (`R$`) e que em seguida o converta em dólares (`US$`)\n",
        "\n",
        "No momento da conversão 1.00`US$` equivale a 5.00`R$`\n"
      ]
    },
    {
      "cell_type": "code",
      "execution_count": null,
      "id": "dc6a86d8-99b0-427f-aeb1-610362d352c3",
      "metadata": {
        "id": "dc6a86d8-99b0-427f-aeb1-610362d352c3"
      },
      "outputs": [],
      "source": []
    },
    {
      "cell_type": "markdown",
      "id": "e6c3f378-a066-4266-a98b-1b5c091272e7",
      "metadata": {
        "id": "e6c3f378-a066-4266-a98b-1b5c091272e7"
      },
      "source": [
        "---"
      ]
    },
    {
      "cell_type": "markdown",
      "id": "6be4b889-7eac-43fc-a472-3c278b74d0d6",
      "metadata": {
        "id": "6be4b889-7eac-43fc-a472-3c278b74d0d6"
      },
      "source": [
        "### Exercício 19\n",
        "\n",
        "Escreva um programa que receba a medida da base e da altura de um triângulo retângulo, sendo um valor de cada vez. Em seguida calcule e imprima a medida da área do triângulo retângulo.\n",
        "\n",
        "**_Formúla:_**<br>\n",
        "_Área = Base * Altura / 2_\n"
      ]
    },
    {
      "cell_type": "code",
      "execution_count": null,
      "id": "48fe7413-a2cb-4dc6-93d2-1e1f733300e7",
      "metadata": {
        "id": "48fe7413-a2cb-4dc6-93d2-1e1f733300e7"
      },
      "outputs": [],
      "source": []
    },
    {
      "cell_type": "markdown",
      "id": "e33458ac-7c16-446f-8925-9ec7c9e93651",
      "metadata": {
        "id": "e33458ac-7c16-446f-8925-9ec7c9e93651"
      },
      "source": [
        "---"
      ]
    },
    {
      "cell_type": "markdown",
      "id": "cfa035ab-26a7-43b8-bbec-057731837399",
      "metadata": {
        "id": "cfa035ab-26a7-43b8-bbec-057731837399"
      },
      "source": [
        "### Exercício 20\n",
        "\n",
        "Escreva um programa que receba a medida da base e da altura de um retângulo, sendo um valor de cada vez. Em seguida calcule e imprima a medida da área do retângulo.\n",
        "\n",
        "**_Formúla:_**<br>\n",
        "_Área = Base * Altura_"
      ]
    },
    {
      "cell_type": "code",
      "execution_count": null,
      "id": "1f54fa7a-5d4e-4641-af1a-5c9ef2c5b49a",
      "metadata": {
        "id": "1f54fa7a-5d4e-4641-af1a-5c9ef2c5b49a"
      },
      "outputs": [],
      "source": []
    },
    {
      "cell_type": "markdown",
      "id": "b7015338-842b-434f-b658-561ee83362c4",
      "metadata": {
        "id": "b7015338-842b-434f-b658-561ee83362c4"
      },
      "source": [
        "---"
      ]
    },
    {
      "cell_type": "markdown",
      "id": "8a3f59fa-ad1f-4afe-bea0-969b764fb716",
      "metadata": {
        "id": "8a3f59fa-ad1f-4afe-bea0-969b764fb716"
      },
      "source": [
        "### Exercício 21\n",
        "\n",
        "Escreva um programa que peça um número ao usuário e que em seguida imprima o dobro do número informado."
      ]
    },
    {
      "cell_type": "code",
      "execution_count": null,
      "id": "d80b7169-c7fe-41a2-b077-b7d98329af16",
      "metadata": {
        "id": "d80b7169-c7fe-41a2-b077-b7d98329af16"
      },
      "outputs": [],
      "source": []
    },
    {
      "cell_type": "markdown",
      "id": "9eb12562-1394-41be-be50-6e2d2ee8b190",
      "metadata": {
        "id": "9eb12562-1394-41be-be50-6e2d2ee8b190"
      },
      "source": [
        "---"
      ]
    },
    {
      "cell_type": "markdown",
      "id": "8534fb94-a98f-4a29-be1e-58195fb6abb5",
      "metadata": {
        "id": "8534fb94-a98f-4a29-be1e-58195fb6abb5"
      },
      "source": [
        "### Exercício 22\n",
        "\n",
        "Escreva um programa que pergunte quantos litros de gasolina o cliente deseja abastacer e que em seguida imprima o valor total da compra.\n",
        "\n",
        "**O Valor da gasolina é de 4.99**"
      ]
    },
    {
      "cell_type": "code",
      "execution_count": null,
      "id": "17356753-fbb4-414c-9f82-5f52c582369b",
      "metadata": {
        "id": "17356753-fbb4-414c-9f82-5f52c582369b"
      },
      "outputs": [],
      "source": []
    },
    {
      "cell_type": "markdown",
      "id": "fa9623d7-9248-4c71-93c4-f2946d10a816",
      "metadata": {
        "id": "fa9623d7-9248-4c71-93c4-f2946d10a816"
      },
      "source": [
        "---"
      ]
    },
    {
      "cell_type": "markdown",
      "id": "7ee59929-90f3-4ab1-96a8-78870115d779",
      "metadata": {
        "id": "7ee59929-90f3-4ab1-96a8-78870115d779"
      },
      "source": [
        "### Exercício 23\n",
        "\n",
        "Escreva um programa que pergunte o salário do usuário e em seguida imprima o valor do salário + 5%.\n",
        "\n",
        "**Dica:**<br>\n",
        "_5% equivale a 0.05_"
      ]
    },
    {
      "cell_type": "code",
      "execution_count": null,
      "id": "9e0ff3c2-a9b8-419b-9f62-6f18abcbb382",
      "metadata": {
        "id": "9e0ff3c2-a9b8-419b-9f62-6f18abcbb382"
      },
      "outputs": [],
      "source": []
    },
    {
      "cell_type": "markdown",
      "id": "7fc6d7bb-38d7-4359-973b-7d2e873c9744",
      "metadata": {
        "id": "7fc6d7bb-38d7-4359-973b-7d2e873c9744"
      },
      "source": [
        "---"
      ]
    },
    {
      "cell_type": "markdown",
      "id": "965e9070-8658-493a-a22d-1803705df01b",
      "metadata": {
        "id": "965e9070-8658-493a-a22d-1803705df01b"
      },
      "source": [
        "### Exercício 24\n",
        "\n",
        "Escreva um programa que pergunte a altura e o peso do usuário e em seguida calcule o IMC (Índice de Massa Corpória)\n",
        "\n",
        "**Formúla:**<br>\n",
        "_IMC = Peso / (Altura*Altura)_"
      ]
    },
    {
      "cell_type": "code",
      "execution_count": null,
      "id": "18811b27-003c-4f65-9219-90b8a2531e93",
      "metadata": {
        "id": "18811b27-003c-4f65-9219-90b8a2531e93"
      },
      "outputs": [],
      "source": []
    },
    {
      "cell_type": "markdown",
      "id": "6d0a0cae-c5f2-464e-bc11-259342a3a5b8",
      "metadata": {
        "id": "6d0a0cae-c5f2-464e-bc11-259342a3a5b8"
      },
      "source": [
        "---"
      ]
    },
    {
      "cell_type": "markdown",
      "id": "55f960f8-7871-46eb-9dda-c72333267885",
      "metadata": {
        "id": "55f960f8-7871-46eb-9dda-c72333267885"
      },
      "source": [
        "### Exercício 25\n",
        "\n",
        "Escreva um programa que calcule a conta dos clientes de um restaurante, sendo:\n",
        "1. Deve ser informado o valor total gasto no restaurante\n",
        "1. Adicione mais 10% em cima do valor total gasto no restaurante pela taxa de serviço\n",
        "1. Adicione mais 20 reais do estacionamento\n",
        "    \n",
        "**Dica:**<br>\n",
        "_10% equivale 0.1_"
      ]
    },
    {
      "cell_type": "code",
      "execution_count": null,
      "id": "ff38661a-4e3a-4206-9b31-10771a1ea646",
      "metadata": {
        "id": "ff38661a-4e3a-4206-9b31-10771a1ea646"
      },
      "outputs": [],
      "source": []
    },
    {
      "cell_type": "markdown",
      "id": "4c90b02f-bbeb-4573-aca5-53258ff9cf40",
      "metadata": {
        "id": "4c90b02f-bbeb-4573-aca5-53258ff9cf40"
      },
      "source": [
        "---"
      ]
    }
  ],
  "metadata": {
    "kernelspec": {
      "display_name": "Python 3 (ipykernel)",
      "language": "python",
      "name": "python3"
    },
    "language_info": {
      "codemirror_mode": {
        "name": "ipython",
        "version": 3
      },
      "file_extension": ".py",
      "mimetype": "text/x-python",
      "name": "python",
      "nbconvert_exporter": "python",
      "pygments_lexer": "ipython3",
      "version": "3.11.5"
    },
    "colab": {
      "provenance": [],
      "include_colab_link": true
    }
  },
  "nbformat": 4,
  "nbformat_minor": 5
}