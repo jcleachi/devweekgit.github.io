{
  "cells": [
    {
      "cell_type": "markdown",
      "metadata": {
        "id": "view-in-github",
        "colab_type": "text"
      },
      "source": [
        "<a href=\"https://colab.research.google.com/github/jcleachi/devweekgit.github.io/blob/main/Extra_Operadores_Relacionais.ipynb\" target=\"_parent\"><img src=\"https://colab.research.google.com/assets/colab-badge.svg\" alt=\"Open In Colab\"/></a>"
      ]
    },
    {
      "cell_type": "markdown",
      "id": "9ac59412-3145-490a-b0a9-f8f8cc8e7fe0",
      "metadata": {
        "id": "9ac59412-3145-490a-b0a9-f8f8cc8e7fe0"
      },
      "source": [
        "# <font color='OrangeRed'><center>Extra - Operadores Relacionais</center></font>"
      ]
    },
    {
      "cell_type": "markdown",
      "id": "d20ecffc-9215-4b71-8868-f6fdb801f07e",
      "metadata": {
        "id": "d20ecffc-9215-4b71-8868-f6fdb801f07e"
      },
      "source": [
        "### Exercício 01\n",
        "\n",
        "Usando a condicioal If, faça um programa que peça para o usuário digitar uma única letra e retorne se a letra digitada é uma vogal ou uma consoante."
      ]
    },
    {
      "cell_type": "code",
      "execution_count": null,
      "id": "a8aa4390-b40c-4513-a6f9-1d821b823e47",
      "metadata": {
        "id": "a8aa4390-b40c-4513-a6f9-1d821b823e47"
      },
      "outputs": [],
      "source": [
        "\n",
        "\n"
      ]
    },
    {
      "cell_type": "markdown",
      "id": "05179a00-1ffa-4aa1-9cee-f8f09100310b",
      "metadata": {
        "id": "05179a00-1ffa-4aa1-9cee-f8f09100310b"
      },
      "source": [
        "---"
      ]
    },
    {
      "cell_type": "markdown",
      "id": "39bbdd95-77de-40c0-a4d8-6cd48613afd3",
      "metadata": {
        "id": "39bbdd95-77de-40c0-a4d8-6cd48613afd3"
      },
      "source": [
        "### Exercício 02\n",
        "\n",
        "Escreva um programa que leia o número de maçãs compradas:\n",
        "- Se o número de maças compradas for menor do que 12 o custo unitário de cada maça será de 0.30.\n",
        "- Se o número de maças compradas for maior ou igual a 12 o custo unitário de cada maça será de 0.25.\n",
        "    \n",
        "Calcule e retorne para o usuário o valor total da compra."
      ]
    },
    {
      "cell_type": "code",
      "execution_count": null,
      "id": "f12214a2-9ea8-4420-91ed-2e951645dae3",
      "metadata": {
        "id": "f12214a2-9ea8-4420-91ed-2e951645dae3"
      },
      "outputs": [],
      "source": [
        "\n",
        "\n"
      ]
    },
    {
      "cell_type": "markdown",
      "id": "91362d09-5bf1-462a-b07f-6cfaacfb0920",
      "metadata": {
        "id": "91362d09-5bf1-462a-b07f-6cfaacfb0920"
      },
      "source": [
        "---"
      ]
    },
    {
      "cell_type": "markdown",
      "id": "904284cc-eef7-46ba-8be8-74885685bb07",
      "metadata": {
        "id": "904284cc-eef7-46ba-8be8-74885685bb07"
      },
      "source": [
        "### Exercício 03\n",
        "\n",
        "Escreva um programa que peça ao usuário duas entradas:\n",
        "1. Pergunte quantos litros ele deseja abastecer\n",
        "1. Pergunte qual o tipo de combustível:\n",
        "    * Digite 1 para Álcool.\n",
        "    * Digite 2 para Gasolina.\n",
        "    * Qualquer valor diferente disso retorne 'Tipo de Combustível inválido.'\n",
        "\n",
        "Em seguida, calcule e imprima o valor total da compra, utilizando a seguinte tabela de preço:\n",
        "* Alcool `R$3.50`\n",
        "* Gasolina `R$5.00`"
      ]
    },
    {
      "cell_type": "code",
      "execution_count": null,
      "id": "7bd875d7-d93d-4d3a-87b7-e85f1b125a8a",
      "metadata": {
        "id": "7bd875d7-d93d-4d3a-87b7-e85f1b125a8a"
      },
      "outputs": [],
      "source": [
        "\n",
        "\n"
      ]
    },
    {
      "cell_type": "markdown",
      "id": "62a79d3f-bd05-49ea-9df0-cc8ccd49d46c",
      "metadata": {
        "id": "62a79d3f-bd05-49ea-9df0-cc8ccd49d46c"
      },
      "source": [
        "---"
      ]
    },
    {
      "cell_type": "markdown",
      "id": "4aefe4bf-a99c-4332-8060-84efdabec257",
      "metadata": {
        "id": "4aefe4bf-a99c-4332-8060-84efdabec257"
      },
      "source": [
        "### Exercício 04\n",
        "\n",
        "Escreva um programa que peça ao usuário duas entradas para calcular a conta de um restaurante:\n",
        "1. Pergunte o valor total da comanda\n",
        "1. Pergunte se o usuário deseja pagar a taxa de serviço, sendo:\n",
        "    * Digite 1 caso aceite.\n",
        "    * Digite 2 caso não aceite.\n",
        "    * Qualquer valor diferente disso retorne 'Valor inválido, operação cancelada.'\n",
        "        \n",
        "Caso o usuário aceite pagar a taxa de serviço adicione mais 10% em cima do valor total da comanda.\n",
        "\n",
        "**Dica:**<br>\n",
        "_10% equivale a 0.10_\n",
        "\n",
        "Em seguida, calcule e imprima o valor devido."
      ]
    },
    {
      "cell_type": "code",
      "execution_count": null,
      "id": "fb755a5d-ae68-4189-98d9-d1c4acfc9c1c",
      "metadata": {
        "id": "fb755a5d-ae68-4189-98d9-d1c4acfc9c1c"
      },
      "outputs": [],
      "source": [
        "\n",
        "\n"
      ]
    },
    {
      "cell_type": "markdown",
      "id": "8813c6e6-58d1-484d-94e6-eb06a95f9a9b",
      "metadata": {
        "id": "8813c6e6-58d1-484d-94e6-eb06a95f9a9b"
      },
      "source": [
        "---"
      ]
    },
    {
      "cell_type": "markdown",
      "id": "559d595c-dac4-4ce4-bc01-feac50691bc2",
      "metadata": {
        "id": "559d595c-dac4-4ce4-bc01-feac50691bc2"
      },
      "source": [
        "### Exercício 05\n",
        "\n",
        "Escreva um programa que pergunte ao aluno em qual período ele deseja estudar oferencedo as seguintes opções:\n",
        "* Caso ele digite 'manhã' retorne que 'O horário das aulas serão das 08:00 às 12:00.'\n",
        "* Caso ele digite 'tarde' retorne que 'O horário das aulas serão das 13:00 às 17:00.'\n",
        "* Caso ele digite 'noite' retorne que 'O horário das aulas serão das 18:00 às 22:00.'\n",
        "* Qualquer valor diferente disso retorne 'Período inválido.'"
      ]
    },
    {
      "cell_type": "code",
      "execution_count": null,
      "id": "d8f3af7a-76ef-4558-8e4f-f427d9fa3f61",
      "metadata": {
        "id": "d8f3af7a-76ef-4558-8e4f-f427d9fa3f61"
      },
      "outputs": [],
      "source": [
        "\n",
        "\n"
      ]
    },
    {
      "cell_type": "markdown",
      "id": "e6ced63c-22e4-4c33-94c0-b5fbcb6ee930",
      "metadata": {
        "id": "e6ced63c-22e4-4c33-94c0-b5fbcb6ee930"
      },
      "source": [
        "---"
      ]
    },
    {
      "cell_type": "markdown",
      "id": "7e1acfd3-d236-4b8c-84b9-05b7132d1bd6",
      "metadata": {
        "id": "7e1acfd3-d236-4b8c-84b9-05b7132d1bd6"
      },
      "source": [
        "### Exercício 06\n",
        "\n",
        "Escreva um programa que receba um número inteiro e diga se ele é divisível por 5.\n",
        "* Caso seja retorne 'O número é divisível por 5.'\n",
        "* Caso não seja retorne 'O número não é divisível por 5.'\n",
        "    \n",
        "\n",
        "**Dicas:**  \n",
        "- _Para um número ser considerado divísel por 5 o resto da divisão precisa ser igual a 0_\n",
        "\n",
        "**_Formúla:_**<br>\n",
        "_% (Módulo ou resto de divisão)_  \n",
        "<img style=\"height:120px\" src=https://www.estudamos.com.br/divisao/elementos-da-divisao.jpg>"
      ]
    },
    {
      "cell_type": "code",
      "execution_count": null,
      "id": "a396ba54-e055-48fe-9f9b-378592eacc96",
      "metadata": {
        "id": "a396ba54-e055-48fe-9f9b-378592eacc96"
      },
      "outputs": [],
      "source": [
        "\n",
        "\n"
      ]
    },
    {
      "cell_type": "markdown",
      "id": "a5bf49dd-de60-4f62-b32a-932f83cc4237",
      "metadata": {
        "id": "a5bf49dd-de60-4f62-b32a-932f83cc4237"
      },
      "source": [
        "---"
      ]
    },
    {
      "cell_type": "markdown",
      "id": "832cb63a-ab8d-4c07-b482-601a6ccb1b14",
      "metadata": {
        "id": "832cb63a-ab8d-4c07-b482-601a6ccb1b14"
      },
      "source": [
        "### Exercício 07\n",
        "\n",
        "Desenvolva um programa que receba do usuário o placar de um jogo de futebol do Time A versus o Time B, pergunte o saldo de gols de cada um dos times, em seguida retorne se a partida acabou empatada, se a vitória foi do Time A ou se a vitória foi do Time B."
      ]
    },
    {
      "cell_type": "code",
      "execution_count": null,
      "id": "9dfa0fe5-8863-4457-b51b-f7199b665e7c",
      "metadata": {
        "id": "9dfa0fe5-8863-4457-b51b-f7199b665e7c"
      },
      "outputs": [],
      "source": [
        "\n",
        "\n"
      ]
    },
    {
      "cell_type": "markdown",
      "id": "79182574-f568-4455-a07b-8f96189e0eb6",
      "metadata": {
        "id": "79182574-f568-4455-a07b-8f96189e0eb6"
      },
      "source": [
        "---"
      ]
    },
    {
      "cell_type": "markdown",
      "id": "d64254d4-3a21-46a7-b8a7-290d3285d566",
      "metadata": {
        "id": "d64254d4-3a21-46a7-b8a7-290d3285d566"
      },
      "source": [
        "### Exercício 08\n",
        "\n",
        "Escreva um programa que receba o número do DDI (Discagem direta internacional) e retorne o nome do país correspondente ao DDI. Sendo:\n",
        "- Caso receba  1 imprima 'Estados Unidos'\n",
        "- Caso receba 35 imprima 'Portugal'\n",
        "- Caso receba 49 imprima 'Alemanha'\n",
        "- Caso receba 54 imprima 'Argentina'\n",
        "- Caso receba 55 imprima 'Brasil'\n",
        "- Qualquer valor diferente desses retorne 'DDI não cadastrado.'"
      ]
    },
    {
      "cell_type": "code",
      "execution_count": null,
      "id": "d252103d-63c8-4cfe-b1ff-b484c0e128d0",
      "metadata": {
        "id": "d252103d-63c8-4cfe-b1ff-b484c0e128d0"
      },
      "outputs": [],
      "source": [
        "\n",
        "\n"
      ]
    },
    {
      "cell_type": "markdown",
      "id": "7cc05fa4-cccf-40ac-b689-9de200caca99",
      "metadata": {
        "id": "7cc05fa4-cccf-40ac-b689-9de200caca99"
      },
      "source": [
        "---"
      ]
    },
    {
      "cell_type": "markdown",
      "id": "ec9abd88-754b-40cf-85dd-0bcb3acd403e",
      "metadata": {
        "id": "ec9abd88-754b-40cf-85dd-0bcb3acd403e"
      },
      "source": [
        "### Exercício 09\n",
        "\n",
        "Escreva um programa que receba dois números inteiros, em seguida pergunte qual operação matemática ele deseja realizar, sendo:\n",
        "- Se o usuário digitar 'soma' retorne a soma dos dois números.\n",
        "- Se o usuário digitar 'subtração' retorne a subtração dos dois números.\n",
        "- Se o usuário digitar 'divisão' retorne a divisão dos dois números.\n",
        "- Se o usuário digitar 'multiplicação' retorne a multiplicação dos dois números.\n",
        "- Qualquer valor diferente desses retorne 'Operação não cadastrada.'"
      ]
    },
    {
      "cell_type": "code",
      "execution_count": null,
      "id": "15f64031-018b-4173-9332-9cdad9135321",
      "metadata": {
        "id": "15f64031-018b-4173-9332-9cdad9135321"
      },
      "outputs": [],
      "source": [
        "\n",
        "\n"
      ]
    },
    {
      "cell_type": "markdown",
      "id": "2a4c9cfc-3121-4936-8a1f-7904696e3cae",
      "metadata": {
        "id": "2a4c9cfc-3121-4936-8a1f-7904696e3cae"
      },
      "source": [
        "---"
      ]
    },
    {
      "cell_type": "markdown",
      "id": "6d98fcd3-c6d2-4e2c-8bc1-a90e6fcb694e",
      "metadata": {
        "id": "6d98fcd3-c6d2-4e2c-8bc1-a90e6fcb694e"
      },
      "source": [
        "### Exercício 10\n",
        "\n",
        "Escreva um programa que pergunte a distância que um passageiro deseja percorrer em km e em seguinda calcule o preço da viagem, sendo:\n",
        "\n",
        "* O valor cobrando para viagens de até de 200km é `R$`0,50 por km.\n",
        "* Acima de 200km o valor cobrado é de `R$`0,40 por km.\n"
      ]
    },
    {
      "cell_type": "code",
      "execution_count": null,
      "id": "cbd2ac2d-7d39-4cbb-bf06-80956aab6f4e",
      "metadata": {
        "id": "cbd2ac2d-7d39-4cbb-bf06-80956aab6f4e"
      },
      "outputs": [],
      "source": [
        "\n",
        "\n"
      ]
    },
    {
      "cell_type": "markdown",
      "id": "4fa49c19-e49e-462b-aed7-ef278724cf35",
      "metadata": {
        "id": "4fa49c19-e49e-462b-aed7-ef278724cf35"
      },
      "source": [
        "---"
      ]
    },
    {
      "cell_type": "markdown",
      "id": "a5e0356b-e1c3-4215-8f09-cd6ae253040f",
      "metadata": {
        "id": "a5e0356b-e1c3-4215-8f09-cd6ae253040f"
      },
      "source": [
        "### Exercício 11\n",
        "\n",
        "Escreva um programa que pergunte o salário do funcionário e calcule:\n",
        "- Se o salário for menor ou igual a `R$`2000.00, ele receberá um aumento de 20%.\n",
        "- Se o salário for maior a `R$`2000.00, ele receberá um aumento de 10%.\n",
        "        \n",
        "**Dica:**<br>\n",
        "_20% equivale a 0.20_<br>\n",
        "_10% equivale a 0.10_\n",
        "\n",
        "Imprima o novo salário do funcionário."
      ]
    },
    {
      "cell_type": "code",
      "execution_count": null,
      "id": "343fd3b8-fddb-4d3f-a06f-eadce6447c48",
      "metadata": {
        "id": "343fd3b8-fddb-4d3f-a06f-eadce6447c48"
      },
      "outputs": [],
      "source": [
        "\n",
        "\n"
      ]
    },
    {
      "cell_type": "markdown",
      "id": "7ea2af9b-bd0b-4386-95be-80814188ad08",
      "metadata": {
        "id": "7ea2af9b-bd0b-4386-95be-80814188ad08"
      },
      "source": [
        "---"
      ]
    },
    {
      "cell_type": "markdown",
      "id": "ec79d8bf-8319-4db3-ac8d-ec779047d541",
      "metadata": {
        "id": "ec79d8bf-8319-4db3-ac8d-ec779047d541"
      },
      "source": [
        "### Exercício 12\n",
        "\n",
        "Leia um número inteiro entre 1 e 12 e escreva o mês correspondente. Caso o usuário digite um número fora desse intervalo, deverá aparecer uma mensagem informando que 'não existe mês com este número'.\n",
        "\n",
        "**Exemplo:**  \n",
        "_Quando receber o número **1** retorne **Janeiro**  \n",
        "Quando receber o número **2** retorne **Fevereiro**  \n",
        "Quando receber o número **3** retorne **Março**  \n",
        "..._"
      ]
    },
    {
      "cell_type": "code",
      "execution_count": null,
      "id": "ab042dac-f4da-4dea-9b02-c17aaf9a2d41",
      "metadata": {
        "tags": [],
        "id": "ab042dac-f4da-4dea-9b02-c17aaf9a2d41"
      },
      "outputs": [],
      "source": [
        "\n",
        "\n"
      ]
    },
    {
      "cell_type": "markdown",
      "id": "5a12b5c7-4c4f-497f-baf8-fbc717c0455e",
      "metadata": {
        "id": "5a12b5c7-4c4f-497f-baf8-fbc717c0455e"
      },
      "source": [
        "---"
      ]
    },
    {
      "cell_type": "markdown",
      "id": "115b57bc-71b6-496c-9886-f15f9f6ec1a4",
      "metadata": {
        "tags": [],
        "id": "115b57bc-71b6-496c-9886-f15f9f6ec1a4"
      },
      "source": [
        "### Exercício 13\n",
        "\n",
        "Escreva um programa que faça duas perguntas ao usuário para calcular o valor da compra dele:\n",
        "\n",
        "1. Qual o valor total da compra\n",
        "1. Qual é forma de pagamento, sendo:\n",
        "    * Se o usuário digitar **pix** conceda um desconto de 5% em cima do valor total\n",
        "    * Se o usuário digitar **débito** retorne o valor original\n",
        "    * Se o usuário digitar **crédito** adicione um acréscimo de 5 % em cima do valor total\n",
        "    * Digitando qualquer outro valor retorne 'Valor inválido, operação cancelada'\n",
        "\n",
        "\n"
      ]
    },
    {
      "cell_type": "code",
      "execution_count": null,
      "id": "c8d8f48b-ff04-4e37-9cc5-90ccb1131b5c",
      "metadata": {
        "tags": [],
        "id": "c8d8f48b-ff04-4e37-9cc5-90ccb1131b5c"
      },
      "outputs": [],
      "source": [
        "\n",
        "\n"
      ]
    },
    {
      "cell_type": "markdown",
      "id": "657ec199-a0ef-410b-919b-1ac111952921",
      "metadata": {
        "id": "657ec199-a0ef-410b-919b-1ac111952921"
      },
      "source": [
        "---"
      ]
    }
  ],
  "metadata": {
    "kernelspec": {
      "display_name": "Python 3 (ipykernel)",
      "language": "python",
      "name": "python3"
    },
    "language_info": {
      "codemirror_mode": {
        "name": "ipython",
        "version": 3
      },
      "file_extension": ".py",
      "mimetype": "text/x-python",
      "name": "python",
      "nbconvert_exporter": "python",
      "pygments_lexer": "ipython3",
      "version": "3.11.5"
    },
    "colab": {
      "provenance": [],
      "include_colab_link": true
    }
  },
  "nbformat": 4,
  "nbformat_minor": 5
}