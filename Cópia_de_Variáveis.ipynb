{
  "cells": [
    {
      "cell_type": "markdown",
      "metadata": {
        "id": "view-in-github",
        "colab_type": "text"
      },
      "source": [
        "<a href=\"https://colab.research.google.com/github/jcleachi/devweekgit.github.io/blob/main/C%C3%B3pia_de_Vari%C3%A1veis.ipynb\" target=\"_parent\"><img src=\"https://colab.research.google.com/assets/colab-badge.svg\" alt=\"Open In Colab\"/></a>"
      ]
    },
    {
      "cell_type": "markdown",
      "id": "7b0d83b5-bfbc-403a-acb2-efb9c72c4569",
      "metadata": {
        "id": "7b0d83b5-bfbc-403a-acb2-efb9c72c4569"
      },
      "source": [
        "# <font color='OrangeRed'><center>Exercícios - Variáveis</center></font>"
      ]
    },
    {
      "cell_type": "markdown",
      "id": "72475343-890c-4d84-b399-d1f42dca6019",
      "metadata": {
        "id": "72475343-890c-4d84-b399-d1f42dca6019"
      },
      "source": [
        "### Exercício 01\n",
        "\n",
        "Imprima o valor da variável 'c'"
      ]
    },
    {
      "cell_type": "code",
      "execution_count": null,
      "id": "b91989ff-4097-4641-9077-1878e47130a5",
      "metadata": {
        "id": "b91989ff-4097-4641-9077-1878e47130a5"
      },
      "outputs": [],
      "source": [
        "a = 5\n",
        "b = 10\n",
        "c = a + b"
      ]
    },
    {
      "cell_type": "markdown",
      "id": "df28b209-42db-437a-bde6-f885c62b4769",
      "metadata": {
        "id": "df28b209-42db-437a-bde6-f885c62b4769"
      },
      "source": [
        "---"
      ]
    },
    {
      "cell_type": "markdown",
      "id": "33c98b45-152a-426d-ae12-c3eb234a67f9",
      "metadata": {
        "id": "33c98b45-152a-426d-ae12-c3eb234a67f9"
      },
      "source": [
        "### Exercício 02\n",
        "\n",
        "Imprima o valor da variável 'escola'"
      ]
    },
    {
      "cell_type": "code",
      "execution_count": null,
      "id": "52a804b5-32e4-424f-9a8a-a58b61b6651b",
      "metadata": {
        "id": "52a804b5-32e4-424f-9a8a-a58b61b6651b"
      },
      "outputs": [],
      "source": [
        "escola = 'SENAI Luiz Pagliato'"
      ]
    },
    {
      "cell_type": "markdown",
      "id": "44693095-afd7-438e-9b68-e7ae49c8b2c3",
      "metadata": {
        "id": "44693095-afd7-438e-9b68-e7ae49c8b2c3"
      },
      "source": [
        "---"
      ]
    },
    {
      "cell_type": "markdown",
      "id": "fafbc675-5bb9-4dc0-ba12-45e60b1dc1f3",
      "metadata": {
        "id": "fafbc675-5bb9-4dc0-ba12-45e60b1dc1f3"
      },
      "source": [
        "### Exercício 03\n",
        "\n",
        "Crie a variável 'z', em seguida atribua a ela o valor de 'x + y', por fim imprima o valor de 'z'"
      ]
    },
    {
      "cell_type": "code",
      "execution_count": null,
      "id": "5e70830e-bf1a-49ea-abd0-c3f6a3d0a234",
      "metadata": {
        "id": "5e70830e-bf1a-49ea-abd0-c3f6a3d0a234"
      },
      "outputs": [],
      "source": [
        "x = 7\n",
        "y = 8"
      ]
    },
    {
      "cell_type": "markdown",
      "id": "b6d4b961-7b2f-4c8a-9849-a17b0c8ddeb2",
      "metadata": {
        "id": "b6d4b961-7b2f-4c8a-9849-a17b0c8ddeb2"
      },
      "source": [
        "---"
      ]
    },
    {
      "cell_type": "markdown",
      "id": "ec55c058-7200-410f-ae59-2f699123e4d5",
      "metadata": {
        "id": "ec55c058-7200-410f-ae59-2f699123e4d5"
      },
      "source": [
        "### Exercício 04\n",
        "\n",
        "Crie a variável 't', em seguida atribua a ela o valor de 'r - s', por fim imprima o valor de 't'"
      ]
    },
    {
      "cell_type": "code",
      "execution_count": null,
      "id": "a108852b-8488-40b9-92ba-55f4aadd62c7",
      "metadata": {
        "id": "a108852b-8488-40b9-92ba-55f4aadd62c7"
      },
      "outputs": [],
      "source": [
        "r = 12\n",
        "s = 10"
      ]
    },
    {
      "cell_type": "markdown",
      "id": "19cf80cc-9001-4c83-a7c7-5bc7eb298021",
      "metadata": {
        "id": "19cf80cc-9001-4c83-a7c7-5bc7eb298021"
      },
      "source": [
        "---"
      ]
    },
    {
      "cell_type": "markdown",
      "id": "813bef85-fba9-4075-a2f3-b521bf934cdc",
      "metadata": {
        "id": "813bef85-fba9-4075-a2f3-b521bf934cdc"
      },
      "source": [
        "### Exercício 05\n",
        "\n",
        "Crie a variável 'd', em seguida atribua a ela o valor de 'a + b + c', por fim imprima o valor de 'd'"
      ]
    },
    {
      "cell_type": "code",
      "execution_count": null,
      "id": "d48a5691-392e-4e7f-b132-6e02d967676a",
      "metadata": {
        "id": "d48a5691-392e-4e7f-b132-6e02d967676a"
      },
      "outputs": [],
      "source": [
        "a = 2\n",
        "b = 3\n",
        "c = 5"
      ]
    },
    {
      "cell_type": "markdown",
      "id": "b7760180-e1ca-4f4d-9252-257025df768a",
      "metadata": {
        "id": "b7760180-e1ca-4f4d-9252-257025df768a"
      },
      "source": [
        "---"
      ]
    },
    {
      "cell_type": "markdown",
      "id": "d3cbee2e-14bb-4836-842e-8246b4f4aab1",
      "metadata": {
        "id": "d3cbee2e-14bb-4836-842e-8246b4f4aab1"
      },
      "source": [
        "### Exercício 06\n",
        "\n",
        "Faça um programa que pergunte qual é o nome completo do usuário, salve o valor dentro de uma variável, em seguida imprima o nome informado"
      ]
    },
    {
      "cell_type": "code",
      "execution_count": null,
      "id": "bc7fd895-6d43-4e33-97e8-2fa38c648773",
      "metadata": {
        "id": "bc7fd895-6d43-4e33-97e8-2fa38c648773"
      },
      "outputs": [],
      "source": []
    },
    {
      "cell_type": "markdown",
      "id": "3ab571c9-a918-4a00-9129-c0e4b41bcfd3",
      "metadata": {
        "id": "3ab571c9-a918-4a00-9129-c0e4b41bcfd3"
      },
      "source": [
        "---"
      ]
    },
    {
      "cell_type": "markdown",
      "id": "514c35f4-c6cd-4493-8e2e-83c23a0c07cb",
      "metadata": {
        "id": "514c35f4-c6cd-4493-8e2e-83c23a0c07cb"
      },
      "source": [
        "### Exercício 07\n",
        "\n",
        "Faça um programa que pergunte qual é a idade usuário, salve o valor dentro de uma variável, em seguida imprima a idade informada"
      ]
    },
    {
      "cell_type": "code",
      "execution_count": null,
      "id": "eb7638b9-e5be-4899-9c22-de84d501c2ba",
      "metadata": {
        "id": "eb7638b9-e5be-4899-9c22-de84d501c2ba"
      },
      "outputs": [],
      "source": []
    },
    {
      "cell_type": "markdown",
      "id": "7ff9926c-7916-419b-af23-2a047791bc89",
      "metadata": {
        "id": "7ff9926c-7916-419b-af23-2a047791bc89"
      },
      "source": [
        "---"
      ]
    },
    {
      "cell_type": "markdown",
      "id": "2753ce74-276e-4971-a93d-49c49612f5df",
      "metadata": {
        "id": "2753ce74-276e-4971-a93d-49c49612f5df"
      },
      "source": [
        "### Exercício 08\n",
        "\n",
        "Faça um programa que pergunte qual linguagem de programação o usuário gostaria de aprender, salve o valor dentro de uma variável, em seguida imprima o nome da linguagem"
      ]
    },
    {
      "cell_type": "code",
      "execution_count": null,
      "id": "38d8fd67-a090-480f-a45a-75854d556312",
      "metadata": {
        "id": "38d8fd67-a090-480f-a45a-75854d556312"
      },
      "outputs": [],
      "source": []
    },
    {
      "cell_type": "markdown",
      "id": "203bd6b9-5d8c-4f8b-b0f2-42d22f4c255e",
      "metadata": {
        "id": "203bd6b9-5d8c-4f8b-b0f2-42d22f4c255e"
      },
      "source": [
        "---"
      ]
    },
    {
      "cell_type": "markdown",
      "id": "565ad9dc-26f6-43bd-8d0f-34988350f181",
      "metadata": {
        "id": "565ad9dc-26f6-43bd-8d0f-34988350f181"
      },
      "source": [
        "### Exercício 09\n",
        "\n",
        "Faça um programa que pergunte qual é a data de hoje, salve o valor dentro de uma variável, em seguida imprima a data informada\n"
      ]
    },
    {
      "cell_type": "code",
      "execution_count": null,
      "id": "c2f8782e-0ee1-4bb5-9765-b2ea6898e358",
      "metadata": {
        "id": "c2f8782e-0ee1-4bb5-9765-b2ea6898e358"
      },
      "outputs": [],
      "source": []
    },
    {
      "cell_type": "markdown",
      "id": "0f562969-2d36-4a00-9a55-ba029625acad",
      "metadata": {
        "id": "0f562969-2d36-4a00-9a55-ba029625acad"
      },
      "source": [
        "---"
      ]
    },
    {
      "cell_type": "markdown",
      "id": "4781c1eb-3499-47f7-a079-f85aea11314b",
      "metadata": {
        "id": "4781c1eb-3499-47f7-a079-f85aea11314b"
      },
      "source": [
        "### Exercício 10\n",
        "\n",
        "Faça um programa que pergunte qual é o dia da semana, salve o valor dentro de uma variável, em seguida imprima o dia informado"
      ]
    },
    {
      "cell_type": "code",
      "execution_count": null,
      "id": "ae15b58c-3505-40ad-a337-29b95d692d61",
      "metadata": {
        "id": "ae15b58c-3505-40ad-a337-29b95d692d61"
      },
      "outputs": [],
      "source": []
    },
    {
      "cell_type": "markdown",
      "id": "5bc73a34-1682-4e8f-85e4-1737fae52e7d",
      "metadata": {
        "id": "5bc73a34-1682-4e8f-85e4-1737fae52e7d"
      },
      "source": [
        "---"
      ]
    }
  ],
  "metadata": {
    "kernelspec": {
      "display_name": "anaconda-2022.05-py39",
      "language": "python",
      "name": "conda-env-anaconda-2022.05-py39-py"
    },
    "language_info": {
      "codemirror_mode": {
        "name": "ipython",
        "version": 3
      },
      "file_extension": ".py",
      "mimetype": "text/x-python",
      "name": "python",
      "nbconvert_exporter": "python",
      "pygments_lexer": "ipython3",
      "version": "3.9.12"
    },
    "colab": {
      "provenance": [],
      "include_colab_link": true
    }
  },
  "nbformat": 4,
  "nbformat_minor": 5
}