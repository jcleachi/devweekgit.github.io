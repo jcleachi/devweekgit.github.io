{
  "cells": [
    {
      "cell_type": "markdown",
      "metadata": {
        "id": "view-in-github",
        "colab_type": "text"
      },
      "source": [
        "<a href=\"https://colab.research.google.com/github/jcleachi/devweekgit.github.io/blob/main/Aula_Listas_Respostas.ipynb\" target=\"_parent\"><img src=\"https://colab.research.google.com/assets/colab-badge.svg\" alt=\"Open In Colab\"/></a>"
      ]
    },
    {
      "cell_type": "markdown",
      "id": "c5d65cfe-531b-4f2a-807a-a628ee653bfa",
      "metadata": {
        "id": "c5d65cfe-531b-4f2a-807a-a628ee653bfa"
      },
      "source": [
        "# <font color='OrangeRed'><center>Exercícios - Listas<br>Respostas</center></font>"
      ]
    },
    {
      "cell_type": "markdown",
      "id": "d49985ef-a662-4f57-9cb8-d5b340005155",
      "metadata": {
        "id": "d49985ef-a662-4f57-9cb8-d5b340005155"
      },
      "source": [
        "### Exercício 01\n",
        "\n",
        "Imprima o quarto item da lista de frutas."
      ]
    },
    {
      "cell_type": "code",
      "execution_count": null,
      "id": "0c5c19a4-3a2e-41f6-a3b6-b14a5d5534d6",
      "metadata": {
        "id": "0c5c19a4-3a2e-41f6-a3b6-b14a5d5534d6",
        "outputId": "579a6771-3237-4cad-de81-34b8d729f358"
      },
      "outputs": [
        {
          "name": "stdout",
          "output_type": "stream",
          "text": [
            "Melão\n"
          ]
        }
      ],
      "source": [
        "frutas = ['Maçã', 'Banana', 'Jaca', 'Melão', 'Abacaxi']\n",
        "\n",
        "print(frutas[3])"
      ]
    },
    {
      "cell_type": "markdown",
      "id": "b6701f9a-1f74-4f53-ab8e-3c9831a5a0fc",
      "metadata": {
        "id": "b6701f9a-1f74-4f53-ab8e-3c9831a5a0fc"
      },
      "source": [
        "---"
      ]
    },
    {
      "cell_type": "markdown",
      "id": "315b5a20-845c-40a6-86c2-e5b0c25284bd",
      "metadata": {
        "id": "315b5a20-845c-40a6-86c2-e5b0c25284bd"
      },
      "source": [
        "### Exercício 02\n",
        "\n",
        "Imprima o primeiro item da lista de números."
      ]
    },
    {
      "cell_type": "code",
      "execution_count": null,
      "id": "4b29470a-0b34-4291-96c8-2e3f99f6b952",
      "metadata": {
        "id": "4b29470a-0b34-4291-96c8-2e3f99f6b952",
        "outputId": "11ff9d7a-58e9-4327-e80b-6d4eebac7f71"
      },
      "outputs": [
        {
          "name": "stdout",
          "output_type": "stream",
          "text": [
            "1\n"
          ]
        }
      ],
      "source": [
        "numeros = [1, 2, 3, 4, 5]\n",
        "\n",
        "print(numeros[0])"
      ]
    },
    {
      "cell_type": "markdown",
      "id": "15adfaf7-e205-4ddd-ba25-1c10b3647449",
      "metadata": {
        "id": "15adfaf7-e205-4ddd-ba25-1c10b3647449"
      },
      "source": [
        "---"
      ]
    },
    {
      "cell_type": "markdown",
      "id": "13ff8f2d-0ae9-45a4-8fa1-e8ebb97a4907",
      "metadata": {
        "id": "13ff8f2d-0ae9-45a4-8fa1-e8ebb97a4907"
      },
      "source": [
        "### Exercício 03\n",
        "\n",
        "Altere o valor de 5 para -5 na lista de números."
      ]
    },
    {
      "cell_type": "code",
      "execution_count": null,
      "id": "951512e0-4c00-4479-bab0-39a486445024",
      "metadata": {
        "id": "951512e0-4c00-4479-bab0-39a486445024",
        "outputId": "f1ee0f8f-166f-4e45-e2c1-9f01540e5df5"
      },
      "outputs": [
        {
          "name": "stdout",
          "output_type": "stream",
          "text": [
            "[-1, -2, -3, -4, -5]\n"
          ]
        }
      ],
      "source": [
        "numeros = [-1, -2, -3, -4, 5]\n",
        "\n",
        "numeros.remove(5)\n",
        "numeros.append(-5)\n",
        "\n",
        "numeros[4] = -5\n",
        "\n",
        "print(numeros)"
      ]
    },
    {
      "cell_type": "markdown",
      "id": "b4964aa9-23b0-495b-b34d-bf8be77df1a3",
      "metadata": {
        "id": "b4964aa9-23b0-495b-b34d-bf8be77df1a3"
      },
      "source": [
        "---"
      ]
    },
    {
      "cell_type": "markdown",
      "id": "75d934a2-164e-416d-b327-592f246996e5",
      "metadata": {
        "id": "75d934a2-164e-416d-b327-592f246996e5"
      },
      "source": [
        "### Exercício 04\n",
        "\n",
        "Use um método de lista para adicionar o valor 'Laranja' no final da lista de frutas."
      ]
    },
    {
      "cell_type": "code",
      "execution_count": null,
      "id": "4b889b4f-9ca4-4067-9ef8-6568c3ab6188",
      "metadata": {
        "id": "4b889b4f-9ca4-4067-9ef8-6568c3ab6188",
        "outputId": "fb417d15-3d13-49e8-807f-74a92b6499e6"
      },
      "outputs": [
        {
          "name": "stdout",
          "output_type": "stream",
          "text": [
            "['Maçã', 'Banana', 'Jaca', 'Melão', 'Abacaxi', 'Laranja']\n"
          ]
        }
      ],
      "source": [
        "frutas = ['Maçã', 'Banana', 'Jaca', 'Melão', 'Abacaxi']\n",
        "\n",
        "frutas.append('Laranja')\n",
        "\n",
        "print( frutas )"
      ]
    },
    {
      "cell_type": "markdown",
      "id": "a2384c99-e799-4527-82df-572710327864",
      "metadata": {
        "id": "a2384c99-e799-4527-82df-572710327864"
      },
      "source": [
        "---"
      ]
    },
    {
      "cell_type": "markdown",
      "id": "16fafa71-b1b5-4e44-a379-2dcc5f46d98b",
      "metadata": {
        "id": "16fafa71-b1b5-4e44-a379-2dcc5f46d98b"
      },
      "source": [
        "### Exercício 05\n",
        "\n",
        "Use um método de lista para inserir 'Limão' como segundo item na lista de frutas sem alterar o valor dos demais itens."
      ]
    },
    {
      "cell_type": "code",
      "execution_count": null,
      "id": "326a76a3-9924-45fe-afe7-7392ee9f6859",
      "metadata": {
        "tags": [],
        "id": "326a76a3-9924-45fe-afe7-7392ee9f6859",
        "outputId": "3deb6492-03e4-4cc6-a482-d472a407aa57"
      },
      "outputs": [
        {
          "name": "stdout",
          "output_type": "stream",
          "text": [
            "['Maçã', 'Limão', 'Banana', 'Jaca', 'Melão', 'Abacaxi']\n"
          ]
        }
      ],
      "source": [
        "frutas = ['Maçã', 'Banana', 'Jaca', 'Melão', 'Abacaxi']\n",
        "\n",
        "frutas.insert(1, 'Limão')\n",
        "\n",
        "print(frutas)"
      ]
    },
    {
      "cell_type": "markdown",
      "id": "28aed39b-c012-49fa-bb1e-9da0d52b6fe2",
      "metadata": {
        "id": "28aed39b-c012-49fa-bb1e-9da0d52b6fe2"
      },
      "source": [
        "---"
      ]
    },
    {
      "cell_type": "markdown",
      "id": "477709bb-f208-447e-b4fc-589ecdcea211",
      "metadata": {
        "id": "477709bb-f208-447e-b4fc-589ecdcea211"
      },
      "source": [
        "### Exercício 06\n",
        "\n",
        "Use um método de lista para inserir o número 4 como quarto item na lista de números sem alterar o valor dos demais itens."
      ]
    },
    {
      "cell_type": "code",
      "execution_count": null,
      "id": "41be04d8-b654-43d5-899c-c846dd290bb8",
      "metadata": {
        "id": "41be04d8-b654-43d5-899c-c846dd290bb8",
        "outputId": "b8e21752-76bb-4afe-ec46-8fd579a86254"
      },
      "outputs": [
        {
          "name": "stdout",
          "output_type": "stream",
          "text": [
            "[1, 2, 3, 4, 5, 6, 7]\n"
          ]
        }
      ],
      "source": [
        "numeros = [1, 2, 3, 5, 6, 7]\n",
        "\n",
        "\n",
        "numeros.insert(3, 4)\n",
        "\n",
        "print(numeros)"
      ]
    },
    {
      "cell_type": "markdown",
      "id": "07c3a602-ec8a-449d-83d5-f4f94e48cb09",
      "metadata": {
        "id": "07c3a602-ec8a-449d-83d5-f4f94e48cb09"
      },
      "source": [
        "---"
      ]
    },
    {
      "cell_type": "markdown",
      "id": "00022904-615b-42a7-88bf-84db199c3ca6",
      "metadata": {
        "id": "00022904-615b-42a7-88bf-84db199c3ca6"
      },
      "source": [
        "### Exercício 07\n",
        "\n",
        "Use um método de lista para remover o item 'banana' da lista de frutas."
      ]
    },
    {
      "cell_type": "code",
      "execution_count": null,
      "id": "0adac427-216f-44cb-85e8-97462d72480e",
      "metadata": {
        "id": "0adac427-216f-44cb-85e8-97462d72480e",
        "outputId": "9dfc3d90-bd45-4d30-c4b4-8e0a5f16fdc5"
      },
      "outputs": [
        {
          "name": "stdout",
          "output_type": "stream",
          "text": [
            "['Maçã', 'Jaca', 'Melão', 'Abacaxi']\n"
          ]
        }
      ],
      "source": [
        "frutas = ['Maçã', 'Banana', 'Jaca', 'Melão', 'Abacaxi']\n",
        "\n",
        "frutas.remove('Banana')\n",
        "\n",
        "print(frutas)"
      ]
    },
    {
      "cell_type": "markdown",
      "id": "6bbe94ac-ddd8-44d8-a8aa-4f7bebc38b18",
      "metadata": {
        "id": "6bbe94ac-ddd8-44d8-a8aa-4f7bebc38b18"
      },
      "source": [
        "---"
      ]
    },
    {
      "cell_type": "markdown",
      "id": "fd5e72f6-f10a-4a57-a56d-8ca3920366ed",
      "metadata": {
        "id": "fd5e72f6-f10a-4a57-a56d-8ca3920366ed"
      },
      "source": [
        "### Exercício 08\n",
        "\n",
        "Use um método de lista para remover o número -2 e -6, sendo um de cada vez, da lista de números."
      ]
    },
    {
      "cell_type": "code",
      "execution_count": null,
      "id": "3e987734-1576-4519-9984-ffab2cc95a2a",
      "metadata": {
        "id": "3e987734-1576-4519-9984-ffab2cc95a2a",
        "outputId": "19a0a005-58a5-412a-b246-9aa6be70967f"
      },
      "outputs": [
        {
          "name": "stdout",
          "output_type": "stream",
          "text": [
            "[1, 2, 3, 4, 5, 6, 7]\n"
          ]
        }
      ],
      "source": [
        "numeros = [1, 2, -2, 3, 4, 5, 6, -6, 7]\n",
        "\n",
        "numeros.remove(-2)\n",
        "numeros.remove(-6)\n",
        "\n",
        "print(numeros)"
      ]
    },
    {
      "cell_type": "markdown",
      "id": "3cea703a-d6bc-4168-a507-eaecae0e7afd",
      "metadata": {
        "id": "3cea703a-d6bc-4168-a507-eaecae0e7afd"
      },
      "source": [
        "---"
      ]
    },
    {
      "cell_type": "markdown",
      "id": "ed145ae7-791e-4a08-80ad-14969f08f0d5",
      "metadata": {
        "id": "ed145ae7-791e-4a08-80ad-14969f08f0d5"
      },
      "source": [
        "### Exercício 09\n",
        "\n",
        "Use um método de lista para retornar o número de itens da lista de números."
      ]
    },
    {
      "cell_type": "code",
      "execution_count": null,
      "id": "c6170314-8b83-4342-8567-529fdd32ef14",
      "metadata": {
        "id": "c6170314-8b83-4342-8567-529fdd32ef14",
        "outputId": "57ef53f5-7a73-4ab5-cacc-4fd33eecdb3a"
      },
      "outputs": [
        {
          "name": "stdout",
          "output_type": "stream",
          "text": [
            "7\n"
          ]
        }
      ],
      "source": [
        "numeros = [1, 2, 3, 4, 5, 6, 7]\n",
        "\n",
        "print( len(numeros) )"
      ]
    },
    {
      "cell_type": "markdown",
      "id": "3c21421a-2eb1-418c-85cc-30576843d97a",
      "metadata": {
        "id": "3c21421a-2eb1-418c-85cc-30576843d97a"
      },
      "source": [
        "---"
      ]
    },
    {
      "cell_type": "markdown",
      "id": "98ec043b-e684-456b-a689-63a4d76b4179",
      "metadata": {
        "id": "98ec043b-e684-456b-a689-63a4d76b4179"
      },
      "source": [
        "### Exercício 10\n",
        "\n",
        "Use um método de lista para inverter os itens da lista de frutas."
      ]
    },
    {
      "cell_type": "code",
      "execution_count": null,
      "id": "8a9ced68-f28a-4c89-a20f-b468a6eeaaf0",
      "metadata": {
        "id": "8a9ced68-f28a-4c89-a20f-b468a6eeaaf0",
        "outputId": "40ecf4fc-4298-4234-fb12-995c57f805e5"
      },
      "outputs": [
        {
          "name": "stdout",
          "output_type": "stream",
          "text": [
            "['Abacaxi', 'Melão', 'Jaca', 'Banana', 'Maçã']\n"
          ]
        }
      ],
      "source": [
        "frutas = ['Maçã', 'Banana', 'Jaca', 'Melão', 'Abacaxi']\n",
        "\n",
        "frutas.reverse()\n",
        "\n",
        "print( frutas )"
      ]
    },
    {
      "cell_type": "markdown",
      "id": "75c70108-839f-401a-ae32-b1f7eb246c70",
      "metadata": {
        "id": "75c70108-839f-401a-ae32-b1f7eb246c70"
      },
      "source": [
        "---"
      ]
    },
    {
      "cell_type": "markdown",
      "id": "319ebc08-e287-488c-a59a-d9fd013d78a2",
      "metadata": {
        "id": "319ebc08-e287-488c-a59a-d9fd013d78a2"
      },
      "source": [
        "### Exercício 11\n",
        "\n",
        "Use um método de lista para inverter os itens da lista de números."
      ]
    },
    {
      "cell_type": "code",
      "execution_count": null,
      "id": "652b9527-b605-4e21-b32a-b749b3c650a6",
      "metadata": {
        "id": "652b9527-b605-4e21-b32a-b749b3c650a6",
        "outputId": "bd2f684b-7ce9-4cc4-d619-c7542a69b132"
      },
      "outputs": [
        {
          "name": "stdout",
          "output_type": "stream",
          "text": [
            "[10, 20, 30, 40, 50, 60, 70, 80, 90]\n"
          ]
        }
      ],
      "source": [
        "numeros = [90, 80, 70, 60, 50, 40, 30, 20, 10]\n",
        "\n",
        "numeros.reverse()\n",
        "\n",
        "print( numeros )"
      ]
    },
    {
      "cell_type": "markdown",
      "id": "882c0342-55e9-4c45-bd5c-afe85e5f70f5",
      "metadata": {
        "id": "882c0342-55e9-4c45-bd5c-afe85e5f70f5"
      },
      "source": [
        "---"
      ]
    },
    {
      "cell_type": "markdown",
      "id": "bad168b2-ff30-40bc-9d5c-022b267e82ed",
      "metadata": {
        "id": "bad168b2-ff30-40bc-9d5c-022b267e82ed"
      },
      "source": [
        "### Exercício 12\n",
        "\n",
        "Use um método de lista para organizar a lista de frutas em ordem alfabética."
      ]
    },
    {
      "cell_type": "code",
      "execution_count": null,
      "id": "9f883b00-bbbf-439b-a9f8-da6372751554",
      "metadata": {
        "id": "9f883b00-bbbf-439b-a9f8-da6372751554",
        "outputId": "128e074d-1ef9-4b38-85e8-9134794265ac"
      },
      "outputs": [
        {
          "name": "stdout",
          "output_type": "stream",
          "text": [
            "['Abacaxi', 'Banana', 'Jaca', 'Maçã', 'Melão']\n"
          ]
        }
      ],
      "source": [
        "frutas = ['Maçã', 'Banana', 'Jaca', 'Melão', 'Abacaxi']\n",
        "\n",
        "frutas.sort()\n",
        "\n",
        "print( frutas )"
      ]
    },
    {
      "cell_type": "markdown",
      "id": "6b3f7a16-d42b-47bb-b500-89314b6da359",
      "metadata": {
        "id": "6b3f7a16-d42b-47bb-b500-89314b6da359"
      },
      "source": [
        "---"
      ]
    },
    {
      "cell_type": "markdown",
      "id": "81e99c1b-8836-4c7f-8bed-a650135b3a0c",
      "metadata": {
        "id": "81e99c1b-8836-4c7f-8bed-a650135b3a0c"
      },
      "source": [
        "### Exercício 13\n",
        "\n",
        "Faça um programa que peça ao usuário que digite um número inteiro, em seguida converta o valor digitado para o tipo **int**, por fim adicione o número convertido no final da lista."
      ]
    },
    {
      "cell_type": "code",
      "execution_count": null,
      "id": "d718390a-7709-4402-87bd-a24561058ed8",
      "metadata": {
        "id": "d718390a-7709-4402-87bd-a24561058ed8",
        "outputId": "0967342e-e8a2-4886-b561-c0a47341f3fc"
      },
      "outputs": [
        {
          "name": "stdin",
          "output_type": "stream",
          "text": [
            "Digite um número inteiro:  6\n"
          ]
        },
        {
          "name": "stdout",
          "output_type": "stream",
          "text": [
            "[1, 2, 3, 4, 5, 6]\n"
          ]
        }
      ],
      "source": [
        "numeros = [1, 2, 3, 4, 5]\n",
        "\n",
        "n = input('Digite um número inteiro: ')\n",
        "n = int(n)\n",
        "\n",
        "numeros.append(n)\n",
        "\n",
        "print( numeros )"
      ]
    },
    {
      "cell_type": "markdown",
      "id": "fc6424d9-d293-4270-9525-4d04b1f3ab7d",
      "metadata": {
        "id": "fc6424d9-d293-4270-9525-4d04b1f3ab7d"
      },
      "source": [
        "---"
      ]
    },
    {
      "cell_type": "markdown",
      "id": "e852db46-7210-4716-bd17-8521366c8da6",
      "metadata": {
        "id": "e852db46-7210-4716-bd17-8521366c8da6"
      },
      "source": [
        "### Exercício 14\n",
        "\n",
        "Faça um programa que peça ao usuário que digite um número de 0 a 4, em seguida converta o valor digitado para o tipo **int**, por fim utilize o número informado como índice para retornar o nome de uma fruta da lista de frutas."
      ]
    },
    {
      "cell_type": "code",
      "execution_count": null,
      "id": "109d47cb-4ff4-4eb5-ba4d-54f390942d97",
      "metadata": {
        "id": "109d47cb-4ff4-4eb5-ba4d-54f390942d97"
      },
      "outputs": [],
      "source": [
        "frutas = ['Maçã', 'Banana', 'Jaca', 'Melão', 'Abacaxi']\n",
        "\n",
        "x = int(input('Digite um número de 0 a 4: '))\n",
        "\n",
        "print( frutas[x] )"
      ]
    },
    {
      "cell_type": "markdown",
      "id": "4a2f2ce7-de2d-48a9-ad50-46828f5ffd7d",
      "metadata": {
        "id": "4a2f2ce7-de2d-48a9-ad50-46828f5ffd7d"
      },
      "source": [
        "---"
      ]
    },
    {
      "cell_type": "markdown",
      "id": "8c263490-5010-4a09-aea3-78de7e5d7685",
      "metadata": {
        "id": "8c263490-5010-4a09-aea3-78de7e5d7685"
      },
      "source": [
        "### Exercício 15\n",
        "\n",
        "Use um método de lista para somar todos os números da lista abaixo"
      ]
    },
    {
      "cell_type": "code",
      "execution_count": null,
      "id": "71493544-ec83-41e1-91ee-3bd8197fdb55",
      "metadata": {
        "id": "71493544-ec83-41e1-91ee-3bd8197fdb55",
        "outputId": "04a8cc76-8006-4770-8685-24f94e9cf6ab"
      },
      "outputs": [
        {
          "name": "stdout",
          "output_type": "stream",
          "text": [
            "35\n"
          ]
        }
      ],
      "source": [
        "numeros = [5, 7, 8, 6, 4, 3, 2]\n",
        "\n",
        "print( sum(numeros) )"
      ]
    },
    {
      "cell_type": "markdown",
      "id": "23cfd988-4201-438a-a044-35fb0681a861",
      "metadata": {
        "id": "23cfd988-4201-438a-a044-35fb0681a861"
      },
      "source": [
        "---"
      ]
    },
    {
      "cell_type": "markdown",
      "id": "87a397f0-0745-4898-bf78-b12db39ae29f",
      "metadata": {
        "id": "87a397f0-0745-4898-bf78-b12db39ae29f"
      },
      "source": [
        "### Exercício 16\n",
        "\n",
        "Use um método de lista para retornar o índice da letra 'd' na lista de letras"
      ]
    },
    {
      "cell_type": "code",
      "execution_count": null,
      "id": "2f7093e5-bbf1-46bd-900c-9422cf539033",
      "metadata": {
        "id": "2f7093e5-bbf1-46bd-900c-9422cf539033",
        "outputId": "72bbc7c6-1d09-48b1-d559-b8e1af71c764"
      },
      "outputs": [
        {
          "name": "stdout",
          "output_type": "stream",
          "text": [
            "3\n"
          ]
        }
      ],
      "source": [
        "letras = ['a', 'b', 'c', 'd', 'e', 'f', 'g']\n",
        "\n",
        "print( letras.index('d') )"
      ]
    },
    {
      "cell_type": "markdown",
      "id": "5fa8aa76-fbdc-400a-a61d-01d33b6e193c",
      "metadata": {
        "id": "5fa8aa76-fbdc-400a-a61d-01d33b6e193c"
      },
      "source": [
        "---"
      ]
    },
    {
      "cell_type": "markdown",
      "id": "72c87cc9-c5d4-4343-8d7a-db28e09b3371",
      "metadata": {
        "id": "72c87cc9-c5d4-4343-8d7a-db28e09b3371"
      },
      "source": [
        "### Exercício 17\n",
        "\n",
        "Crie uma variável chamada **letra3** e atribua a ela a junção das listas **letra1** e **letra2**"
      ]
    },
    {
      "cell_type": "code",
      "execution_count": null,
      "id": "d36304d9-572e-4c81-a5dc-f00f73718165",
      "metadata": {
        "id": "d36304d9-572e-4c81-a5dc-f00f73718165",
        "outputId": "ddfb751b-692d-4bc1-979c-7c68a26aac40"
      },
      "outputs": [
        {
          "name": "stdout",
          "output_type": "stream",
          "text": [
            "['a', 'b', 'c', 'd', 'e', 'f']\n"
          ]
        }
      ],
      "source": [
        "letras1 = ['a', 'b', 'c']\n",
        "letras2 = ['d', 'e', 'f']\n",
        "\n",
        "letras3 = letras1 + letras2\n",
        "\n",
        "print(letras3)"
      ]
    },
    {
      "cell_type": "markdown",
      "id": "ee935b8d-3fef-4dc8-9d16-4505cbd01487",
      "metadata": {
        "id": "ee935b8d-3fef-4dc8-9d16-4505cbd01487"
      },
      "source": [
        "---"
      ]
    },
    {
      "cell_type": "markdown",
      "id": "fa20b1f8-ff63-4d1d-8c53-a8e67a3d0cb9",
      "metadata": {
        "id": "fa20b1f8-ff63-4d1d-8c53-a8e67a3d0cb9"
      },
      "source": [
        "### Exercício 18\n",
        "\n",
        "Crie uma variável chamada **numero4** e atribua a ela a junção das listas **numero1**, **numero2** e **numero3**"
      ]
    },
    {
      "cell_type": "code",
      "execution_count": null,
      "id": "d66d891e-710d-487b-b204-6d85ac892b9a",
      "metadata": {
        "id": "d66d891e-710d-487b-b204-6d85ac892b9a",
        "outputId": "2ab9d674-ede0-48d1-d9aa-62e7a0c11c6a"
      },
      "outputs": [
        {
          "name": "stdout",
          "output_type": "stream",
          "text": [
            "[1, 2, 3, 4, 5, 6, 7, 8, 9]\n"
          ]
        }
      ],
      "source": [
        "numero1 = [1, 2, 3]\n",
        "numero2 = [4, 5, 6]\n",
        "numero3 = [7, 8, 9]\n",
        "\n",
        "numero4 =  numero1 + numero2 + numero3\n",
        "\n",
        "print( numero4 )"
      ]
    },
    {
      "cell_type": "markdown",
      "id": "83c47bb6-540c-4454-88ce-3a02bf6f5ce3",
      "metadata": {
        "id": "83c47bb6-540c-4454-88ce-3a02bf6f5ce3"
      },
      "source": [
        "---"
      ]
    }
  ],
  "metadata": {
    "kernelspec": {
      "display_name": "Python 3 (ipykernel)",
      "language": "python",
      "name": "python3"
    },
    "language_info": {
      "codemirror_mode": {
        "name": "ipython",
        "version": 3
      },
      "file_extension": ".py",
      "mimetype": "text/x-python",
      "name": "python",
      "nbconvert_exporter": "python",
      "pygments_lexer": "ipython3",
      "version": "3.11.5"
    },
    "colab": {
      "provenance": [],
      "include_colab_link": true
    }
  },
  "nbformat": 4,
  "nbformat_minor": 5
}