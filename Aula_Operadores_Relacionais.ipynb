{
  "cells": [
    {
      "cell_type": "markdown",
      "metadata": {
        "id": "view-in-github",
        "colab_type": "text"
      },
      "source": [
        "<a href=\"https://colab.research.google.com/github/jcleachi/devweekgit.github.io/blob/main/Aula_Operadores_Relacionais.ipynb\" target=\"_parent\"><img src=\"https://colab.research.google.com/assets/colab-badge.svg\" alt=\"Open In Colab\"/></a>"
      ]
    },
    {
      "cell_type": "markdown",
      "id": "9ac59412-3145-490a-b0a9-f8f8cc8e7fe0",
      "metadata": {
        "id": "9ac59412-3145-490a-b0a9-f8f8cc8e7fe0"
      },
      "source": [
        "# <font color='OrangeRed'><center>Exercícios - Operadores Relacionais</center></font>"
      ]
    },
    {
      "cell_type": "markdown",
      "id": "a1dc3402-8b11-4578-abea-bfd76df423bb",
      "metadata": {
        "id": "a1dc3402-8b11-4578-abea-bfd76df423bb"
      },
      "source": [
        "### Exercício 01\n",
        "\n",
        "Usando a conficional If, faça um programa que peça dois números diferentes ao usuário e retorne qual deles é o maior número."
      ]
    },
    {
      "cell_type": "code",
      "execution_count": null,
      "id": "da43a36d-ddb8-4030-9b50-afee9e141d7c",
      "metadata": {
        "id": "da43a36d-ddb8-4030-9b50-afee9e141d7c"
      },
      "outputs": [],
      "source": [
        "\n",
        "\n"
      ]
    },
    {
      "cell_type": "markdown",
      "id": "53ca12b7-4b4b-4137-ae90-e987f006ffc8",
      "metadata": {
        "id": "53ca12b7-4b4b-4137-ae90-e987f006ffc8"
      },
      "source": [
        "---"
      ]
    },
    {
      "cell_type": "markdown",
      "id": "ebc14d7a-cd4a-456b-837f-3fcdaac8cdfc",
      "metadata": {
        "id": "ebc14d7a-cd4a-456b-837f-3fcdaac8cdfc"
      },
      "source": [
        "### Exercício 02\n",
        "\n",
        "Usando a conficional If, faça um programa que peça um número ao usuário e se o valor for maior ou igual a 0 retorne que o número é positivo, caso o contrário retorne que o número é negativo."
      ]
    },
    {
      "cell_type": "code",
      "execution_count": null,
      "id": "5ea33518-0325-462a-aac4-4f37295278db",
      "metadata": {
        "id": "5ea33518-0325-462a-aac4-4f37295278db"
      },
      "outputs": [],
      "source": [
        "\n",
        "\n"
      ]
    },
    {
      "cell_type": "markdown",
      "id": "57c4de84-49bb-423b-97c2-35c2db28be31",
      "metadata": {
        "id": "57c4de84-49bb-423b-97c2-35c2db28be31"
      },
      "source": [
        "---"
      ]
    },
    {
      "cell_type": "markdown",
      "id": "d3da91c1-1159-4ef7-a7e6-abb5003b5836",
      "metadata": {
        "id": "d3da91c1-1159-4ef7-a7e6-abb5003b5836"
      },
      "source": [
        "### Exercício 03\n",
        "\n",
        "Usando a condicioal If, faça um programa que verifique a letra digita pelo usuário:\n",
        "- Se a letra for igual a 'F' retorne 'Feminino'\n",
        "- Se a letra for igual a 'M' retorne 'Masculino'\n",
        "- Qualquer outra letra retorne 'Sexo inválido'\n"
      ]
    },
    {
      "cell_type": "code",
      "execution_count": null,
      "id": "c71775fc-08ed-4b22-a164-2acd2ef7eab1",
      "metadata": {
        "id": "c71775fc-08ed-4b22-a164-2acd2ef7eab1"
      },
      "outputs": [],
      "source": [
        "\n",
        "\n"
      ]
    },
    {
      "cell_type": "markdown",
      "id": "6eef26a1-6ea3-429f-b878-0a1f84cafb9d",
      "metadata": {
        "id": "6eef26a1-6ea3-429f-b878-0a1f84cafb9d"
      },
      "source": [
        "---"
      ]
    },
    {
      "cell_type": "markdown",
      "id": "989aa1a6-f556-4c6b-b64d-bc8a4bfaaab4",
      "metadata": {
        "id": "989aa1a6-f556-4c6b-b64d-bc8a4bfaaab4"
      },
      "source": [
        "### Exercício 04\n",
        "\n",
        "Faça um Programa que peça um número inteiro e retorne se ele e par ou ímpar.\n",
        "\n",
        "**Dicas:**\n",
        "- _Todo número divisível por 2 é par!_\n",
        "\n",
        "\n",
        "**_Formúla:_**<br>\n",
        "_% (Módulo ou resto de divisão)_  \n",
        "<img style=\"height:120px\" src=https://www.estudamos.com.br/divisao/elementos-da-divisao.jpg>"
      ]
    },
    {
      "cell_type": "code",
      "execution_count": null,
      "id": "5024a926-dda9-4285-9914-d6a33bcccd15",
      "metadata": {
        "id": "5024a926-dda9-4285-9914-d6a33bcccd15"
      },
      "outputs": [],
      "source": [
        "\n",
        "\n"
      ]
    },
    {
      "cell_type": "markdown",
      "id": "5710113c-8795-49a7-8134-4be57c465f8b",
      "metadata": {
        "id": "5710113c-8795-49a7-8134-4be57c465f8b"
      },
      "source": [
        "---"
      ]
    },
    {
      "cell_type": "markdown",
      "id": "c36f5fd6-c192-45cf-af91-603a434899b7",
      "metadata": {
        "id": "c36f5fd6-c192-45cf-af91-603a434899b7"
      },
      "source": [
        "### Exercício 05\n",
        "\n",
        "Faça um programa que pergunte a idade do usuário:\n",
        "- Se a idade for maior ou igual a 18 anos retorne 'Você é maior de idade.'\n",
        "- Senão retorne 'Você é menor de idade.'"
      ]
    },
    {
      "cell_type": "code",
      "execution_count": null,
      "id": "ed136817-6e36-4821-8a63-bf6bda62badc",
      "metadata": {
        "id": "ed136817-6e36-4821-8a63-bf6bda62badc"
      },
      "outputs": [],
      "source": [
        "\n",
        "\n"
      ]
    },
    {
      "cell_type": "markdown",
      "id": "bec4c324-e081-49f5-9637-a04f049d7cc4",
      "metadata": {
        "id": "bec4c324-e081-49f5-9637-a04f049d7cc4"
      },
      "source": [
        "---"
      ]
    },
    {
      "cell_type": "markdown",
      "id": "15a0fb6a-8fb9-4591-b1f2-16ab84a940b9",
      "metadata": {
        "id": "15a0fb6a-8fb9-4591-b1f2-16ab84a940b9"
      },
      "source": [
        "### Exercício 06\n",
        "\n",
        "Escreva um programa que verifique a validade de uma senha fornecida pelo usuário. A senha válida é o número 1234. Devem ser impressas as seguintes mensagens:\n",
        "- ACESSO PERMITIDO, caso a senha seja válida.\n",
        "- ACESSO NEGADO, caso a senha seja inválida."
      ]
    },
    {
      "cell_type": "code",
      "execution_count": null,
      "id": "8ba3d275-3b13-4b62-bcf5-0573b730c978",
      "metadata": {
        "id": "8ba3d275-3b13-4b62-bcf5-0573b730c978"
      },
      "outputs": [],
      "source": [
        "\n",
        "\n"
      ]
    },
    {
      "cell_type": "markdown",
      "id": "22a5db7a-3fce-4dd5-9a83-218807aec4a6",
      "metadata": {
        "id": "22a5db7a-3fce-4dd5-9a83-218807aec4a6"
      },
      "source": [
        "---"
      ]
    },
    {
      "cell_type": "markdown",
      "id": "fd325872-9f9c-4f5f-bef0-6c059637fae7",
      "metadata": {
        "id": "fd325872-9f9c-4f5f-bef0-6c059637fae7"
      },
      "source": [
        "### Exercício 07\n",
        "\n",
        "Escreva um programa que peça para o usuário digitar um senha, em seguida peça para ele confirmar a senha digitada. Devem ser impressas as seguintes\n",
        "- SENHA CORRETA, caso ele tenha digitado a mesma senha duas vezes.\n",
        "- SENHA INCORRETA, caso ele tenha digitado senhas diferentes."
      ]
    },
    {
      "cell_type": "code",
      "execution_count": null,
      "id": "43e286ca-5d23-4cf9-a973-79da785be638",
      "metadata": {
        "id": "43e286ca-5d23-4cf9-a973-79da785be638"
      },
      "outputs": [],
      "source": [
        "\n",
        "\n"
      ]
    },
    {
      "cell_type": "markdown",
      "id": "91362d09-5bf1-462a-b07f-6cfaacfb0920",
      "metadata": {
        "id": "91362d09-5bf1-462a-b07f-6cfaacfb0920"
      },
      "source": [
        "---"
      ]
    },
    {
      "cell_type": "markdown",
      "id": "da521ccf-fffd-42e9-963a-c187fb1e9d7d",
      "metadata": {
        "id": "da521ccf-fffd-42e9-963a-c187fb1e9d7d"
      },
      "source": [
        "### Exercício 08\n",
        "\n",
        "Escreva um programa que pergunte a nota final do aluno, em seguida retorne:\n",
        "- Caso a nota final for maior ou igual a 5 retorne 'Você está aprovado.'\n",
        "- Caso a nota final for menor a 5 retorne 'Você está reprovado."
      ]
    },
    {
      "cell_type": "code",
      "execution_count": null,
      "id": "ae0f3834-c307-485f-bc8f-c7916b22d1a6",
      "metadata": {
        "id": "ae0f3834-c307-485f-bc8f-c7916b22d1a6"
      },
      "outputs": [],
      "source": [
        "\n",
        "\n"
      ]
    },
    {
      "cell_type": "markdown",
      "id": "46536cf8-f4d8-4594-8e54-f65c2b5668b3",
      "metadata": {
        "id": "46536cf8-f4d8-4594-8e54-f65c2b5668b3"
      },
      "source": [
        "---"
      ]
    },
    {
      "cell_type": "markdown",
      "id": "35e88cc0-4ce7-487a-a029-0ffd9e548574",
      "metadata": {
        "id": "35e88cc0-4ce7-487a-a029-0ffd9e548574"
      },
      "source": [
        "### Exercício 09\n",
        "\n",
        "Escreva um programa que peça dois números inteiros ao usuário, em seguida retorne:\n",
        "- Caso os números sejam iguais retorne 'Os números digitados são iguais'\n",
        "- Caso os números sejam diferentes retorne 'Os números digitados são diferentes'"
      ]
    },
    {
      "cell_type": "code",
      "execution_count": null,
      "id": "149faa38-db4e-48ff-a378-104f4b28c4bb",
      "metadata": {
        "id": "149faa38-db4e-48ff-a378-104f4b28c4bb"
      },
      "outputs": [],
      "source": [
        "\n",
        "\n"
      ]
    },
    {
      "cell_type": "markdown",
      "id": "0dd116ea-8b58-4e73-a7b5-a96fc2842fb7",
      "metadata": {
        "id": "0dd116ea-8b58-4e73-a7b5-a96fc2842fb7"
      },
      "source": [
        "---"
      ]
    },
    {
      "cell_type": "markdown",
      "id": "6cc99926-a9bb-44b1-a918-55e41e3c16f2",
      "metadata": {
        "id": "6cc99926-a9bb-44b1-a918-55e41e3c16f2"
      },
      "source": [
        "### Exercício 10\n",
        "\n",
        "Faça um programa que peça para o usuário informar o salário dele e o total gasto, em seguida faça a diferença entre eles para obter o saldo.\n",
        "\n",
        "- Se o saldo for maior ou igual a 'zero' retorne 'Gastos dentro do orçamento.'\n",
        "- Senão retorne 'Orçamento estourado.'"
      ]
    },
    {
      "cell_type": "code",
      "execution_count": null,
      "id": "c9264b79-e7ec-4e01-b1f5-adacf2890e2e",
      "metadata": {
        "id": "c9264b79-e7ec-4e01-b1f5-adacf2890e2e"
      },
      "outputs": [],
      "source": [
        "\n",
        "\n"
      ]
    },
    {
      "cell_type": "markdown",
      "id": "65652586-8b0c-4eac-85ca-4f12f0f950e3",
      "metadata": {
        "id": "65652586-8b0c-4eac-85ca-4f12f0f950e3"
      },
      "source": [
        "---"
      ]
    }
  ],
  "metadata": {
    "kernelspec": {
      "display_name": "Python 3 (ipykernel)",
      "language": "python",
      "name": "python3"
    },
    "language_info": {
      "codemirror_mode": {
        "name": "ipython",
        "version": 3
      },
      "file_extension": ".py",
      "mimetype": "text/x-python",
      "name": "python",
      "nbconvert_exporter": "python",
      "pygments_lexer": "ipython3",
      "version": "3.11.5"
    },
    "colab": {
      "provenance": [],
      "include_colab_link": true
    }
  },
  "nbformat": 4,
  "nbformat_minor": 5
}