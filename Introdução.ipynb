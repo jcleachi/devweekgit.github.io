{
  "cells": [
    {
      "cell_type": "markdown",
      "metadata": {
        "id": "view-in-github",
        "colab_type": "text"
      },
      "source": [
        "<a href=\"https://colab.research.google.com/github/jcleachi/devweekgit.github.io/blob/main/Introdu%C3%A7%C3%A3o.ipynb\" target=\"_parent\"><img src=\"https://colab.research.google.com/assets/colab-badge.svg\" alt=\"Open In Colab\"/></a>"
      ]
    },
    {
      "cell_type": "code",
      "execution_count": null,
      "id": "23b95489-3acf-42ed-827b-008020998139",
      "metadata": {
        "tags": [],
        "id": "23b95489-3acf-42ed-827b-008020998139",
        "outputId": "9a782dad-e488-475a-9083-c98524d27f86"
      },
      "outputs": [
        {
          "name": "stdout",
          "output_type": "stream",
          "text": [
            "10\n",
            "0\n",
            "25\n",
            "1.0\n"
          ]
        }
      ],
      "source": [
        "# Adição +\n",
        "print(5 + 5)\n",
        "\n",
        "# Subtração -\n",
        "print(5 - 5)\n",
        "\n",
        "# Multiplicação *\n",
        "print(5 * 5)\n",
        "\n",
        "# Divisão /\n",
        "print(5 / 5)"
      ]
    },
    {
      "cell_type": "code",
      "execution_count": null,
      "id": "0b3f4cbc-8a56-4ac6-92e5-f7d00ed78c37",
      "metadata": {
        "tags": [],
        "id": "0b3f4cbc-8a56-4ac6-92e5-f7d00ed78c37",
        "outputId": "cf869bd6-8a33-42b0-9726-066c37f7f9a0"
      },
      "outputs": [
        {
          "name": "stdout",
          "output_type": "stream",
          "text": [
            "1\n",
            "1\n",
            "1\n",
            "2\n"
          ]
        }
      ],
      "source": [
        "# Divisão inteira\n",
        "print(3 // 3)\n",
        "print(4 // 3)\n",
        "print(5 // 3)\n",
        "print(6 // 3)"
      ]
    },
    {
      "cell_type": "code",
      "execution_count": null,
      "id": "8d684baa-9a72-4212-81c9-70ce801c5353",
      "metadata": {
        "tags": [],
        "id": "8d684baa-9a72-4212-81c9-70ce801c5353",
        "outputId": "a7791373-1baa-4e44-d767-922db023025d"
      },
      "outputs": [
        {
          "name": "stdout",
          "output_type": "stream",
          "text": [
            "1.0\n",
            "1.3333333333333333\n",
            "1.6666666666666667\n",
            "2.0\n"
          ]
        }
      ],
      "source": [
        "# Divisão - Toda divisão converte o valor para float\n",
        "print(3 / 3)\n",
        "print(4 / 3)\n",
        "print(5 / 3)\n",
        "print(6 / 3)"
      ]
    },
    {
      "cell_type": "code",
      "execution_count": null,
      "id": "f32d8961-37db-4f9c-9821-b56b2b9fac1f",
      "metadata": {
        "tags": [],
        "id": "f32d8961-37db-4f9c-9821-b56b2b9fac1f",
        "outputId": "836a47df-4c9c-4373-c9a3-3f0d2f9db78d"
      },
      "outputs": [
        {
          "name": "stdout",
          "output_type": "stream",
          "text": [
            "1.3333333333333333\n",
            "1.33\n",
            "<class 'str'>\n"
          ]
        }
      ],
      "source": [
        "print(4 / 3)\n",
        "print(f'{4 / 3:.2f}')\n"
      ]
    },
    {
      "cell_type": "code",
      "execution_count": null,
      "id": "7ce1ffa3-59f7-4f0d-bb4d-f1e23edc0f6e",
      "metadata": {
        "tags": [],
        "id": "7ce1ffa3-59f7-4f0d-bb4d-f1e23edc0f6e",
        "outputId": "c8728e1f-7419-446b-fb34-0fc711510c66"
      },
      "outputs": [
        {
          "data": {
            "text/plain": [
              "1.333333"
            ]
          },
          "execution_count": 14,
          "metadata": {},
          "output_type": "execute_result"
        }
      ],
      "source": [
        "\n",
        "round(1.3333333333333333, 6)\n",
        "\n"
      ]
    },
    {
      "cell_type": "code",
      "execution_count": null,
      "id": "1637dee3-a2d0-4ba4-88dc-84eb898ceac4",
      "metadata": {
        "tags": [],
        "id": "1637dee3-a2d0-4ba4-88dc-84eb898ceac4",
        "outputId": "3faee53d-5658-4015-d84a-85001d72c260"
      },
      "outputs": [
        {
          "name": "stdout",
          "output_type": "stream",
          "text": [
            "0\n",
            "1\n",
            "2\n",
            "0\n"
          ]
        }
      ],
      "source": [
        "print(3 % 3)\n",
        "print(4 % 3)\n",
        "print(5 % 3)\n",
        "print(6 % 3)\n",
        "\n"
      ]
    },
    {
      "cell_type": "code",
      "execution_count": null,
      "id": "6c0df51b-1dc5-4a33-a0da-9223a62485c0",
      "metadata": {
        "tags": [],
        "id": "6c0df51b-1dc5-4a33-a0da-9223a62485c0",
        "outputId": "84b44f65-bdc3-47c5-f058-e4d90189bd3b"
      },
      "outputs": [
        {
          "name": "stdout",
          "output_type": "stream",
          "text": [
            "4\n",
            "8\n",
            "16\n",
            "32\n"
          ]
        }
      ],
      "source": [
        "print(2 ** 2)\n",
        "print(2 ** 3)\n",
        "print(2 ** 4)\n",
        "print(2 ** 5)\n"
      ]
    },
    {
      "cell_type": "code",
      "execution_count": null,
      "id": "a7c95d4a-daf7-4cb3-8587-d2d7116768c4",
      "metadata": {
        "tags": [],
        "id": "a7c95d4a-daf7-4cb3-8587-d2d7116768c4",
        "outputId": "f652e273-3046-4e19-e481-961eac63847b"
      },
      "outputs": [
        {
          "name": "stdout",
          "output_type": "stream",
          "text": [
            "42\n",
            "-5.0\n"
          ]
        }
      ],
      "source": [
        "var1 = 2 + 10 * 4\n",
        "print(var1)\n",
        "\n",
        "var2 = 5 - 40 / 4\n",
        "print(var2)"
      ]
    },
    {
      "cell_type": "code",
      "execution_count": null,
      "id": "07f7c151-879d-475f-a24b-28322c0dc6d4",
      "metadata": {
        "tags": [],
        "id": "07f7c151-879d-475f-a24b-28322c0dc6d4",
        "outputId": "b8b3518d-b8d2-4802-cd20-37f624a58707"
      },
      "outputs": [
        {
          "name": "stdout",
          "output_type": "stream",
          "text": [
            "15\n",
            "0.2\n"
          ]
        }
      ],
      "source": [
        "var3 = 3 * (2 + 3)\n",
        "print(var3)\n",
        "\n",
        "var4 = 4 / (8 + 12)\n",
        "print(var4)"
      ]
    },
    {
      "cell_type": "code",
      "execution_count": null,
      "id": "b853e944-97ed-47f2-aa43-88cc53020543",
      "metadata": {
        "id": "b853e944-97ed-47f2-aa43-88cc53020543"
      },
      "outputs": [],
      "source": []
    }
  ],
  "metadata": {
    "kernelspec": {
      "display_name": "Python 3 (ipykernel)",
      "language": "python",
      "name": "python3"
    },
    "language_info": {
      "codemirror_mode": {
        "name": "ipython",
        "version": 3
      },
      "file_extension": ".py",
      "mimetype": "text/x-python",
      "name": "python",
      "nbconvert_exporter": "python",
      "pygments_lexer": "ipython3",
      "version": "3.11.5"
    },
    "colab": {
      "provenance": [],
      "include_colab_link": true
    }
  },
  "nbformat": 4,
  "nbformat_minor": 5
}