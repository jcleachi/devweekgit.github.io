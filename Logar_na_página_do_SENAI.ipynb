{
  "cells": [
    {
      "cell_type": "markdown",
      "metadata": {
        "id": "view-in-github",
        "colab_type": "text"
      },
      "source": [
        "<a href=\"https://colab.research.google.com/github/jcleachi/devweekgit.github.io/blob/main/Logar_na_p%C3%A1gina_do_SENAI.ipynb\" target=\"_parent\"><img src=\"https://colab.research.google.com/assets/colab-badge.svg\" alt=\"Open In Colab\"/></a>"
      ]
    },
    {
      "cell_type": "markdown",
      "id": "da6ecc00-f0f4-479f-8c97-4c95d9d43b83",
      "metadata": {
        "id": "da6ecc00-f0f4-479f-8c97-4c95d9d43b83"
      },
      "source": [
        "### Logar na página do SENAI"
      ]
    },
    {
      "cell_type": "code",
      "execution_count": null,
      "id": "f86effc8-01cb-4e16-aadb-5b078cd184a9",
      "metadata": {
        "id": "f86effc8-01cb-4e16-aadb-5b078cd184a9"
      },
      "outputs": [],
      "source": [
        "import pyautogui\n",
        "import time\n",
        "import pyperclip"
      ]
    },
    {
      "cell_type": "code",
      "execution_count": null,
      "id": "47b6a3ab-1202-4eeb-8b55-4bfd61ea2f1c",
      "metadata": {
        "id": "47b6a3ab-1202-4eeb-8b55-4bfd61ea2f1c"
      },
      "outputs": [],
      "source": [
        "pyautogui.PAUSE = 1\n",
        "\n",
        "pyautogui.hotkey('ctrl', 't')\n",
        "\n",
        "pyautogui.write('https://pess.sesisenaispedu.org.br/')\n",
        "\n",
        "pyautogui.press('enter')\n",
        "\n",
        "pyautogui.click(x=869, y=557)\n",
        "\n",
        "pyautogui.write('000000000')\n",
        "\n",
        "pyautogui.click(x=845, y=657)\n",
        "\n",
        "pyautogui.write('000000000')\n",
        "\n",
        "pyautogui.press('enter')"
      ]
    },
    {
      "cell_type": "code",
      "execution_count": null,
      "id": "8f671462-5cb2-478a-9989-336b20a5c8be",
      "metadata": {
        "id": "8f671462-5cb2-478a-9989-336b20a5c8be"
      },
      "outputs": [],
      "source": [
        "# Descobrir posição do Mouse\n",
        "\n",
        "time.sleep(4)\n",
        "\n",
        "pyautogui.position()"
      ]
    }
  ],
  "metadata": {
    "kernelspec": {
      "display_name": "Python 3 (ipykernel)",
      "language": "python",
      "name": "python3"
    },
    "language_info": {
      "codemirror_mode": {
        "name": "ipython",
        "version": 3
      },
      "file_extension": ".py",
      "mimetype": "text/x-python",
      "name": "python",
      "nbconvert_exporter": "python",
      "pygments_lexer": "ipython3",
      "version": "3.11.5"
    },
    "colab": {
      "provenance": [],
      "include_colab_link": true
    }
  },
  "nbformat": 4,
  "nbformat_minor": 5
}