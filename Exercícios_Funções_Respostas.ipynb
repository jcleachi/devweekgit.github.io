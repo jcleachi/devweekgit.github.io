{
  "cells": [
    {
      "cell_type": "markdown",
      "metadata": {
        "id": "view-in-github",
        "colab_type": "text"
      },
      "source": [
        "<a href=\"https://colab.research.google.com/github/jcleachi/devweekgit.github.io/blob/main/Exerc%C3%ADcios_Fun%C3%A7%C3%B5es_Respostas.ipynb\" target=\"_parent\"><img src=\"https://colab.research.google.com/assets/colab-badge.svg\" alt=\"Open In Colab\"/></a>"
      ]
    },
    {
      "cell_type": "markdown",
      "id": "e18376ba-7875-4414-ab0d-d1900316a5d9",
      "metadata": {
        "tags": [],
        "id": "e18376ba-7875-4414-ab0d-d1900316a5d9"
      },
      "source": [
        "# <font color='OrangeRed'><center>Exercícios - Funções</center></font>"
      ]
    },
    {
      "cell_type": "markdown",
      "id": "095576dd-6fcd-48ae-90ef-2c2dd49aa35d",
      "metadata": {
        "id": "095576dd-6fcd-48ae-90ef-2c2dd49aa35d"
      },
      "source": [
        "### Exercício 01\n",
        "\n",
        "Crie uma função que receba três números como parâmetros, e que retorne a soma desses três números."
      ]
    },
    {
      "cell_type": "code",
      "execution_count": null,
      "id": "9875cdf1-f7a6-4d0e-8497-0e1a112a93af",
      "metadata": {
        "id": "9875cdf1-f7a6-4d0e-8497-0e1a112a93af",
        "outputId": "5c2b4b40-ae6f-4b7e-cbe3-21cb46dab9fb"
      },
      "outputs": [
        {
          "name": "stdout",
          "output_type": "stream",
          "text": [
            "20\n"
          ]
        }
      ],
      "source": [
        "def soma3numeros(a, b, c):\n",
        "\n",
        "    return a + b + c\n",
        "\n",
        "print( soma3numeros(5, 7, 8) )"
      ]
    },
    {
      "cell_type": "markdown",
      "id": "b39845b1-ff90-435c-91de-a15fc8a82fb7",
      "metadata": {
        "id": "b39845b1-ff90-435c-91de-a15fc8a82fb7"
      },
      "source": [
        "---"
      ]
    },
    {
      "cell_type": "markdown",
      "id": "00f50df4-0654-4c42-8f0e-9898c8c2cb5f",
      "metadata": {
        "id": "00f50df4-0654-4c42-8f0e-9898c8c2cb5f"
      },
      "source": [
        "### Exercício 02\n",
        "\n",
        "Crie uma função que receba um número como parâmetro, e com uma condicional if/else crie a condição abaixo:\n",
        "\n",
        "* Se o número informado for maior que 0, então retorne **'Positivo'**\n",
        "* Se o número informado for menor que 0, então retorne **'Negativo'**  \n",
        "* Se o número informado for igual a zero, então retorne **'Neutro'**  "
      ]
    },
    {
      "cell_type": "code",
      "execution_count": null,
      "id": "74f75e45-5192-409b-9018-1758f23a2993",
      "metadata": {
        "id": "74f75e45-5192-409b-9018-1758f23a2993",
        "outputId": "55c0a524-8b93-4204-88c3-6a916ed381e6"
      },
      "outputs": [
        {
          "name": "stdout",
          "output_type": "stream",
          "text": [
            "Positivo\n",
            "Negativo\n",
            "Neutro\n"
          ]
        }
      ],
      "source": [
        "def tipoNumero(n):\n",
        "\n",
        "    if n > 0:\n",
        "        print('Positivo')\n",
        "    elif n < 0:\n",
        "        print('Negativo')\n",
        "    elif n == 0:\n",
        "        print('Neutro')\n",
        "\n",
        "\n",
        "\n",
        "tipoNumero(2)\n",
        "tipoNumero(-2)\n",
        "tipoNumero(0)"
      ]
    },
    {
      "cell_type": "markdown",
      "id": "14b1f0c5-e100-480c-8187-340f82a9217c",
      "metadata": {
        "id": "14b1f0c5-e100-480c-8187-340f82a9217c"
      },
      "source": [
        "---"
      ]
    },
    {
      "cell_type": "markdown",
      "id": "a046c905-a350-4636-867a-7f7d74541c25",
      "metadata": {
        "id": "a046c905-a350-4636-867a-7f7d74541c25"
      },
      "source": [
        "### Exercício 03\n",
        "\n",
        "Crie uma função que receba um número como parâmetro, e que retorne o dobro do número."
      ]
    },
    {
      "cell_type": "code",
      "execution_count": null,
      "id": "03953933-cf27-436e-8690-84696e05a18f",
      "metadata": {
        "id": "03953933-cf27-436e-8690-84696e05a18f",
        "outputId": "1c6e6649-72eb-4507-e778-a2f36bb6fe2d"
      },
      "outputs": [
        {
          "name": "stdout",
          "output_type": "stream",
          "text": [
            "10\n",
            "20\n"
          ]
        }
      ],
      "source": [
        "def dobroN(n):\n",
        "\n",
        "    return n + n\n",
        "\n",
        "print( dobroN(5) )\n",
        "print( dobroN(10) )"
      ]
    },
    {
      "cell_type": "markdown",
      "id": "b1c7278b-775b-4ea8-9b37-e985ea9a048b",
      "metadata": {
        "id": "b1c7278b-775b-4ea8-9b37-e985ea9a048b"
      },
      "source": [
        "---"
      ]
    },
    {
      "cell_type": "markdown",
      "id": "a62ae0e4-8e4b-4ba3-8b48-419f787156af",
      "metadata": {
        "id": "a62ae0e4-8e4b-4ba3-8b48-419f787156af"
      },
      "source": [
        "### Exercício 04\n",
        "\n",
        "Crie uma função que receba um texto como parâmetro, e que retorne o texto informado ao contrário."
      ]
    },
    {
      "cell_type": "code",
      "execution_count": null,
      "id": "18882b38-32a7-46a2-8197-64fe9b54efb7",
      "metadata": {
        "id": "18882b38-32a7-46a2-8197-64fe9b54efb7",
        "outputId": "21caf76d-fbf3-4f5c-e13e-86f050316dd9"
      },
      "outputs": [
        {
          "name": "stdout",
          "output_type": "stream",
          "text": [
            "nohtyP\n",
            "IANES\n"
          ]
        }
      ],
      "source": [
        "def textoContrario(texto):\n",
        "\n",
        "    return texto[::-1]\n",
        "\n",
        "print( textoContratio('Python') )\n",
        "print( textoContratio('SENAI') )"
      ]
    },
    {
      "cell_type": "markdown",
      "id": "5cbce694-d8e7-4800-a4e0-28b74e9c3d68",
      "metadata": {
        "id": "5cbce694-d8e7-4800-a4e0-28b74e9c3d68"
      },
      "source": [
        "---"
      ]
    },
    {
      "cell_type": "markdown",
      "id": "face8095-6de9-4a8c-9786-e92ac0392fb3",
      "metadata": {
        "id": "face8095-6de9-4a8c-9786-e92ac0392fb3"
      },
      "source": [
        "### Exercício 05\n",
        "\n",
        "Crie uma função que receba um salário como parâmetro, e que retorne o valor do salário mais um reajuste de 10%.\n",
        "\n",
        "**Dica:**  \n",
        "_10% é o equivalente a 0.1_"
      ]
    },
    {
      "cell_type": "code",
      "execution_count": null,
      "id": "5393ada0-98a2-4404-af43-634e0c0202ec",
      "metadata": {
        "id": "5393ada0-98a2-4404-af43-634e0c0202ec",
        "outputId": "90d1f1da-1198-4efc-a8dd-f35c6f182258"
      },
      "outputs": [
        {
          "name": "stdout",
          "output_type": "stream",
          "text": [
            "1100.0\n",
            "2200.0\n"
          ]
        }
      ],
      "source": [
        "def reajusteSalario(salario):\n",
        "\n",
        "    return salario * 1.1\n",
        "\n",
        "print( reajusteSalario(1000) )\n",
        "print( reajusteSalario(2000) )"
      ]
    },
    {
      "cell_type": "markdown",
      "id": "bf3cada8-d138-446e-adbc-fead28fea0b1",
      "metadata": {
        "id": "bf3cada8-d138-446e-adbc-fead28fea0b1"
      },
      "source": [
        "---"
      ]
    },
    {
      "cell_type": "markdown",
      "id": "68bba43a-b5b5-41a1-a048-ef6f705bbc3b",
      "metadata": {
        "id": "68bba43a-b5b5-41a1-a048-ef6f705bbc3b"
      },
      "source": [
        "### Exercício 06\n",
        "\n",
        "Crie uma função que receba um texto qualquer, e que retorne todas as letras do texto em maiúsculo."
      ]
    },
    {
      "cell_type": "code",
      "execution_count": null,
      "id": "59ba1653-9af0-4d24-9240-4066cb8d83de",
      "metadata": {
        "id": "59ba1653-9af0-4d24-9240-4066cb8d83de",
        "outputId": "5c5821a0-48a3-4380-a082-9f7996d274e0"
      },
      "outputs": [
        {
          "name": "stdout",
          "output_type": "stream",
          "text": [
            "PYTHON\n",
            "SENAI\n"
          ]
        }
      ],
      "source": [
        "def textoMaiusculo(texto):\n",
        "\n",
        "    return texto.upper()\n",
        "\n",
        "print( textoMaiusculo('python') )\n",
        "print( textoMaiusculo('senai') )"
      ]
    },
    {
      "cell_type": "markdown",
      "id": "e2a09cd5-c83f-43fd-a96a-84266e74b21c",
      "metadata": {
        "id": "e2a09cd5-c83f-43fd-a96a-84266e74b21c"
      },
      "source": [
        "---"
      ]
    },
    {
      "cell_type": "markdown",
      "id": "bef3877c-7140-498c-8761-7a2c94cfd0bb",
      "metadata": {
        "id": "bef3877c-7140-498c-8761-7a2c94cfd0bb"
      },
      "source": [
        "### Exercício 07\n",
        "\n",
        "Crie uma função que receba quatro notas como parâmetro, em seguida some as quatro notas e retorne a média aritmética, ou seja, divida a soma das quatro notas por quatro."
      ]
    },
    {
      "cell_type": "code",
      "execution_count": null,
      "id": "c14da5dd-463a-4a7e-b92d-76c8b27f4155",
      "metadata": {
        "id": "c14da5dd-463a-4a7e-b92d-76c8b27f4155",
        "outputId": "40c52a8f-1534-49b9-c6e5-8d06730f745e"
      },
      "outputs": [
        {
          "name": "stdout",
          "output_type": "stream",
          "text": [
            "7.25\n",
            "5.0\n"
          ]
        }
      ],
      "source": [
        "def mediaNotas(n1, n2, n3, n4):\n",
        "\n",
        "    total = n1 + n2 + n3 + n4\n",
        "    media = total / 4\n",
        "\n",
        "    return media\n",
        "\n",
        "print( mediaNotas(7,8,6,8) )\n",
        "print( mediaNotas(5,4,6,5) )"
      ]
    },
    {
      "cell_type": "markdown",
      "id": "98275870-4cad-437f-88dd-54890b16e1d4",
      "metadata": {
        "id": "98275870-4cad-437f-88dd-54890b16e1d4"
      },
      "source": [
        "---"
      ]
    },
    {
      "cell_type": "markdown",
      "id": "2df310e8-923a-4eb5-88dc-e07055f60ce6",
      "metadata": {
        "id": "2df310e8-923a-4eb5-88dc-e07055f60ce6"
      },
      "source": [
        "### Exercício 08\n",
        "\n",
        "Crie uma função que receba dois parâmetros, o 1º sendo um nome e o 2º sendo um sobrenome, e que retorne o nome completo da pessoa."
      ]
    },
    {
      "cell_type": "code",
      "execution_count": null,
      "id": "da74073a-01c4-473f-bbc4-76e6f267b6b5",
      "metadata": {
        "id": "da74073a-01c4-473f-bbc4-76e6f267b6b5",
        "outputId": "faa0d7dc-f636-4a1a-f781-651506cf3bc8"
      },
      "outputs": [
        {
          "name": "stdout",
          "output_type": "stream",
          "text": [
            "Thiago Ferreira\n"
          ]
        }
      ],
      "source": [
        "def nomeCompleto(nome, sobrenome):\n",
        "\n",
        "    print( f'{nome} {sobrenome}' )\n",
        "\n",
        "nomeCompleto('Thiago','Ferreira')"
      ]
    },
    {
      "cell_type": "markdown",
      "id": "21dad33b-976a-48ae-9bce-f4ab64274d96",
      "metadata": {
        "id": "21dad33b-976a-48ae-9bce-f4ab64274d96"
      },
      "source": [
        "---"
      ]
    },
    {
      "cell_type": "markdown",
      "id": "c0cedcce-6bfa-49a6-a814-ea6c7baff647",
      "metadata": {
        "id": "c0cedcce-6bfa-49a6-a814-ea6c7baff647"
      },
      "source": [
        "### Exercício 09\n",
        "\n",
        "Crie uma função que receba um número como parâmetro, e em seguida crie uma condicional if/else que retorne se o número informado é divisível por 3 ou não."
      ]
    },
    {
      "cell_type": "code",
      "execution_count": null,
      "id": "4a6b2a37-f55d-4ef6-a6a2-a678d0310036",
      "metadata": {
        "id": "4a6b2a37-f55d-4ef6-a6a2-a678d0310036",
        "outputId": "05b4c0d3-79ed-4f51-a313-7fcc9c3cfc39"
      },
      "outputs": [
        {
          "name": "stdout",
          "output_type": "stream",
          "text": [
            "O número 1 NÃO é divisível por 3.\n",
            "O número 2 NÃO é divisível por 3.\n",
            "O número 3 é divisível por 3.\n",
            "O número 6 é divisível por 3.\n"
          ]
        }
      ],
      "source": [
        "def divisivelPor3(n):\n",
        "\n",
        "    if n % 3 == 0:\n",
        "        print(f'O número {n} é divisível por 3.')\n",
        "    else:\n",
        "        print(f'O número {n} NÃO é divisível por 3.')\n",
        "\n",
        "divisivelPor3(1)\n",
        "divisivelPor3(2)\n",
        "divisivelPor3(3)\n",
        "divisivelPor3(6)"
      ]
    },
    {
      "cell_type": "markdown",
      "id": "9bf72d16-1c6f-4023-8961-f69996156532",
      "metadata": {
        "id": "9bf72d16-1c6f-4023-8961-f69996156532"
      },
      "source": [
        "---"
      ]
    },
    {
      "cell_type": "markdown",
      "id": "434120b5-d233-405a-b974-16ffcd7cb0fa",
      "metadata": {
        "id": "434120b5-d233-405a-b974-16ffcd7cb0fa"
      },
      "source": [
        "### Exercício 10\n",
        "\n",
        "Crie uma função que receba três valores como parâmetro, e que retorne uma lista com esses 3 valores passados como argumentos."
      ]
    },
    {
      "cell_type": "code",
      "execution_count": null,
      "id": "9cf9bbcc-3715-46d0-b1ef-7877be199558",
      "metadata": {
        "id": "9cf9bbcc-3715-46d0-b1ef-7877be199558",
        "outputId": "1827f33a-3e8c-4b01-cd23-c290105bc845"
      },
      "outputs": [
        {
          "name": "stdout",
          "output_type": "stream",
          "text": [
            "['a', 2, False]\n"
          ]
        }
      ],
      "source": [
        "def gerarLista(a, b, c):\n",
        "\n",
        "    lista = []\n",
        "    lista.append(a)\n",
        "    lista.append(b)\n",
        "    lista.append(c)\n",
        "\n",
        "    return lista\n",
        "\n",
        "print( gerarLista('a', 2, False) )"
      ]
    },
    {
      "cell_type": "code",
      "execution_count": null,
      "id": "0d642282-8cc8-4305-a6bf-97e8f86ea5af",
      "metadata": {
        "tags": [],
        "id": "0d642282-8cc8-4305-a6bf-97e8f86ea5af",
        "outputId": "fea1864b-07f9-4ab9-da92-04acc5dcd520"
      },
      "outputs": [
        {
          "name": "stdout",
          "output_type": "stream",
          "text": [
            "['a', 2, False]\n"
          ]
        }
      ],
      "source": [
        "def gerarLista(a, b, c):\n",
        "\n",
        "    return [ a, b, c ]\n",
        "\n",
        "print( gerarLista('a', 2, False) )"
      ]
    },
    {
      "cell_type": "markdown",
      "id": "8c7a2a04-a9d6-44b5-a0c2-f9b5dedabf56",
      "metadata": {
        "id": "8c7a2a04-a9d6-44b5-a0c2-f9b5dedabf56"
      },
      "source": [
        "---"
      ]
    },
    {
      "cell_type": "markdown",
      "id": "a92688a3-643c-4585-9913-7eb17a02075a",
      "metadata": {
        "id": "a92688a3-643c-4585-9913-7eb17a02075a"
      },
      "source": [
        "### Exercício 11\n",
        "\n",
        "Crie uma função que receba uma lista de números como parâmetro, e que retorne apenas o maior número da lista.\n",
        "\n",
        "**A lista de números deve ser criada por você.**"
      ]
    },
    {
      "cell_type": "code",
      "execution_count": null,
      "id": "9dfd2e21-bc87-415a-9feb-4535be70ba8f",
      "metadata": {
        "id": "9dfd2e21-bc87-415a-9feb-4535be70ba8f",
        "outputId": "e147fd29-b7d0-440b-bfc1-20739295efae"
      },
      "outputs": [
        {
          "name": "stdout",
          "output_type": "stream",
          "text": [
            "[0, 1, 2, 5, 6, 8]\n",
            "8\n"
          ]
        }
      ],
      "source": [
        "lista = [5, 6, 2, 1, 8, 0]\n",
        "\n",
        "def maiorNLista(lista):\n",
        "    lista.sort()\n",
        "    print(lista)\n",
        "\n",
        "    return lista[-1]\n",
        "\n",
        "print( maiorNLista(lista) )"
      ]
    },
    {
      "cell_type": "code",
      "execution_count": null,
      "id": "a2cbb771-fd15-43f1-996a-aa76aacfd7e4",
      "metadata": {
        "tags": [],
        "id": "a2cbb771-fd15-43f1-996a-aa76aacfd7e4",
        "outputId": "f2a63cf2-f9c7-40aa-b10e-ccf5bde0a9fa"
      },
      "outputs": [
        {
          "name": "stdout",
          "output_type": "stream",
          "text": [
            "8\n"
          ]
        }
      ],
      "source": [
        "lista = [5, 6, 2, 1, 8, 0]\n",
        "\n",
        "def maiorNLista(lista):\n",
        "\n",
        "    return max(lista)\n",
        "\n",
        "print( maiorNLista(lista) )"
      ]
    },
    {
      "cell_type": "markdown",
      "id": "983e51c5-0ccb-4765-85ab-b9aa702591d5",
      "metadata": {
        "id": "983e51c5-0ccb-4765-85ab-b9aa702591d5"
      },
      "source": [
        "---"
      ]
    },
    {
      "cell_type": "markdown",
      "id": "d210d36c-abd9-49bd-ae00-1b87ceb5131d",
      "metadata": {
        "id": "d210d36c-abd9-49bd-ae00-1b87ceb5131d"
      },
      "source": [
        "### Exercício 12\n",
        "\n",
        "Crie uma função que receba dois números como argumentos, sendo:\n",
        "\n",
        "1. O número da **Base**\n",
        "2. O número do **Expoente**\n",
        "\n",
        "\n",
        "Por fim, retorne a **Potência**\n",
        "\n",
        "<img src='https://matematicaproeja.files.wordpress.com/2018/09/termos-potencia.png' style='width: 250px'>"
      ]
    },
    {
      "cell_type": "code",
      "execution_count": null,
      "id": "1ce7db21-9972-40da-a4f3-101faa108f9d",
      "metadata": {
        "id": "1ce7db21-9972-40da-a4f3-101faa108f9d",
        "outputId": "1078156f-bb6a-4dc1-a346-fc97c2a81b08"
      },
      "outputs": [
        {
          "name": "stdout",
          "output_type": "stream",
          "text": [
            "8\n",
            "16\n",
            "32\n"
          ]
        }
      ],
      "source": [
        "def potencia(base, expoente):\n",
        "\n",
        "    return base ** expoente\n",
        "\n",
        "print( potencia(2,3) )\n",
        "print( potencia(2,4) )\n",
        "print( potencia(2,5) )"
      ]
    },
    {
      "cell_type": "markdown",
      "id": "996962ec-928c-4151-8580-52b8237614dd",
      "metadata": {
        "id": "996962ec-928c-4151-8580-52b8237614dd"
      },
      "source": [
        "---"
      ]
    },
    {
      "cell_type": "markdown",
      "id": "d9b2d70c-2ccd-4349-ad7d-1713b922bd06",
      "metadata": {
        "id": "d9b2d70c-2ccd-4349-ad7d-1713b922bd06"
      },
      "source": [
        "### Exercício 12\n",
        "\n",
        "Crie uma função que receba dois números como argumentos, sendo o 1º o **dividendo** e o 2º o **divisor**, em seguida crie a condição abaixo:\n",
        "\n",
        "* Se o número divisor for igual a 0, então retorne 'Erro: divisão por zero'\n",
        "* Senão retorne o resultado da divisão\n",
        "\n",
        "<img style=\"height:120px\" src=https://www.estudamos.com.br/divisao/elementos-da-divisao.jpg>"
      ]
    },
    {
      "cell_type": "code",
      "execution_count": null,
      "id": "e6b009d5-3ee3-4e07-a007-c767be76c002",
      "metadata": {
        "tags": [],
        "id": "e6b009d5-3ee3-4e07-a007-c767be76c002",
        "outputId": "ad2c0c79-b747-4828-f879-3967547d7b8a"
      },
      "outputs": [
        {
          "name": "stdout",
          "output_type": "stream",
          "text": [
            "Erro: Divisão por zero\n",
            "2.0\n",
            "1.0\n"
          ]
        }
      ],
      "source": [
        "def divisao(dividendo, divisor):\n",
        "\n",
        "    if divisor == 0:\n",
        "        return 'Erro: Divisão por zero'\n",
        "    else:\n",
        "        return dividendo / divisor\n",
        "\n",
        "print( divisao(4,0) )\n",
        "print( divisao(4,2) )\n",
        "print( divisao(4,4) )"
      ]
    },
    {
      "cell_type": "markdown",
      "id": "14b11b5f-340b-49c5-82e2-9d4bec55bd8c",
      "metadata": {
        "id": "14b11b5f-340b-49c5-82e2-9d4bec55bd8c"
      },
      "source": [
        "---"
      ]
    },
    {
      "cell_type": "markdown",
      "id": "07c3d4f5-59e8-4fe5-bb3d-e8066904c807",
      "metadata": {
        "id": "07c3d4f5-59e8-4fe5-bb3d-e8066904c807"
      },
      "source": [
        "### Exercício 13\n",
        "\n",
        "Crie uma função que receba uma lista de números como parâmetro, e que retorne a média dos números.\n",
        "\n",
        "**Dica:**  \n",
        "_Uma das formas de se fazer é utilizando **2 funções**_\n",
        "\n",
        "**A lista de números deve ser criada por você.**"
      ]
    },
    {
      "cell_type": "code",
      "execution_count": null,
      "id": "742d2e5c-33c8-4403-af68-b62a7b616c44",
      "metadata": {
        "tags": [],
        "id": "742d2e5c-33c8-4403-af68-b62a7b616c44",
        "outputId": "d0a5046b-46c7-442f-ddef-fa9aea63f068"
      },
      "outputs": [
        {
          "name": "stdout",
          "output_type": "stream",
          "text": [
            "3.6666666666666665\n",
            "3.0\n"
          ]
        }
      ],
      "source": [
        "lista = [5, 6, 2, 1, 8, 0]\n",
        "\n",
        "def mediaN(l):\n",
        "\n",
        "    return sum(l) / len(l)\n",
        "\n",
        "print( mediaN(lista) )\n",
        "print( mediaN([3,3,3]) )"
      ]
    },
    {
      "cell_type": "markdown",
      "id": "498d8be8-dac6-4003-88c6-c24f6d5f3cc3",
      "metadata": {
        "id": "498d8be8-dac6-4003-88c6-c24f6d5f3cc3"
      },
      "source": [
        "---"
      ]
    },
    {
      "cell_type": "markdown",
      "id": "ad7d01c5-2bb2-4ea4-bf36-478185eb0b3b",
      "metadata": {
        "id": "ad7d01c5-2bb2-4ea4-bf36-478185eb0b3b"
      },
      "source": [
        "### Exercício 14\n",
        "\n",
        "Crie uma função que receba dois parâmetros, sendo altura e peso, e em seguida retorne o calculo o IMC (Índice de Massa Corpória):\n",
        "\n",
        "**Formúla:**  \n",
        "_IMC = Peso / (Altura*Altura)_"
      ]
    },
    {
      "cell_type": "code",
      "execution_count": null,
      "id": "bdde9d04-4ec7-4066-8a2f-9bdee7006d6c",
      "metadata": {
        "tags": [],
        "id": "bdde9d04-4ec7-4066-8a2f-9bdee7006d6c",
        "outputId": "d091fb73-9cba-47d0-a9da-3a6c37604b57"
      },
      "outputs": [
        {
          "name": "stdout",
          "output_type": "stream",
          "text": [
            "24.151672503320853\n"
          ]
        }
      ],
      "source": [
        "def imc(peso, altura):\n",
        "\n",
        "    return peso / (altura*altura)\n",
        "\n",
        "print( imc(80, 1.82) )"
      ]
    },
    {
      "cell_type": "markdown",
      "id": "71eb643e-a3a7-4dd6-9e4c-b9ddfe65c541",
      "metadata": {
        "id": "71eb643e-a3a7-4dd6-9e4c-b9ddfe65c541"
      },
      "source": [
        "---"
      ]
    },
    {
      "cell_type": "markdown",
      "id": "d85c07d7-eeb4-4684-aaa0-64946902f09b",
      "metadata": {
        "id": "d85c07d7-eeb4-4684-aaa0-64946902f09b"
      },
      "source": [
        "### Exercício 15\n",
        "\n",
        "Crie uma função que receba um número inteiro como parâmetro e em seguida retorne o texto **'Python '** pela quantidade de vezes informada.\n",
        "\n",
        "**Entrada:**  \n",
        "3\n",
        "\n",
        "**Saída:**  \n",
        "'Python Python Python '"
      ]
    },
    {
      "cell_type": "code",
      "execution_count": null,
      "id": "ca6ae957-ce75-4a9d-ae46-b4aeb1c99055",
      "metadata": {
        "tags": [],
        "id": "ca6ae957-ce75-4a9d-ae46-b4aeb1c99055",
        "outputId": "08b39736-5879-4533-908a-d209743687d5"
      },
      "outputs": [
        {
          "name": "stdout",
          "output_type": "stream",
          "text": [
            "Python Python \n",
            "Python Python Python \n",
            "Python Python Python Python \n"
          ]
        }
      ],
      "source": [
        "def repetirTexto(n):\n",
        "\n",
        "    return 'Python ' * n\n",
        "\n",
        "\n",
        "print( repetirTexto(2) )\n",
        "print( repetirTexto(3) )\n",
        "print( repetirTexto(4) )"
      ]
    },
    {
      "cell_type": "markdown",
      "id": "7a8fa322-8f36-484e-bcb1-1edaf13bb29f",
      "metadata": {
        "id": "7a8fa322-8f36-484e-bcb1-1edaf13bb29f"
      },
      "source": [
        "---"
      ]
    },
    {
      "cell_type": "markdown",
      "id": "c2506980-900d-4e9c-aab9-45aac2495940",
      "metadata": {
        "id": "c2506980-900d-4e9c-aab9-45aac2495940"
      },
      "source": [
        "### Exercício 16\n",
        "\n",
        "Crie uma função que receba o valor do peso de uma bagagem como parâmetro e em seguida retorne o custo do despacho:\n",
        "\n",
        "| Peso(Kg) | Custo(R$) |\n",
        "|:--------:|:---------:|\n",
        "| Até 23.9 | Grátis |\n",
        "| Entre 24.0 e 33.9 | 80.00 |\n",
        "| Entre 34.0 e 43.9 | 120.00 |\n",
        "| A partir de 44 | 180.00 |"
      ]
    },
    {
      "cell_type": "code",
      "execution_count": null,
      "id": "04d2671a-9f40-44b5-90a6-756fd0826e94",
      "metadata": {
        "tags": [],
        "id": "04d2671a-9f40-44b5-90a6-756fd0826e94",
        "outputId": "5663e222-78e8-4913-b977-d5fb1471e5b2"
      },
      "outputs": [
        {
          "name": "stdout",
          "output_type": "stream",
          "text": [
            "Grátis\n",
            "R$ 80.00\n",
            "R$ 120.00\n",
            "R$ 180.00\n"
          ]
        }
      ],
      "source": [
        "def despacho( peso ):\n",
        "\n",
        "    if peso < 24:\n",
        "        return 'Grátis'\n",
        "    elif peso >= 24 and peso < 34:\n",
        "        return 'R$ 80.00'\n",
        "    elif peso >= 34 and peso < 44:\n",
        "        return 'R$ 120.00'\n",
        "    elif peso >= 44:\n",
        "        return 'R$ 180.00'\n",
        "\n",
        "print( despacho(23) )\n",
        "print( despacho(25) )\n",
        "print( despacho(35) )\n",
        "print( despacho(45) )"
      ]
    },
    {
      "cell_type": "markdown",
      "id": "4eff5138-f6af-495d-9fe7-abbd1ec83b8f",
      "metadata": {
        "id": "4eff5138-f6af-495d-9fe7-abbd1ec83b8f"
      },
      "source": [
        "---"
      ]
    },
    {
      "cell_type": "markdown",
      "id": "58a7758e-e2ec-4a9f-87f8-fd6c829d1e6c",
      "metadata": {
        "id": "58a7758e-e2ec-4a9f-87f8-fd6c829d1e6c"
      },
      "source": [
        "### Exercício 17\n",
        "\n",
        "No Brasil, 15 Kg equivale a 1 arroba. Dito isto, faça uma função que receba um valor em Kgs e retorne o valor convertido em arrobas:\n",
        "\n",
        "**Fórmula:**  \n",
        "_@ = Kg / 15_"
      ]
    },
    {
      "cell_type": "code",
      "execution_count": null,
      "id": "7f972e71-9e49-43cb-b72b-8ccbf8a9600d",
      "metadata": {
        "tags": [],
        "id": "7f972e71-9e49-43cb-b72b-8ccbf8a9600d",
        "outputId": "a5762219-b3ac-498d-f976-5551e13b25d9"
      },
      "outputs": [
        {
          "name": "stdout",
          "output_type": "stream",
          "text": [
            "1.0\n",
            "20.0\n",
            "26.666666666666668\n"
          ]
        }
      ],
      "source": [
        "def converterKilos( kg ):\n",
        "\n",
        "    return kg / 15\n",
        "\n",
        "print( converterKilos( 15 ) )\n",
        "print( converterKilos( 300 ) )\n",
        "print( converterKilos( 400 ) )"
      ]
    },
    {
      "cell_type": "markdown",
      "id": "44a0dac0-3092-4374-b050-044e31702a49",
      "metadata": {
        "tags": [],
        "id": "44a0dac0-3092-4374-b050-044e31702a49"
      },
      "source": [
        "---"
      ]
    }
  ],
  "metadata": {
    "kernelspec": {
      "display_name": "Python 3 (ipykernel)",
      "language": "python",
      "name": "python3"
    },
    "language_info": {
      "codemirror_mode": {
        "name": "ipython",
        "version": 3
      },
      "file_extension": ".py",
      "mimetype": "text/x-python",
      "name": "python",
      "nbconvert_exporter": "python",
      "pygments_lexer": "ipython3",
      "version": "3.11.5"
    },
    "colab": {
      "provenance": [],
      "include_colab_link": true
    }
  },
  "nbformat": 4,
  "nbformat_minor": 5
}