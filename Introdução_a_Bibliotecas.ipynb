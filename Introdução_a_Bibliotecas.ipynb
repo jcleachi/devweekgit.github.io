{
  "cells": [
    {
      "cell_type": "markdown",
      "metadata": {
        "id": "view-in-github",
        "colab_type": "text"
      },
      "source": [
        "<a href=\"https://colab.research.google.com/github/jcleachi/devweekgit.github.io/blob/main/Introdu%C3%A7%C3%A3o_a_Bibliotecas.ipynb\" target=\"_parent\"><img src=\"https://colab.research.google.com/assets/colab-badge.svg\" alt=\"Open In Colab\"/></a>"
      ]
    },
    {
      "cell_type": "code",
      "execution_count": null,
      "id": "d7c16e51-70f5-4941-85ca-16ae6ecd3ece",
      "metadata": {
        "id": "d7c16e51-70f5-4941-85ca-16ae6ecd3ece"
      },
      "outputs": [],
      "source": [
        "# Bibliotecas\n",
        "\n",
        "import math\n",
        "import minhaBiblioteca"
      ]
    },
    {
      "cell_type": "code",
      "execution_count": null,
      "id": "ec69cd9f-3855-4dae-8204-d153b1c31f24",
      "metadata": {
        "id": "ec69cd9f-3855-4dae-8204-d153b1c31f24"
      },
      "outputs": [],
      "source": []
    },
    {
      "cell_type": "code",
      "execution_count": null,
      "id": "edd86cc6-5f7a-49e0-9b6e-37fe5517052f",
      "metadata": {
        "id": "edd86cc6-5f7a-49e0-9b6e-37fe5517052f"
      },
      "outputs": [],
      "source": []
    },
    {
      "cell_type": "code",
      "execution_count": null,
      "id": "7cb562a1-d546-4228-87a6-d8db9a28f0a0",
      "metadata": {
        "tags": [],
        "id": "7cb562a1-d546-4228-87a6-d8db9a28f0a0"
      },
      "outputs": [],
      "source": [
        "import minhaBiblioteca\n",
        "\n",
        "print( minhaBiblioteca.soma(10,10) )\n",
        "\n",
        "print( minhaBiblioteca.subtracao(10,10) )"
      ]
    },
    {
      "cell_type": "code",
      "execution_count": null,
      "id": "5ba009b9-b08f-4462-8b4c-851986169078",
      "metadata": {
        "tags": [],
        "id": "5ba009b9-b08f-4462-8b4c-851986169078"
      },
      "outputs": [],
      "source": [
        "\n",
        "\n"
      ]
    },
    {
      "cell_type": "code",
      "execution_count": null,
      "id": "70117548-e2e0-4461-8dd4-c0ea8388a6e3",
      "metadata": {
        "id": "70117548-e2e0-4461-8dd4-c0ea8388a6e3"
      },
      "outputs": [],
      "source": []
    },
    {
      "cell_type": "code",
      "execution_count": null,
      "id": "756ec79d-9096-4e7d-a0f6-a37a56a0bae3",
      "metadata": {
        "tags": [],
        "id": "756ec79d-9096-4e7d-a0f6-a37a56a0bae3"
      },
      "outputs": [],
      "source": [
        "import math\n",
        "\n",
        "#sqrt - square root (Raiz quadrada)\n",
        "\n",
        "print( math.sqrt(4) )\n",
        "print( math.sqrt(9) )\n",
        "print( math.sqrt(25) )"
      ]
    },
    {
      "cell_type": "code",
      "execution_count": null,
      "id": "b2dec7bb-ec50-4fa2-a24b-86433b61cdf0",
      "metadata": {
        "id": "b2dec7bb-ec50-4fa2-a24b-86433b61cdf0"
      },
      "outputs": [],
      "source": []
    },
    {
      "cell_type": "code",
      "execution_count": null,
      "id": "549825e2-9155-484a-94d2-60e606b7c28a",
      "metadata": {
        "tags": [],
        "id": "549825e2-9155-484a-94d2-60e606b7c28a"
      },
      "outputs": [],
      "source": [
        "#pow - power (Potência)\n",
        "\n",
        "print( math.pow(2,2) )\n",
        "print( math.pow(2,3) )\n",
        "print( math.pow(2,4) )"
      ]
    },
    {
      "cell_type": "code",
      "execution_count": null,
      "id": "24293831-e02b-4f79-ac1a-c48300b7df7c",
      "metadata": {
        "id": "24293831-e02b-4f79-ac1a-c48300b7df7c"
      },
      "outputs": [],
      "source": []
    },
    {
      "cell_type": "code",
      "execution_count": null,
      "id": "1f621ed2-07dd-403b-bba0-4f37aaad2645",
      "metadata": {
        "tags": [],
        "id": "1f621ed2-07dd-403b-bba0-4f37aaad2645"
      },
      "outputs": [],
      "source": [
        "print( math.floor(2.9) )\n",
        "print( math.floor(2.99) )\n",
        "print( math.floor(2.999) )"
      ]
    },
    {
      "cell_type": "code",
      "execution_count": null,
      "id": "83f18be5-8568-485d-97b1-52dea7ea35cf",
      "metadata": {
        "id": "83f18be5-8568-485d-97b1-52dea7ea35cf"
      },
      "outputs": [],
      "source": []
    },
    {
      "cell_type": "code",
      "execution_count": null,
      "id": "ae67e231-904a-4c38-a5a1-f865bee86827",
      "metadata": {
        "tags": [],
        "id": "ae67e231-904a-4c38-a5a1-f865bee86827"
      },
      "outputs": [],
      "source": [
        "print( math.ceil(2.1) )\n",
        "print( math.ceil(2.01) )\n",
        "print( math.ceil(2.001) )"
      ]
    },
    {
      "cell_type": "code",
      "execution_count": null,
      "id": "0a37ebee-b806-4f61-96e4-8a0e7cb770e5",
      "metadata": {
        "id": "0a37ebee-b806-4f61-96e4-8a0e7cb770e5"
      },
      "outputs": [],
      "source": []
    },
    {
      "cell_type": "code",
      "execution_count": null,
      "id": "ebc80efc-cbb5-421b-b811-03947aa75c1d",
      "metadata": {
        "tags": [],
        "id": "ebc80efc-cbb5-421b-b811-03947aa75c1d"
      },
      "outputs": [],
      "source": [
        "print( math.pi )"
      ]
    },
    {
      "cell_type": "code",
      "execution_count": null,
      "id": "9edebe1d-e191-45f8-b4e9-ae3673f8fba2",
      "metadata": {
        "id": "9edebe1d-e191-45f8-b4e9-ae3673f8fba2"
      },
      "outputs": [],
      "source": []
    },
    {
      "cell_type": "code",
      "execution_count": null,
      "id": "852a680d-a9c0-47cd-b93a-3e697b386917",
      "metadata": {
        "id": "852a680d-a9c0-47cd-b93a-3e697b386917"
      },
      "outputs": [],
      "source": []
    },
    {
      "cell_type": "code",
      "execution_count": null,
      "id": "115b4a0f-2d30-47dd-91af-b80863e3bdfd",
      "metadata": {
        "tags": [],
        "id": "115b4a0f-2d30-47dd-91af-b80863e3bdfd",
        "outputId": "3fa0748d-1bcf-46d5-b57e-74135b404d93"
      },
      "outputs": [
        {
          "name": "stdout",
          "output_type": "stream",
          "text": [
            "2023-12-08 20:51:03.394850\n",
            "2023\n",
            "12\n",
            "8\n",
            "20\n",
            "51\n",
            "3\n",
            "394850\n"
          ]
        }
      ],
      "source": [
        "import datetime\n",
        "\n",
        "print( datetime.datetime.now() )\n",
        "print( datetime.datetime.now().year )\n",
        "print( datetime.datetime.now().month )\n",
        "print( datetime.datetime.now().day )\n",
        "print( datetime.datetime.now().hour )\n",
        "print( datetime.datetime.now().minute )\n",
        "print( datetime.datetime.now().second )\n",
        "print( datetime.datetime.now().microsecond )\n"
      ]
    },
    {
      "cell_type": "code",
      "execution_count": null,
      "id": "f066de96-535b-4967-be0e-aa0ca5fae815",
      "metadata": {
        "id": "f066de96-535b-4967-be0e-aa0ca5fae815"
      },
      "outputs": [],
      "source": []
    },
    {
      "cell_type": "code",
      "execution_count": null,
      "id": "25693ff1-cc9c-45e1-a233-1d738cb97c4c",
      "metadata": {
        "tags": [],
        "id": "25693ff1-cc9c-45e1-a233-1d738cb97c4c"
      },
      "outputs": [],
      "source": [
        "print( datetime.datetime(2024, 5, 1) )"
      ]
    },
    {
      "cell_type": "code",
      "execution_count": null,
      "id": "dd6801b1-6801-427e-94b6-3eb106c1d33f",
      "metadata": {
        "tags": [],
        "id": "dd6801b1-6801-427e-94b6-3eb106c1d33f"
      },
      "outputs": [],
      "source": [
        "print( datetime.datetime(2000, 1, 1) )\n",
        "print( datetime.datetime(2000, 1, 1, 20, 50, 45) )\n",
        "print( datetime.datetime(2000, 1, 1, 20, 50, 45, 100) )"
      ]
    },
    {
      "cell_type": "code",
      "execution_count": null,
      "id": "cd52c2c5-4a24-4ffd-88c7-da6b8bf9cd9a",
      "metadata": {
        "id": "cd52c2c5-4a24-4ffd-88c7-da6b8bf9cd9a"
      },
      "outputs": [],
      "source": []
    },
    {
      "cell_type": "code",
      "execution_count": null,
      "id": "c822a12e-d84f-433f-9a71-87e52b7b5601",
      "metadata": {
        "tags": [],
        "id": "c822a12e-d84f-433f-9a71-87e52b7b5601"
      },
      "outputs": [],
      "source": [
        "# Diferença entre dias\n",
        "\n",
        "data_inicial = datetime.datetime.now()\n",
        "data_final = datetime.datetime(2024, 5, 1)\n",
        "\n",
        "diferenca = ( data_final - data_inicial ).days\n",
        "print( diferenca )"
      ]
    },
    {
      "cell_type": "code",
      "execution_count": null,
      "id": "79f287b4-90cf-43b0-aec2-8e762bb17e63",
      "metadata": {
        "id": "79f287b4-90cf-43b0-aec2-8e762bb17e63"
      },
      "outputs": [],
      "source": []
    },
    {
      "cell_type": "code",
      "execution_count": null,
      "id": "046ef31e-306f-43ab-b6aa-0f509144296e",
      "metadata": {
        "id": "046ef31e-306f-43ab-b6aa-0f509144296e"
      },
      "outputs": [],
      "source": []
    },
    {
      "cell_type": "code",
      "execution_count": null,
      "id": "8c2ab9eb-b458-4d0d-a8f1-b7db7154b39f",
      "metadata": {
        "tags": [],
        "id": "8c2ab9eb-b458-4d0d-a8f1-b7db7154b39f"
      },
      "outputs": [],
      "source": [
        "hoje = datetime.datetime.now()\n",
        "\n",
        "dias = datetime.timedelta( days=15 )\n",
        "\n",
        "print ( hoje - dias )"
      ]
    },
    {
      "cell_type": "code",
      "execution_count": null,
      "id": "d2c00a6a-83eb-488e-b6c4-76db8f79fa74",
      "metadata": {
        "id": "d2c00a6a-83eb-488e-b6c4-76db8f79fa74"
      },
      "outputs": [],
      "source": []
    },
    {
      "cell_type": "code",
      "execution_count": null,
      "id": "dfdb8fb4-8215-4ec0-8fc6-a160373e9960",
      "metadata": {
        "tags": [],
        "id": "dfdb8fb4-8215-4ec0-8fc6-a160373e9960"
      },
      "outputs": [],
      "source": [
        "agora = datetime.datetime.now()\n",
        "final = datetime.datetime(2023, 12, 9)\n",
        "\n",
        "print(agora)\n",
        "print(final)\n",
        "\n",
        "print( final > agora )\n",
        "\n",
        "if final > agora:\n",
        "    print('Desconto')\n",
        "else:\n",
        "    print('Preço Original')"
      ]
    },
    {
      "cell_type": "code",
      "execution_count": null,
      "id": "42aaa8d9-b637-4a46-9845-66043621d393",
      "metadata": {
        "tags": [],
        "id": "42aaa8d9-b637-4a46-9845-66043621d393"
      },
      "outputs": [],
      "source": [
        "\n",
        "hoje = datetime.datetime.now()\n",
        "\n",
        "print( hoje.strftime( '%d/%m/%Y' ) )\n",
        "\n",
        "print( hoje.strftime( '%d-%m-%Y' ) )"
      ]
    },
    {
      "cell_type": "code",
      "execution_count": null,
      "id": "971e8c59-6d9a-4006-a279-9be957ffa0f6",
      "metadata": {
        "tags": [],
        "id": "971e8c59-6d9a-4006-a279-9be957ffa0f6"
      },
      "outputs": [],
      "source": [
        "print( hoje.strftime( '%d' ) )\n",
        "print( hoje.strftime( '%m' ) )\n",
        "print( hoje.strftime( '%Y' ) )\n",
        "print( hoje.strftime( '%y' ) )\n",
        "\n",
        "print( hoje.strftime( '%d / %m / %Y' ) )\n",
        "print( hoje.strftime( '%d de %m de %Y' ) )"
      ]
    },
    {
      "cell_type": "code",
      "execution_count": null,
      "id": "8f841669-7387-4f10-aab3-42f7f468483e",
      "metadata": {
        "tags": [],
        "id": "8f841669-7387-4f10-aab3-42f7f468483e"
      },
      "outputs": [],
      "source": [
        "print( hoje.strftime( 'Agora são %H horas' ) )"
      ]
    },
    {
      "cell_type": "code",
      "execution_count": null,
      "id": "e8a90064-cc49-49e4-b1a0-e3a9ae5c06c6",
      "metadata": {
        "id": "e8a90064-cc49-49e4-b1a0-e3a9ae5c06c6"
      },
      "outputs": [],
      "source": []
    },
    {
      "cell_type": "code",
      "execution_count": null,
      "id": "63157f9a-023e-4141-8c95-451a385e5e8c",
      "metadata": {
        "tags": [],
        "id": "63157f9a-023e-4141-8c95-451a385e5e8c"
      },
      "outputs": [],
      "source": [
        "\n",
        "print( hoje.strftime( '%x' ) )\n",
        "\n",
        "print( hoje.strftime( '%X' ) )\n"
      ]
    },
    {
      "cell_type": "code",
      "execution_count": null,
      "id": "87c82a78-fb0a-48a3-b26b-6679673fa75a",
      "metadata": {
        "tags": [],
        "id": "87c82a78-fb0a-48a3-b26b-6679673fa75a"
      },
      "outputs": [],
      "source": [
        "\n"
      ]
    },
    {
      "cell_type": "code",
      "execution_count": null,
      "id": "fd914e4e-2f7c-42cd-9404-f7972fcb8da8",
      "metadata": {
        "tags": [],
        "id": "fd914e4e-2f7c-42cd-9404-f7972fcb8da8"
      },
      "outputs": [],
      "source": []
    },
    {
      "cell_type": "code",
      "execution_count": null,
      "id": "4fc2a777-d7b2-4857-b55d-5b252a06a2f8",
      "metadata": {
        "id": "4fc2a777-d7b2-4857-b55d-5b252a06a2f8",
        "outputId": "bd4636d2-d8f0-4697-fcd3-9d709d50f2e0"
      },
      "outputs": [
        {
          "name": "stdout",
          "output_type": "stream",
          "text": [
            "08 de dez de 2023\n",
            "08 de dezembro de 2023\n",
            "Dia da semana: sex\n",
            "Dia da semana: sexta-feira\n"
          ]
        }
      ],
      "source": [
        "import datetime\n",
        "import locale\n",
        "\n",
        "locale.setlocale(locale.LC_ALL, 'pt_BR')\n",
        "\n",
        "hoje = datetime.datetime.now()\n",
        "\n",
        "print( hoje.strftime( '%d de %b de %Y' ) )\n",
        "print( hoje.strftime( '%d de %B de %Y' ) )\n",
        "\n",
        "print( hoje.strftime( 'Dia da semana: %a' ) )\n",
        "print( hoje.strftime( 'Dia da semana: %A' ) )"
      ]
    },
    {
      "cell_type": "code",
      "execution_count": null,
      "id": "1195ab7d-5070-40c0-b032-fe62b8342f0d",
      "metadata": {
        "id": "1195ab7d-5070-40c0-b032-fe62b8342f0d"
      },
      "outputs": [],
      "source": []
    },
    {
      "cell_type": "code",
      "execution_count": null,
      "id": "ae251072-167b-4c15-bb6c-4628b703c70c",
      "metadata": {
        "tags": [],
        "id": "ae251072-167b-4c15-bb6c-4628b703c70c",
        "outputId": "5ae6b92b-f05a-4f84-b3df-6a11ab459015"
      },
      "outputs": [
        {
          "name": "stdout",
          "output_type": "stream",
          "text": [
            "1222333.4444\n",
            "1.222.333,44\n"
          ]
        }
      ],
      "source": [
        "print(1222333.4444)\n",
        "\n",
        "print( locale.format_string('%.2f', 1222333.4444, True) )"
      ]
    },
    {
      "cell_type": "code",
      "execution_count": null,
      "id": "4a730944-777e-4b70-ad9a-3a3985770269",
      "metadata": {
        "id": "4a730944-777e-4b70-ad9a-3a3985770269"
      },
      "outputs": [],
      "source": []
    },
    {
      "cell_type": "code",
      "execution_count": null,
      "id": "18fbc991-d1b3-4d12-abfe-5b1de65678b0",
      "metadata": {
        "id": "18fbc991-d1b3-4d12-abfe-5b1de65678b0"
      },
      "outputs": [],
      "source": []
    },
    {
      "cell_type": "code",
      "execution_count": null,
      "id": "5fb6afb5-9469-49bc-8a42-8b0c32873e2c",
      "metadata": {
        "tags": [],
        "id": "5fb6afb5-9469-49bc-8a42-8b0c32873e2c",
        "outputId": "c98f03aa-0210-49f8-9117-6ee435831826"
      },
      "outputs": [
        {
          "name": "stdout",
          "output_type": "stream",
          "text": [
            "1991-01-10 00:00:00\n"
          ]
        }
      ],
      "source": [
        "texto = '10/01/1991'\n",
        "\n",
        "data_convertida = datetime.datetime.strptime(texto, '%d/%m/%Y' )\n",
        "\n",
        "print( data_convertida )"
      ]
    },
    {
      "cell_type": "code",
      "execution_count": null,
      "id": "7f46cd9f-bc3f-42f9-a448-dec4955a5154",
      "metadata": {
        "tags": [],
        "id": "7f46cd9f-bc3f-42f9-a448-dec4955a5154",
        "outputId": "b205914d-381a-4c89-943a-3bdd8cdadd9b"
      },
      "outputs": [
        {
          "name": "stdout",
          "output_type": "stream",
          "text": [
            "2023-12-08 00:00:00\n"
          ]
        }
      ],
      "source": [
        "texto = 'Hoje é dia 08 do 12 de 2023'\n",
        "\n",
        "print( datetime.datetime.strptime(texto, 'Hoje é dia %d do %m de %Y' ) )"
      ]
    },
    {
      "cell_type": "code",
      "execution_count": null,
      "id": "d0ef9800-533f-4abe-ae60-67c258c8e901",
      "metadata": {
        "tags": [],
        "id": "d0ef9800-533f-4abe-ae60-67c258c8e901",
        "outputId": "6d2d7223-ce65-47b5-ef1e-d71f6a47c557"
      },
      "outputs": [
        {
          "name": "stdout",
          "output_type": "stream",
          "text": [
            "1900-01-01 21:17:00\n"
          ]
        }
      ],
      "source": []
    },
    {
      "cell_type": "code",
      "execution_count": null,
      "id": "ad5a6f71-aa5a-4b22-b014-b94f07e745e8",
      "metadata": {
        "id": "ad5a6f71-aa5a-4b22-b014-b94f07e745e8"
      },
      "outputs": [],
      "source": []
    },
    {
      "cell_type": "code",
      "execution_count": null,
      "id": "8a77b01a-f0ef-4276-a526-b5c5e0961890",
      "metadata": {
        "id": "8a77b01a-f0ef-4276-a526-b5c5e0961890"
      },
      "outputs": [],
      "source": []
    },
    {
      "cell_type": "code",
      "execution_count": null,
      "id": "93dd9c76-a5a1-4b01-b811-2366466daea8",
      "metadata": {
        "id": "93dd9c76-a5a1-4b01-b811-2366466daea8"
      },
      "outputs": [],
      "source": []
    },
    {
      "cell_type": "code",
      "execution_count": null,
      "id": "4343175e-0c1c-4c17-a9d4-37316f64f803",
      "metadata": {
        "tags": [],
        "id": "4343175e-0c1c-4c17-a9d4-37316f64f803",
        "outputId": "70318f77-99f6-4e7e-a2c5-e9368e6e052c"
      },
      "outputs": [
        {
          "name": "stdout",
          "output_type": "stream",
          "text": [
            "0.1411384005364511\n",
            "0.04151127906096208\n",
            "0.9201079088617342\n",
            "0.3374468448908696\n",
            "0.7148145854258223\n"
          ]
        }
      ],
      "source": [
        "import random\n",
        "\n",
        "print( random.random() )\n",
        "print( random.random() )\n",
        "print( random.random() )\n",
        "print( random.random() )\n",
        "print( random.random() )"
      ]
    },
    {
      "cell_type": "code",
      "execution_count": null,
      "id": "3d3efa8c-400e-4ee4-885e-e07f251c824d",
      "metadata": {
        "id": "3d3efa8c-400e-4ee4-885e-e07f251c824d"
      },
      "outputs": [],
      "source": []
    },
    {
      "cell_type": "code",
      "execution_count": null,
      "id": "5b993c7c-cf9a-4cc8-be08-76a585857219",
      "metadata": {
        "id": "5b993c7c-cf9a-4cc8-be08-76a585857219"
      },
      "outputs": [],
      "source": []
    },
    {
      "cell_type": "code",
      "execution_count": null,
      "id": "318eae14-c256-4dcb-bfe7-f2e69d008246",
      "metadata": {
        "tags": [],
        "id": "318eae14-c256-4dcb-bfe7-f2e69d008246",
        "outputId": "0677caf9-91ec-44a9-aab3-5e2b479f4f9f"
      },
      "outputs": [
        {
          "name": "stdout",
          "output_type": "stream",
          "text": [
            "15\n",
            "87\n",
            "72\n",
            "52\n"
          ]
        }
      ],
      "source": [
        "print( random.randrange(10, 100) )\n",
        "print( random.randrange(10, 100) )\n",
        "print( random.randrange(10, 100) )\n",
        "print( random.randrange(10, 100) )"
      ]
    },
    {
      "cell_type": "code",
      "execution_count": null,
      "id": "a63d1452-9270-4e3f-bc11-4185a38fd453",
      "metadata": {
        "tags": [],
        "id": "a63d1452-9270-4e3f-bc11-4185a38fd453",
        "outputId": "e0b1f25d-c4f3-45f3-f6ee-e7e66c4f58b6"
      },
      "outputs": [
        {
          "name": "stdout",
          "output_type": "stream",
          "text": [
            "7.298066267107198\n",
            "7.422632157033194\n",
            "2.4188719209668053\n",
            "8.694655692255875\n"
          ]
        }
      ],
      "source": [
        "print( random.uniform(0, 10) )\n",
        "print( random.uniform(0, 10) )\n",
        "print( random.uniform(0, 10) )\n",
        "print( random.uniform(0, 10) )"
      ]
    },
    {
      "cell_type": "code",
      "execution_count": null,
      "id": "7f890395-5519-477a-be2d-ffda61c8cba0",
      "metadata": {
        "id": "7f890395-5519-477a-be2d-ffda61c8cba0"
      },
      "outputs": [],
      "source": []
    },
    {
      "cell_type": "code",
      "execution_count": null,
      "id": "59d3eae1-1dd6-43cb-a7ca-ceaa0b17b55e",
      "metadata": {
        "tags": [],
        "id": "59d3eae1-1dd6-43cb-a7ca-ceaa0b17b55e",
        "outputId": "2631d272-4ee9-49fa-a7ed-7ba093ce7180"
      },
      "outputs": [
        {
          "name": "stdout",
          "output_type": "stream",
          "text": [
            "Suelen\n",
            "Fernando\n",
            "Thiago\n"
          ]
        }
      ],
      "source": [
        "lista = ['Thiago', 'Ana', 'Fernando', 'Patricia', 'Suelen']\n",
        "\n",
        "print( random.choice(lista) )\n",
        "print( random.choice(lista) )\n",
        "print( random.choice(lista) )"
      ]
    },
    {
      "cell_type": "code",
      "execution_count": null,
      "id": "330bddf4-7718-4086-ba8e-4bf26ee38cb6",
      "metadata": {
        "tags": [],
        "id": "330bddf4-7718-4086-ba8e-4bf26ee38cb6",
        "outputId": "3a065373-b9d1-4763-80c8-4027cc3806fe"
      },
      "outputs": [
        {
          "name": "stdout",
          "output_type": "stream",
          "text": [
            "Os números sorteados foram: [48, 54, 24, 4, 12, 1]\n"
          ]
        }
      ],
      "source": [
        "lista = []\n",
        "\n",
        "while True:\n",
        "\n",
        "    if len(lista) == 6:\n",
        "        break\n",
        "\n",
        "    n_aleatorio = random.randrange(1, 61)\n",
        "\n",
        "    if n_aleatorio not in lista:\n",
        "        lista.append( n_aleatorio )\n",
        "\n",
        "print( f'Os números sorteados foram: {lista}' )"
      ]
    }
  ],
  "metadata": {
    "kernelspec": {
      "display_name": "Python 3 (ipykernel)",
      "language": "python",
      "name": "python3"
    },
    "language_info": {
      "codemirror_mode": {
        "name": "ipython",
        "version": 3
      },
      "file_extension": ".py",
      "mimetype": "text/x-python",
      "name": "python",
      "nbconvert_exporter": "python",
      "pygments_lexer": "ipython3",
      "version": "3.11.5"
    },
    "colab": {
      "provenance": [],
      "include_colab_link": true
    }
  },
  "nbformat": 4,
  "nbformat_minor": 5
}