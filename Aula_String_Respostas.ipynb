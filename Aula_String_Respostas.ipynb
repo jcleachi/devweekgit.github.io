{
  "cells": [
    {
      "cell_type": "markdown",
      "metadata": {
        "id": "view-in-github",
        "colab_type": "text"
      },
      "source": [
        "<a href=\"https://colab.research.google.com/github/jcleachi/devweekgit.github.io/blob/main/Aula_String_Respostas.ipynb\" target=\"_parent\"><img src=\"https://colab.research.google.com/assets/colab-badge.svg\" alt=\"Open In Colab\"/></a>"
      ]
    },
    {
      "cell_type": "markdown",
      "id": "8423575c-e99d-4f19-bb0c-30c709d0581e",
      "metadata": {
        "id": "8423575c-e99d-4f19-bb0c-30c709d0581e"
      },
      "source": [
        "# <font color='OrangeRed'><center>Exercícios - String</center></font>"
      ]
    },
    {
      "cell_type": "markdown",
      "id": "9145802d-9b62-4fd3-a72e-4732dac9ac04",
      "metadata": {
        "id": "9145802d-9b62-4fd3-a72e-4732dac9ac04"
      },
      "source": [
        "### Exercício 01\n",
        "\n",
        "Faça um programa que converta as primeiras letras de cada uma das palavras da string abaixo em maiúsculas e as demais letras em minúsculas."
      ]
    },
    {
      "cell_type": "code",
      "execution_count": null,
      "id": "37e21927-8dd5-44d5-97a3-f5db8143340d",
      "metadata": {
        "id": "37e21927-8dd5-44d5-97a3-f5db8143340d",
        "outputId": "04eaa8e5-6ef6-4211-e9cd-cf5e12a7e7c1"
      },
      "outputs": [
        {
          "name": "stdout",
          "output_type": "stream",
          "text": [
            "Escola Senai Gaspar Ricardo Junior\n"
          ]
        }
      ],
      "source": [
        "texto = 'escola senai gaspar ricardo junior'.title()\n",
        "\n",
        "print(texto)"
      ]
    },
    {
      "cell_type": "markdown",
      "id": "4e9d3710-4614-4733-8726-6df6653f9ddb",
      "metadata": {
        "id": "4e9d3710-4614-4733-8726-6df6653f9ddb"
      },
      "source": [
        "---"
      ]
    },
    {
      "cell_type": "markdown",
      "id": "63b6b35a-452f-449d-9909-c333e10e5998",
      "metadata": {
        "id": "63b6b35a-452f-449d-9909-c333e10e5998"
      },
      "source": [
        "### Exercício 02\n",
        "\n",
        "Faça um programa que receba o nome completo do usuário e que em seguida converta as primeiras letras de cada nome em maiúsculas e as demais em minúsculas."
      ]
    },
    {
      "cell_type": "code",
      "execution_count": null,
      "id": "2c9a0077-683a-4037-af3d-f1df95e46a59",
      "metadata": {
        "id": "2c9a0077-683a-4037-af3d-f1df95e46a59",
        "outputId": "2a63640d-3ed1-4062-9856-fd8820605823"
      },
      "outputs": [
        {
          "name": "stdin",
          "output_type": "stream",
          "text": [
            "Digite seu nome completo:  thiago ferreira\n"
          ]
        },
        {
          "name": "stdout",
          "output_type": "stream",
          "text": [
            "Thiago Ferreira\n"
          ]
        }
      ],
      "source": [
        "nome = input('Digite seu nome completo: ')\n",
        "\n",
        "print( nome.title() )\n",
        "\n"
      ]
    },
    {
      "cell_type": "markdown",
      "id": "f1f3c4f1-2864-4eb6-8b51-4fc85d841ccc",
      "metadata": {
        "id": "f1f3c4f1-2864-4eb6-8b51-4fc85d841ccc"
      },
      "source": [
        "---"
      ]
    },
    {
      "cell_type": "markdown",
      "id": "3839c2fd-0ed3-48c2-8dbb-333623686d22",
      "metadata": {
        "id": "3839c2fd-0ed3-48c2-8dbb-333623686d22"
      },
      "source": [
        "### Exercício 03\n",
        "\n",
        "Faça um programa que converta a palavra 'Paiton' da frase 'Programação em Paiton' para 'Python'."
      ]
    },
    {
      "cell_type": "code",
      "execution_count": null,
      "id": "686ebf1e-5dac-4c3a-81e5-01d8db3a4329",
      "metadata": {
        "id": "686ebf1e-5dac-4c3a-81e5-01d8db3a4329",
        "outputId": "d8e8b075-16cc-4f81-bd27-2baf5b544d24"
      },
      "outputs": [
        {
          "name": "stdout",
          "output_type": "stream",
          "text": [
            "Programação em Python\n"
          ]
        }
      ],
      "source": [
        "curso = 'Programação em Paiton'\n",
        "\n",
        "print( curso.replace('Paiton', 'Python') )"
      ]
    },
    {
      "cell_type": "markdown",
      "id": "18123b18-dd1b-4475-8364-fbd622f5e1ae",
      "metadata": {
        "id": "18123b18-dd1b-4475-8364-fbd622f5e1ae"
      },
      "source": [
        "---"
      ]
    },
    {
      "cell_type": "markdown",
      "id": "39ff5171-d711-4c85-9e0c-65af0de1b43b",
      "metadata": {
        "id": "39ff5171-d711-4c85-9e0c-65af0de1b43b"
      },
      "source": [
        "### Exercício 04\n",
        "\n",
        "Faça um programa que retorne o número de caracteres do texto abaixo."
      ]
    },
    {
      "cell_type": "code",
      "execution_count": null,
      "id": "09205df2-caf4-426d-833d-cc87a9be1cb7",
      "metadata": {
        "id": "09205df2-caf4-426d-833d-cc87a9be1cb7",
        "outputId": "03827440-3022-414d-82f5-f2a36a0e77b5"
      },
      "outputs": [
        {
          "name": "stdout",
          "output_type": "stream",
          "text": [
            "7\n"
          ]
        }
      ],
      "source": [
        "fruta = 'Laranja'\n",
        "\n",
        "print( len(fruta) )"
      ]
    },
    {
      "cell_type": "markdown",
      "id": "cd66c5de-0c1b-46be-89d4-5cd37b6aea72",
      "metadata": {
        "id": "cd66c5de-0c1b-46be-89d4-5cd37b6aea72"
      },
      "source": [
        "---"
      ]
    },
    {
      "cell_type": "markdown",
      "id": "772b2c9a-999a-46fd-9c46-44dc3e3ec3c9",
      "metadata": {
        "id": "772b2c9a-999a-46fd-9c46-44dc3e3ec3c9"
      },
      "source": [
        "### Exercício 05\n",
        "\n",
        "Faça um programa que peça ao usuário escrever uma frase e que em seguida imprima o número de caracteres digitados."
      ]
    },
    {
      "cell_type": "code",
      "execution_count": null,
      "id": "0f76e7b1-b239-46f8-9bfe-49a63054aa3b",
      "metadata": {
        "id": "0f76e7b1-b239-46f8-9bfe-49a63054aa3b",
        "outputId": "b580d7f3-30e6-4034-9675-f56157391f36"
      },
      "outputs": [
        {
          "name": "stdin",
          "output_type": "stream",
          "text": [
            "Digite uma frase:  Hoje é sexta-feira\n"
          ]
        },
        {
          "name": "stdout",
          "output_type": "stream",
          "text": [
            "18\n"
          ]
        }
      ],
      "source": [
        "frase = input('Digite uma frase: ')\n",
        "\n",
        "print( len(frase) )"
      ]
    },
    {
      "cell_type": "markdown",
      "id": "64157bd6-0f67-40ec-99d9-95fcd3340704",
      "metadata": {
        "id": "64157bd6-0f67-40ec-99d9-95fcd3340704"
      },
      "source": [
        "---"
      ]
    },
    {
      "cell_type": "markdown",
      "id": "797eaee6-b356-4657-af4a-df9ca77c0725",
      "metadata": {
        "id": "797eaee6-b356-4657-af4a-df9ca77c0725"
      },
      "source": [
        "### Exercício 06\n",
        "\n",
        "Faça um programa que peça ao usuário digitar uma nova senha, em seguida crie a seguinte condição:\n",
        "- Se nova senha fornecida tiver 6 ou mais caracteres retorne 'NOVA SENHA CADASTRADA'\n",
        "- Se nova senha fornecida tiver menos do que 6 caracteres retorne 'SENHA INCORRETA. A NOVA SENHA DEVE TER NO MINÍMO 6 CARACTERES'"
      ]
    },
    {
      "cell_type": "code",
      "execution_count": null,
      "id": "79b65d6e-987e-40f4-9e43-08201f710a92",
      "metadata": {
        "id": "79b65d6e-987e-40f4-9e43-08201f710a92"
      },
      "outputs": [],
      "source": [
        "senha = input('Digite uma nova senha: ')\n",
        "\n",
        "if len(senha) >= 6:\n",
        "    print('NOVA SENHA CADASTRADA')\n",
        "else:\n",
        "    print('SENHA INCORRETA. A NOVA SENHA DEVE TER NO MINÍMO 6 CARACTERES')\n"
      ]
    },
    {
      "cell_type": "markdown",
      "id": "c1a3dd7f-d208-498b-b061-2b48eef6cde3",
      "metadata": {
        "id": "c1a3dd7f-d208-498b-b061-2b48eef6cde3"
      },
      "source": [
        "---"
      ]
    },
    {
      "cell_type": "markdown",
      "id": "e4ebfbed-e6d2-4680-85d3-765dcf3d5557",
      "metadata": {
        "id": "e4ebfbed-e6d2-4680-85d3-765dcf3d5557"
      },
      "source": [
        "### Exercício 07\n",
        "\n",
        "Faça um programa que converta todas as letras em maiúsculas do texto abaixo."
      ]
    },
    {
      "cell_type": "code",
      "execution_count": null,
      "id": "820cdafc-dedd-435f-9b8d-49f5c6dffe01",
      "metadata": {
        "id": "820cdafc-dedd-435f-9b8d-49f5c6dffe01",
        "outputId": "9476368b-fa8c-4030-d74f-4bea5541eb8d"
      },
      "outputs": [
        {
          "name": "stdout",
          "output_type": "stream",
          "text": [
            "STRING\n"
          ]
        }
      ],
      "source": [
        "palavra = 'StrinG'\n",
        "\n",
        "print( palavra.upper() )"
      ]
    },
    {
      "cell_type": "markdown",
      "id": "99f6553e-547a-40cc-91c8-9bbb37dd784a",
      "metadata": {
        "id": "99f6553e-547a-40cc-91c8-9bbb37dd784a"
      },
      "source": [
        "---"
      ]
    },
    {
      "cell_type": "markdown",
      "id": "0814a84e-edd9-4e6c-8c19-9faa2302b84a",
      "metadata": {
        "id": "0814a84e-edd9-4e6c-8c19-9faa2302b84a"
      },
      "source": [
        "### Exercício 08\n",
        "\n",
        "Faça um programa que peça ao usuário escrever uma frase e que em seguida imprima todas as letras em maiúsculas."
      ]
    },
    {
      "cell_type": "code",
      "execution_count": null,
      "id": "ef3fbc5b-547f-4be5-8c91-529e34231e68",
      "metadata": {
        "id": "ef3fbc5b-547f-4be5-8c91-529e34231e68",
        "outputId": "9010a4fe-daa3-4e6b-c18e-fcefb1a67f6f"
      },
      "outputs": [
        {
          "name": "stdin",
          "output_type": "stream",
          "text": [
            "Digite uma frase:  Hoje é black friday\n"
          ]
        },
        {
          "name": "stdout",
          "output_type": "stream",
          "text": [
            "HOJE É BLACK FRIDAY\n"
          ]
        }
      ],
      "source": [
        "frase = input('Digite uma frase: ')\n",
        "\n",
        "print( frase.upper() )"
      ]
    },
    {
      "cell_type": "markdown",
      "id": "659989e7-da21-4b75-b53a-30c8d4b02325",
      "metadata": {
        "id": "659989e7-da21-4b75-b53a-30c8d4b02325"
      },
      "source": [
        "---"
      ]
    },
    {
      "cell_type": "markdown",
      "id": "0b7e95e9-4f1e-4a13-bcbb-bc4e328187b5",
      "metadata": {
        "id": "0b7e95e9-4f1e-4a13-bcbb-bc4e328187b5"
      },
      "source": [
        "### Exercício 09\n",
        "\n",
        "Faça um programa que converta todas as letras em minúsculas do texto abaixo."
      ]
    },
    {
      "cell_type": "code",
      "execution_count": null,
      "id": "d708aeb5-171c-4837-ae22-d4fd87b8db15",
      "metadata": {
        "id": "d708aeb5-171c-4837-ae22-d4fd87b8db15",
        "outputId": "bba7b327-fb3b-4ef8-82ff-8511a52b98f2"
      },
      "outputs": [
        {
          "name": "stdout",
          "output_type": "stream",
          "text": [
            "string\n"
          ]
        }
      ],
      "source": [
        "palavra = 'STRING'\n",
        "\n",
        "print( palavra.lower() )"
      ]
    },
    {
      "cell_type": "markdown",
      "id": "47c2e41c-d36e-4b93-a2ab-e8deefd10b89",
      "metadata": {
        "id": "47c2e41c-d36e-4b93-a2ab-e8deefd10b89"
      },
      "source": [
        "---"
      ]
    },
    {
      "cell_type": "markdown",
      "id": "9a4b985a-3437-4913-82fa-396d44895d46",
      "metadata": {
        "id": "9a4b985a-3437-4913-82fa-396d44895d46"
      },
      "source": [
        "### Exercício 10\n",
        "\n",
        "Faça um programa que peça ao usuário escrever uma frase e que em seguida imprima todas as letras em minúsculas.\n",
        "\n",
        "_Não esqueça de digitar algumas ou todas letras em **maiúsculas** para testar o programa._"
      ]
    },
    {
      "cell_type": "code",
      "execution_count": null,
      "id": "eb5040fb-c183-4769-a46d-b732ad4efd06",
      "metadata": {
        "id": "eb5040fb-c183-4769-a46d-b732ad4efd06",
        "outputId": "68ae2f0d-ee9a-47b2-aefb-2186bcec24d0"
      },
      "outputs": [
        {
          "name": "stdin",
          "output_type": "stream",
          "text": [
            "Digite uma frase:  PROGRAMAÇÃO EM PYTHON\n"
          ]
        },
        {
          "name": "stdout",
          "output_type": "stream",
          "text": [
            "programação em python\n"
          ]
        }
      ],
      "source": [
        "frase = input('Digite uma frase: ')\n",
        "\n",
        "print( frase.lower() )"
      ]
    },
    {
      "cell_type": "markdown",
      "id": "94dee6b0-9457-480d-b7a3-593655f808e9",
      "metadata": {
        "id": "94dee6b0-9457-480d-b7a3-593655f808e9"
      },
      "source": [
        "---"
      ]
    },
    {
      "cell_type": "markdown",
      "id": "f5b755b9-850d-45e2-a877-bf728793f15c",
      "metadata": {
        "tags": [],
        "id": "f5b755b9-850d-45e2-a877-bf728793f15c"
      },
      "source": [
        "### Exercício 11\n",
        "\n",
        "Faça um programa que retorne a palavra abaixo sem os os espaços em branco nas extremidades."
      ]
    },
    {
      "cell_type": "code",
      "execution_count": null,
      "id": "af254367-149a-4380-adaf-a608591f4b7d",
      "metadata": {
        "id": "af254367-149a-4380-adaf-a608591f4b7d",
        "outputId": "f4a05321-ff73-445a-cb84-46b8125fb8f0"
      },
      "outputs": [
        {
          "name": "stdout",
          "output_type": "stream",
          "text": [
            "       Programação em Python            \n",
            "Programação em Python\n"
          ]
        }
      ],
      "source": [
        "palavra = '       Programação em Python            '\n",
        "\n",
        "print(palavra)\n",
        "print( palavra.strip() )"
      ]
    },
    {
      "cell_type": "markdown",
      "id": "4b7401ee-be92-4f01-969c-ab595c4efd5b",
      "metadata": {
        "id": "4b7401ee-be92-4f01-969c-ab595c4efd5b"
      },
      "source": [
        "---"
      ]
    },
    {
      "cell_type": "markdown",
      "id": "af4996ab-988b-4759-a92e-e478298fcc17",
      "metadata": {
        "id": "af4996ab-988b-4759-a92e-e478298fcc17"
      },
      "source": [
        "### Exercício 12\n",
        "\n",
        "Faça um programa que concatene todos os textos abaixo para retornar 'Escola SENAI Luiz Pagliato'."
      ]
    },
    {
      "cell_type": "code",
      "execution_count": null,
      "id": "06d4061c-7375-45a7-96ee-7d59a456bffa",
      "metadata": {
        "id": "06d4061c-7375-45a7-96ee-7d59a456bffa",
        "outputId": "76d56a1a-9eb9-4891-9441-cba707b30493"
      },
      "outputs": [
        {
          "name": "stdout",
          "output_type": "stream",
          "text": [
            "Escola SENAI Luiz Pagliato\n"
          ]
        }
      ],
      "source": [
        "texto1 = 'Escola '\n",
        "texto2 = 'SENAI '\n",
        "texto3 = 'Luiz '\n",
        "texto4 = 'Pagliato'\n",
        "\n",
        "print( texto1 + texto2 + texto3 + texto4 )"
      ]
    },
    {
      "cell_type": "markdown",
      "id": "f15d7809-27fb-4369-abff-e7997800d204",
      "metadata": {
        "id": "f15d7809-27fb-4369-abff-e7997800d204"
      },
      "source": [
        "---"
      ]
    },
    {
      "cell_type": "markdown",
      "id": "85e81454-c7d1-42fa-b96c-2cb26db9f908",
      "metadata": {
        "id": "85e81454-c7d1-42fa-b96c-2cb26db9f908"
      },
      "source": [
        "### Exercício 13"
      ]
    },
    {
      "cell_type": "markdown",
      "id": "fc20db5e-714d-4e41-9a82-ebb536e35f75",
      "metadata": {
        "id": "fc20db5e-714d-4e41-9a82-ebb536e35f75"
      },
      "source": [
        "Faça um programa que receba dois textos do usuário, o primeiro peça para ele digitar um nome e no segundo peça para ele digitar um sobrenome, em seguida concatene os dois textos para retornar o nome completo."
      ]
    },
    {
      "cell_type": "code",
      "execution_count": null,
      "id": "f7f2123e-e668-42f2-8514-dc3b0641dbe7",
      "metadata": {
        "id": "f7f2123e-e668-42f2-8514-dc3b0641dbe7",
        "outputId": "fce7c30e-d5c4-47c0-90f5-c8649b44ff2e"
      },
      "outputs": [
        {
          "name": "stdin",
          "output_type": "stream",
          "text": [
            "Digite o seu nome:  Thiago\n",
            "Digite o seu sobrenome:  Ferreira\n"
          ]
        },
        {
          "name": "stdout",
          "output_type": "stream",
          "text": [
            "Thiago Ferreira\n",
            "Thiago Ferreira\n"
          ]
        }
      ],
      "source": [
        "nome = input('Digite o seu nome: ')\n",
        "sobrenome = input('Digite o seu sobrenome: ')\n",
        "\n",
        "print(nome + ' ' + sobrenome)\n",
        "print(f'{nome} {sobrenome}')"
      ]
    },
    {
      "cell_type": "markdown",
      "id": "a1402206-1047-403e-8d47-ea4d4c933500",
      "metadata": {
        "id": "a1402206-1047-403e-8d47-ea4d4c933500"
      },
      "source": [
        "---"
      ]
    },
    {
      "cell_type": "markdown",
      "id": "25276b5d-dc47-4f18-96f5-ad1bfb25184f",
      "metadata": {
        "id": "25276b5d-dc47-4f18-96f5-ad1bfb25184f"
      },
      "source": [
        "### Exercício 14\n",
        "\n",
        "Faça um programa que retorne a frase abaixo repetindo a palavra 'muito' 5 vezes. Exemplo:\n",
        "\n",
        "> \"Python é muito muito muito muito muito legal!\""
      ]
    },
    {
      "cell_type": "code",
      "execution_count": null,
      "id": "338bb4a1-1d8f-4926-94ed-8b905f38ab9f",
      "metadata": {
        "id": "338bb4a1-1d8f-4926-94ed-8b905f38ab9f",
        "outputId": "8ac589fb-d6f6-4dc3-c5a3-83bc6b968088"
      },
      "outputs": [
        {
          "name": "stdout",
          "output_type": "stream",
          "text": [
            "Python é muito muito muito muito muito legal!\n"
          ]
        }
      ],
      "source": [
        "texto1 = 'Python é '\n",
        "texto2 = 'muito '\n",
        "texto3 = 'legal!'\n",
        "\n",
        "print( texto1 + texto2 * 5 + texto3 )"
      ]
    },
    {
      "cell_type": "markdown",
      "id": "e9c33872-8df6-4bd8-9f04-0b9871dba54b",
      "metadata": {
        "id": "e9c33872-8df6-4bd8-9f04-0b9871dba54b"
      },
      "source": [
        "---"
      ]
    },
    {
      "cell_type": "markdown",
      "id": "f9e13e1e-e6a2-46b7-ab64-427507924aac",
      "metadata": {
        "id": "f9e13e1e-e6a2-46b7-ab64-427507924aac"
      },
      "source": [
        "### Exercício 15\n",
        "\n",
        "Faça um programa que retorne a quantidade de vezes que a letra 'e' aparece no texto a abaixo."
      ]
    },
    {
      "cell_type": "code",
      "execution_count": null,
      "id": "8cefec18-af16-4d4f-abbe-5e4ffb1becf8",
      "metadata": {
        "id": "8cefec18-af16-4d4f-abbe-5e4ffb1becf8",
        "outputId": "6b9eefe5-cc94-4624-fa1c-437bdb7d5e71"
      },
      "outputs": [
        {
          "name": "stdout",
          "output_type": "stream",
          "text": [
            "26\n"
          ]
        }
      ],
      "source": [
        "texto = '''\n",
        "O curso de Aperfeiçoamento Profissional de Programação em Python tem por objetivo o desenvolvimento\n",
        "de competências relativas a programação utilizando codificações na linguagem Python com diferentes\n",
        "níveis de complexidade, seguindo manuais técnicos de boas práticas de programação.\n",
        "'''\n",
        "\n",
        "print( texto.count('e'.isidentifier() ) )"
      ]
    },
    {
      "cell_type": "code",
      "execution_count": null,
      "id": "046956b0-486d-4465-98b8-3462dbb4de07",
      "metadata": {
        "id": "046956b0-486d-4465-98b8-3462dbb4de07"
      },
      "outputs": [],
      "source": []
    },
    {
      "cell_type": "markdown",
      "id": "71ec5d99-8f78-48f9-917b-c28ebfcf682c",
      "metadata": {
        "id": "71ec5d99-8f78-48f9-917b-c28ebfcf682c"
      },
      "source": [
        "---"
      ]
    }
  ],
  "metadata": {
    "kernelspec": {
      "display_name": "Python 3 (ipykernel)",
      "language": "python",
      "name": "python3"
    },
    "language_info": {
      "codemirror_mode": {
        "name": "ipython",
        "version": 3
      },
      "file_extension": ".py",
      "mimetype": "text/x-python",
      "name": "python",
      "nbconvert_exporter": "python",
      "pygments_lexer": "ipython3",
      "version": "3.11.5"
    },
    "colab": {
      "provenance": [],
      "include_colab_link": true
    }
  },
  "nbformat": 4,
  "nbformat_minor": 5
}