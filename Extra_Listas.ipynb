{
  "cells": [
    {
      "cell_type": "markdown",
      "metadata": {
        "id": "view-in-github",
        "colab_type": "text"
      },
      "source": [
        "<a href=\"https://colab.research.google.com/github/jcleachi/devweekgit.github.io/blob/main/Extra_Listas.ipynb\" target=\"_parent\"><img src=\"https://colab.research.google.com/assets/colab-badge.svg\" alt=\"Open In Colab\"/></a>"
      ]
    },
    {
      "cell_type": "markdown",
      "id": "c5d65cfe-531b-4f2a-807a-a628ee653bfa",
      "metadata": {
        "id": "c5d65cfe-531b-4f2a-807a-a628ee653bfa"
      },
      "source": [
        "# <font color='OrangeRed'><center>Extras - Listas</center></font>"
      ]
    },
    {
      "cell_type": "markdown",
      "id": "c86c3e8d-614d-4cd4-b7e4-1dfe9121d796",
      "metadata": {
        "id": "c86c3e8d-614d-4cd4-b7e4-1dfe9121d796"
      },
      "source": [
        "### Exercício 01\n",
        "\n",
        "Faça um programa que peça para o usuário digitar o nome de uma fruta e em seguida substitua o valor 'Melão' da lista **frutas** pelo valor informado pelo usuário. Por fim, imprima a lista de frutas atualizada"
      ]
    },
    {
      "cell_type": "code",
      "execution_count": null,
      "id": "c67cc985-6864-4827-8334-0808fdaf9758",
      "metadata": {
        "tags": [],
        "id": "c67cc985-6864-4827-8334-0808fdaf9758"
      },
      "outputs": [],
      "source": [
        "frutas = ['Maçã', 'Banana', 'Limão', 'Melão', 'Abacaxi']\n",
        "\n"
      ]
    },
    {
      "cell_type": "markdown",
      "id": "6302f3c6-7a6c-498c-83c8-94774a719a82",
      "metadata": {
        "id": "6302f3c6-7a6c-498c-83c8-94774a719a82"
      },
      "source": [
        "---"
      ]
    },
    {
      "cell_type": "markdown",
      "id": "0e7ad5f3-d7ed-461e-9fdf-dcf10f650dab",
      "metadata": {
        "id": "0e7ad5f3-d7ed-461e-9fdf-dcf10f650dab"
      },
      "source": [
        "### Exercício 02\n",
        "\n",
        "Faça um programa que peça um número inteiro ao usuário e em seguida crie a condição abaixo:\n",
        "\n",
        "* Se o número informado for par, então adicione o número no final da lista de números.\n",
        "* Senão não faça nada\n",
        "\n",
        "Por fim, imprima a lista de números atualizada"
      ]
    },
    {
      "cell_type": "code",
      "execution_count": null,
      "id": "69635729-7931-4482-b63a-271aab6e4d8c",
      "metadata": {
        "tags": [],
        "id": "69635729-7931-4482-b63a-271aab6e4d8c"
      },
      "outputs": [],
      "source": [
        "numeros = [2, 4, 6, 8, 10]\n",
        "\n"
      ]
    },
    {
      "cell_type": "markdown",
      "id": "3cea703a-d6bc-4168-a507-eaecae0e7afd",
      "metadata": {
        "id": "3cea703a-d6bc-4168-a507-eaecae0e7afd"
      },
      "source": [
        "---"
      ]
    },
    {
      "cell_type": "markdown",
      "id": "0030f437-33f3-44e4-98b7-2d45867446d9",
      "metadata": {
        "id": "0030f437-33f3-44e4-98b7-2d45867446d9"
      },
      "source": [
        "### Exercício 03\n",
        "\n",
        "Faça um programa que peça um número de 0 a 5 ao usuário, utilize o número informado como índice para retorna o item correspondente da lista. Por fim, imprima o nome da fruta e quantidade de letras que ela possui, exemplo:\n",
        "\n",
        "**Saída:**  \n",
        "_Melão tem 5 letras._"
      ]
    },
    {
      "cell_type": "code",
      "execution_count": null,
      "id": "af683544-8714-4424-aced-278ae1e0a5a1",
      "metadata": {
        "tags": [],
        "id": "af683544-8714-4424-aced-278ae1e0a5a1"
      },
      "outputs": [],
      "source": [
        "frutas = ['Maçã', 'Banana', 'Laranja', 'Melão', 'Abacaxi']\n",
        "\n"
      ]
    },
    {
      "cell_type": "markdown",
      "id": "d00d0fb1-65cf-45e9-865e-1289cc1f2ea7",
      "metadata": {
        "id": "d00d0fb1-65cf-45e9-865e-1289cc1f2ea7"
      },
      "source": [
        "---"
      ]
    },
    {
      "cell_type": "markdown",
      "id": "8f340669-7257-4b24-9302-4d8d24417d6f",
      "metadata": {
        "id": "8f340669-7257-4b24-9302-4d8d24417d6f"
      },
      "source": [
        "### Exercício 04\n",
        "\n",
        "Use um método de lista para ordenar a lista de números e em seguida imprima o menor número da lista."
      ]
    },
    {
      "cell_type": "code",
      "execution_count": null,
      "id": "6bbc7c98-134d-4c6e-b495-bb251fa13d83",
      "metadata": {
        "tags": [],
        "id": "6bbc7c98-134d-4c6e-b495-bb251fa13d83"
      },
      "outputs": [],
      "source": [
        "numeros = [262, 847, 193, 489, 120, 755, 651, 524, 626, 268]\n",
        "\n"
      ]
    },
    {
      "cell_type": "markdown",
      "id": "beb7ba22-1746-4bb3-a022-1cccb13bdf53",
      "metadata": {
        "id": "beb7ba22-1746-4bb3-a022-1cccb13bdf53"
      },
      "source": [
        "---"
      ]
    },
    {
      "cell_type": "markdown",
      "id": "513fff57-21cd-4916-ab54-013624d15695",
      "metadata": {
        "id": "513fff57-21cd-4916-ab54-013624d15695"
      },
      "source": [
        "### Exercício 05\n",
        "\n",
        "Faça um programa que peça ao usuário que digite um número de 0 a 6, o número informado será utilizado como índice para retorna um item correspondente da lista, porém caso o usuário informe um valor diferente do esperado você deve imprimir uma mensagem para ele, sendo:\n",
        "\n",
        "* Se o usuário digitar um número de 0 a 6 retorne o item correspondente da lista\n",
        "* Senão imprima a frase 'Índice inválido'"
      ]
    },
    {
      "cell_type": "code",
      "execution_count": null,
      "id": "8992186b-f30a-4930-8beb-821ce25c6878",
      "metadata": {
        "id": "8992186b-f30a-4930-8beb-821ce25c6878"
      },
      "outputs": [],
      "source": [
        "numeros = [0, 1, 2, 3, 4, 5, 6]\n",
        "\n"
      ]
    },
    {
      "cell_type": "markdown",
      "id": "a0a9894b-31b3-4697-befe-bc4661e3ea76",
      "metadata": {
        "id": "a0a9894b-31b3-4697-befe-bc4661e3ea76"
      },
      "source": [
        "---"
      ]
    },
    {
      "cell_type": "markdown",
      "id": "a425f636-7c62-416a-a5db-563ce63c7a0c",
      "metadata": {
        "id": "a425f636-7c62-416a-a5db-563ce63c7a0c"
      },
      "source": [
        "### Exercício 06\n",
        "\n",
        "Faça um programa que peça ao usuário que digite o nome de uma fruta e em seguida adicione o nome da fruta informado no final da lista."
      ]
    },
    {
      "cell_type": "code",
      "execution_count": null,
      "id": "1c257b17-8200-4781-b0c7-dad9d61209a9",
      "metadata": {
        "id": "1c257b17-8200-4781-b0c7-dad9d61209a9"
      },
      "outputs": [],
      "source": [
        "frutas = ['Maçã', 'Banana', 'Jaca', 'Melão', 'Abacaxi']\n",
        "\n"
      ]
    },
    {
      "cell_type": "markdown",
      "id": "795e348e-fb2c-481c-b8e2-79aee3e8b4d3",
      "metadata": {
        "id": "795e348e-fb2c-481c-b8e2-79aee3e8b4d3"
      },
      "source": [
        "---"
      ]
    },
    {
      "cell_type": "markdown",
      "id": "0a65b0cb-3d5f-4213-b192-a174304d3502",
      "metadata": {
        "id": "0a65b0cb-3d5f-4213-b192-a174304d3502"
      },
      "source": [
        "### Exercício 07\n",
        "\n",
        "Use um método de lista para somar todos as notas da lista abaixo e em seguida retorne a média das 4 notas"
      ]
    },
    {
      "cell_type": "code",
      "execution_count": null,
      "id": "c6683196-5973-4512-bde3-0e0faa057c86",
      "metadata": {
        "id": "c6683196-5973-4512-bde3-0e0faa057c86"
      },
      "outputs": [],
      "source": [
        "notas = [9, 6, 5, 8]\n",
        "\n"
      ]
    },
    {
      "cell_type": "markdown",
      "id": "b36e74d7-de76-4a3b-a631-499a32d52927",
      "metadata": {
        "id": "b36e74d7-de76-4a3b-a631-499a32d52927"
      },
      "source": [
        "---"
      ]
    },
    {
      "cell_type": "markdown",
      "id": "1a972277-2bb1-4d61-a05e-ee95d6724872",
      "metadata": {
        "id": "1a972277-2bb1-4d61-a05e-ee95d6724872"
      },
      "source": [
        "### Exercício 08\n",
        "\n",
        "Faça um programa que peça para o usuário digitar um número inteiro de 0 a 9 e em seguida use um método de lista para contar quantas vezes o número informado aparece na lista de números"
      ]
    },
    {
      "cell_type": "code",
      "execution_count": null,
      "id": "a5b64bc6-5fd8-4750-b861-65ace45c97a7",
      "metadata": {
        "tags": [],
        "id": "a5b64bc6-5fd8-4750-b861-65ace45c97a7"
      },
      "outputs": [],
      "source": [
        "numeros = [2, 5, 1, 5, 8, 0, 3, 5, 4, 0, 6, 8, 5, 0, 3, 3, 6, 6, 0, 1, 0, 0, 9, 7, 5, 0, 2, 0]\n",
        "\n",
        "\n"
      ]
    },
    {
      "cell_type": "markdown",
      "id": "83c47bb6-540c-4454-88ce-3a02bf6f5ce3",
      "metadata": {
        "id": "83c47bb6-540c-4454-88ce-3a02bf6f5ce3"
      },
      "source": [
        "---"
      ]
    },
    {
      "cell_type": "markdown",
      "id": "dfe6910e-dde3-4fe1-8aba-62dd99afc8ca",
      "metadata": {
        "id": "dfe6910e-dde3-4fe1-8aba-62dd99afc8ca"
      },
      "source": [
        "### Exercício 09\n",
        "\n",
        "Faça um programa que peça um valor ao usuário e em seguida crie a condição abaixo:\n",
        "\n",
        "* Se o valor informado não existir na lista **valores**, então insira o valor lista\n",
        "* Se o valor informado existir na lista **valores**, então exclua o valor lista\n",
        "\n",
        "Por fim, imprima a lista **valores** atualizada"
      ]
    },
    {
      "cell_type": "code",
      "execution_count": null,
      "id": "76b34781-fade-408e-881f-801d30899983",
      "metadata": {
        "tags": [],
        "id": "76b34781-fade-408e-881f-801d30899983"
      },
      "outputs": [],
      "source": [
        "valores = ['1', '2', '3', '4', '5', 'a', 'e', 'i', 'o', 'u']\n",
        "\n",
        "\n"
      ]
    },
    {
      "cell_type": "markdown",
      "id": "2db87183-9c4c-4eeb-8783-dc39e74e8c06",
      "metadata": {
        "id": "2db87183-9c4c-4eeb-8783-dc39e74e8c06"
      },
      "source": [
        "---"
      ]
    },
    {
      "cell_type": "markdown",
      "id": "2ed29dfa-e625-4c63-8909-88849e6be1cf",
      "metadata": {
        "id": "2ed29dfa-e625-4c63-8909-88849e6be1cf"
      },
      "source": [
        "### Exercício 10\n",
        "\n",
        "Crie uma lista vazia chamada **notas** e faça um programa que peça duas notas ao usuário, em seguida adicione os valores informados dentro da lista, após isso some as duas notas e calcule a média, por fim imprima a média final do aluno"
      ]
    },
    {
      "cell_type": "code",
      "execution_count": null,
      "id": "86b0cc93-0eeb-4134-8a54-e2aaec2defa2",
      "metadata": {
        "tags": [],
        "id": "86b0cc93-0eeb-4134-8a54-e2aaec2defa2"
      },
      "outputs": [],
      "source": [
        "\n",
        "\n"
      ]
    },
    {
      "cell_type": "markdown",
      "id": "fb11171a-e2e6-4175-8f7a-207d5371c052",
      "metadata": {
        "id": "fb11171a-e2e6-4175-8f7a-207d5371c052"
      },
      "source": [
        "---"
      ]
    },
    {
      "cell_type": "markdown",
      "id": "56d8c26b-0faf-4b1d-84b8-818dbedfc773",
      "metadata": {
        "id": "56d8c26b-0faf-4b1d-84b8-818dbedfc773"
      },
      "source": [
        "### Exercício 11\n",
        "\n",
        "Use métodos de lista para ordenar a lista de números em ordem decrescente, ou seja, do 9 ao 0."
      ]
    },
    {
      "cell_type": "code",
      "execution_count": null,
      "id": "20d24d3f-7d1f-4bd6-9660-54cf130763dd",
      "metadata": {
        "tags": [],
        "id": "20d24d3f-7d1f-4bd6-9660-54cf130763dd"
      },
      "outputs": [],
      "source": [
        "numeros = [2, 7, 3, 9, 0, 5, 1, 4, 6, 8]\n",
        "\n"
      ]
    },
    {
      "cell_type": "markdown",
      "id": "8304f206-f0c5-49f8-87cc-edb4c17ebeaf",
      "metadata": {
        "id": "8304f206-f0c5-49f8-87cc-edb4c17ebeaf"
      },
      "source": [
        "---"
      ]
    }
  ],
  "metadata": {
    "kernelspec": {
      "display_name": "Python 3 (ipykernel)",
      "language": "python",
      "name": "python3"
    },
    "language_info": {
      "codemirror_mode": {
        "name": "ipython",
        "version": 3
      },
      "file_extension": ".py",
      "mimetype": "text/x-python",
      "name": "python",
      "nbconvert_exporter": "python",
      "pygments_lexer": "ipython3",
      "version": "3.11.5"
    },
    "colab": {
      "provenance": [],
      "include_colab_link": true
    }
  },
  "nbformat": 4,
  "nbformat_minor": 5
}