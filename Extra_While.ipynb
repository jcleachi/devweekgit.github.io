{
  "cells": [
    {
      "cell_type": "markdown",
      "metadata": {
        "id": "view-in-github",
        "colab_type": "text"
      },
      "source": [
        "<a href=\"https://colab.research.google.com/github/jcleachi/devweekgit.github.io/blob/main/Extra_While.ipynb\" target=\"_parent\"><img src=\"https://colab.research.google.com/assets/colab-badge.svg\" alt=\"Open In Colab\"/></a>"
      ]
    },
    {
      "cell_type": "markdown",
      "id": "a55a1c33-9a5a-4214-b4fb-567fc561fa60",
      "metadata": {
        "id": "a55a1c33-9a5a-4214-b4fb-567fc561fa60"
      },
      "source": [
        "# <font color='OrangeRed'><center>Extra - While</center></font>"
      ]
    },
    {
      "cell_type": "markdown",
      "id": "84a27008-ae35-4375-b12b-833c5d905522",
      "metadata": {
        "id": "84a27008-ae35-4375-b12b-833c5d905522"
      },
      "source": [
        "### Exercício 01\n",
        "\n",
        "Crie um programa que peça ao usuário digitar um número inteiro, em seguida retorne a tabuada do 1 ao 10 do número informado utilizando uma estrutura de repetição while.\n",
        "\n",
        "**Dica:**  \n",
        "_Utilize um contador_"
      ]
    },
    {
      "cell_type": "code",
      "execution_count": null,
      "id": "1bf217d2-c16c-466a-90a3-822e9c82ffe1",
      "metadata": {
        "id": "1bf217d2-c16c-466a-90a3-822e9c82ffe1"
      },
      "outputs": [],
      "source": [
        "\n",
        "\n"
      ]
    },
    {
      "cell_type": "markdown",
      "id": "0385320f-20a5-48d1-93b7-cfa478b7f147",
      "metadata": {
        "id": "0385320f-20a5-48d1-93b7-cfa478b7f147"
      },
      "source": [
        "---"
      ]
    },
    {
      "cell_type": "markdown",
      "id": "2d2a0c50-8748-486c-b7da-11e2690528d1",
      "metadata": {
        "id": "2d2a0c50-8748-486c-b7da-11e2690528d1"
      },
      "source": [
        "### Exercício 02\n",
        "\n",
        "Utilizando uma estrutura de repetição while, crie um programa que peça ao usuário digitar um número inteiro, em seguida retorne os 5 números antecessores a ele.  \n",
        "\n",
        "Por Exemplo: Se o usuário digitar o número 10 imprima os números de 9 a 5.\n",
        "\n",
        "**Dica:**  \n",
        "_Utilize um contador_"
      ]
    },
    {
      "cell_type": "code",
      "execution_count": null,
      "id": "127ac976-f688-47a1-b305-1923d2f22377",
      "metadata": {
        "id": "127ac976-f688-47a1-b305-1923d2f22377"
      },
      "outputs": [],
      "source": [
        "\n",
        "\n"
      ]
    },
    {
      "cell_type": "markdown",
      "id": "90a9f8fe-7b43-4a9b-bb04-cbcdf8c0054c",
      "metadata": {
        "id": "90a9f8fe-7b43-4a9b-bb04-cbcdf8c0054c"
      },
      "source": [
        "---"
      ]
    },
    {
      "cell_type": "markdown",
      "id": "d6c0ae6d-9b27-4b8f-8b52-bb01fa70bd04",
      "metadata": {
        "id": "d6c0ae6d-9b27-4b8f-8b52-bb01fa70bd04"
      },
      "source": [
        "### Exercício 03\n",
        "\n",
        "Crie uma variável com o valor 0 e faça um loop while pedindo para o usuário inserir um número inteiro e enquanto o usuário inserir um valor **menor ou igual a zero** continue executando o código.\n",
        "\n",
        "Por fim, **some APENAS os números negativos inseridos pelo usuário enquanto o loop estava sendo executado** e imprima o resultado."
      ]
    },
    {
      "cell_type": "code",
      "execution_count": null,
      "id": "787564fc-b6f5-408b-a6ed-f8291050f916",
      "metadata": {
        "id": "787564fc-b6f5-408b-a6ed-f8291050f916"
      },
      "outputs": [],
      "source": [
        "\n",
        "\n"
      ]
    },
    {
      "cell_type": "markdown",
      "id": "fac0ff8a-d257-46ff-9ff7-0704b874c508",
      "metadata": {
        "id": "fac0ff8a-d257-46ff-9ff7-0704b874c508"
      },
      "source": [
        "---"
      ]
    },
    {
      "cell_type": "markdown",
      "id": "37f4fe1b-0011-4a97-b898-a8e6281426d6",
      "metadata": {
        "id": "37f4fe1b-0011-4a97-b898-a8e6281426d6"
      },
      "source": [
        "### Exercício 04\n",
        "\n",
        "Crie uma variável com uma lista vazia [] e um variável com valor 0, em seguida crie um loop while pedindo para o usuário inserir um número inteiro e enquanto o usuário inserir um valor **maior ou igual a zero** continue executando o código.\n",
        "\n",
        "A cada execução do loop adicione o número informado dentro da lista criada, desde que o número seja maior ou igual a zero. Por sim, some todos os valores da lista e divida essa soma pela quantidade de itens da lista para obter a média."
      ]
    },
    {
      "cell_type": "code",
      "execution_count": null,
      "id": "f657081a-5e53-440a-8ceb-77067778e656",
      "metadata": {
        "id": "f657081a-5e53-440a-8ceb-77067778e656"
      },
      "outputs": [],
      "source": [
        "\n",
        "\n"
      ]
    },
    {
      "cell_type": "markdown",
      "id": "544d113b-260c-49ec-99ca-135e9d090fb9",
      "metadata": {
        "id": "544d113b-260c-49ec-99ca-135e9d090fb9"
      },
      "source": [
        "---"
      ]
    },
    {
      "cell_type": "markdown",
      "id": "b678e100-62da-4ea9-a534-f7d54acb2f39",
      "metadata": {
        "id": "b678e100-62da-4ea9-a534-f7d54acb2f39"
      },
      "source": [
        "### Exercício 05\n",
        "\n",
        "Crie um programa que peça para o usuário digitar dois números inteiros, o 1º sendo um número de início e o 2º um número de final.\n",
        "\n",
        "Em seguida crie um loop while onde **enquanto o número de início não for maior que o número final** continue executando o laço. Para cada iteração do laço adicione +1 a variável de início."
      ]
    },
    {
      "cell_type": "code",
      "execution_count": null,
      "id": "3d91e30f-f1e5-4ece-bd92-6d886b9ff9ae",
      "metadata": {
        "tags": [],
        "id": "3d91e30f-f1e5-4ece-bd92-6d886b9ff9ae"
      },
      "outputs": [],
      "source": [
        "\n",
        "\n"
      ]
    },
    {
      "cell_type": "markdown",
      "id": "e4b7e8e0-4be0-478b-ad53-d241b615f273",
      "metadata": {
        "id": "e4b7e8e0-4be0-478b-ad53-d241b615f273"
      },
      "source": [
        "---"
      ]
    },
    {
      "cell_type": "markdown",
      "id": "d0e832cd-c620-441d-ac6c-b9c9c5916423",
      "metadata": {
        "id": "d0e832cd-c620-441d-ac6c-b9c9c5916423"
      },
      "source": [
        "### Exercício 06\n",
        "\n",
        "Faça um algoritmo para contalizar os gastos do usuário, para isso crie uma variável **total** com o valor igual a 0 e em seguida crie um laço while com o valor igual a True, exemplo:\n",
        "\n",
        "```python\n",
        "while True:\n",
        "```\n",
        "\n",
        "Dentro do laço peça para o usuário digitar um **código** entre 0 a 4, em seguida crie a condição abaixo:\n",
        "\n",
        "| Código | Preço |\n",
        "|:------:|:----:|\n",
        "| 0 | Break - Sair do loop |\n",
        "| 1 | 15.00 |\n",
        "| 2 | 30.00 |\n",
        "| 3 | 45.00 |\n",
        "| 4 | 60.00 |\n",
        "\n",
        "Cada vez que o usuário digitar um código entre 1 a 4 adicione o valor do **preço** a variável **total**\n",
        "\n",
        "Por fim, imprima o valor da variável **total**"
      ]
    },
    {
      "cell_type": "code",
      "execution_count": null,
      "id": "1ebed1d4-1e67-4e1b-a51f-cb0875bbab26",
      "metadata": {
        "tags": [],
        "id": "1ebed1d4-1e67-4e1b-a51f-cb0875bbab26"
      },
      "outputs": [],
      "source": [
        "\n",
        "\n"
      ]
    },
    {
      "cell_type": "markdown",
      "id": "371bc838-8412-44c5-9d35-8ec41d471f3b",
      "metadata": {
        "id": "371bc838-8412-44c5-9d35-8ec41d471f3b"
      },
      "source": [
        "---"
      ]
    },
    {
      "cell_type": "markdown",
      "id": "7f133414-3c1a-40ac-99b0-3d4071d9be90",
      "metadata": {
        "id": "7f133414-3c1a-40ac-99b0-3d4071d9be90"
      },
      "source": [
        "### Exercício 07\n",
        "\n",
        "Faça um algoritmo para validação de senha, para isso crie uma variável **contagem** com o valor igual a 0 e em seguida crie um laço while com o valor igual a True, exemplo:\n",
        "\n",
        "```python\n",
        "while True:\n",
        "```\n",
        "\n",
        "Dentro do laço peça para o usuário digitar uma **senha**, em seguida crie a condição abaixo:\n",
        "\n",
        "* Se o usuário digitar a senha '123456', então retorne 'Senha correta' e saia do laço (Break)\n",
        "* Se o usuário digitar uma senha incorreta, então retorne 'Senha incorreta' e some +1 a variável **contagem**\n",
        "\n",
        "Mais abaixo, ainda dentro do loop, crie está outra condição:\n",
        "\n",
        "* Se a variável contagem chegar ao valor igual a 3, então retorne 'Conta bloqueada' e saia do laço (Break)"
      ]
    },
    {
      "cell_type": "code",
      "execution_count": null,
      "id": "74bf7ad0-79cd-40db-b327-b617162c6346",
      "metadata": {
        "tags": [],
        "id": "74bf7ad0-79cd-40db-b327-b617162c6346"
      },
      "outputs": [],
      "source": [
        "\n",
        "\n"
      ]
    },
    {
      "cell_type": "markdown",
      "id": "be8fa7aa-38f7-4b5a-b24f-39799b291e0c",
      "metadata": {
        "id": "be8fa7aa-38f7-4b5a-b24f-39799b291e0c"
      },
      "source": [
        "---"
      ]
    },
    {
      "cell_type": "markdown",
      "id": "35a1db48-5c40-4c69-b2aa-3f26fee898f8",
      "metadata": {
        "id": "35a1db48-5c40-4c69-b2aa-3f26fee898f8"
      },
      "source": [
        "### Exercício 08\n",
        "\n",
        "Faça um algoritmo para cadastro de alunos, para isso crie uma lista vazia com o nome de  **alunos** e em seguida crie um laço while com o valor igual a True, exemplo:\n",
        "\n",
        "```python\n",
        "while True:\n",
        "```\n",
        "\n",
        "Dentro do laço peça para o usuário digitar o nome de um **aluno** e adicione o nome informado na lista.\n",
        "\n",
        "Em seguida pergunte para o usuário se ele deseja inscrever mais alunos, **SE** o usuário digitar que 'NÃO', então saia do laço (Break), senão continue executando.\n",
        "\n",
        "Por fim, imprima a lista de **alunos**"
      ]
    },
    {
      "cell_type": "code",
      "execution_count": null,
      "id": "ab638704-ed4f-41eb-a049-89326b058c49",
      "metadata": {
        "tags": [],
        "id": "ab638704-ed4f-41eb-a049-89326b058c49"
      },
      "outputs": [],
      "source": [
        "\n",
        "\n"
      ]
    },
    {
      "cell_type": "markdown",
      "id": "0f87fd09-be32-4090-8c17-bbaceb9221e6",
      "metadata": {
        "id": "0f87fd09-be32-4090-8c17-bbaceb9221e6"
      },
      "source": [
        "---"
      ]
    },
    {
      "cell_type": "markdown",
      "id": "a1aae6a5-218c-4d09-a739-ffef80ed0dac",
      "metadata": {
        "tags": [],
        "id": "a1aae6a5-218c-4d09-a739-ffef80ed0dac"
      },
      "source": [
        "### Exercício 09\n",
        "\n",
        "Faça um algoritmo de votação, para isso crie 4 variáveis, sendo **candidato1**, **candidato2**, **branco**, **nulo**, atribua o valor 0 a elas e em seguida crie um laço while com o valor igual a True, exemplo:\n",
        "\n",
        "```python\n",
        "while True:\n",
        "```\n",
        "\n",
        "Dentro do laço peça para o usuário digitar um **código** entre 0 a 4, em seguida crie a condição abaixo:\n",
        "\n",
        "| Código | Ação |\n",
        "|:------:|:----:|\n",
        "| 0 | Break - Sair do loop |\n",
        "| 1 | Candidato 1 |\n",
        "| 2 | Candidato 2 |\n",
        "| 3 | Voto em Branco |\n",
        "| 4 | Voto nulo |\n",
        "\n",
        "Cada vez que o usuário digitar um código entre 1 a 4 adicione +1 a variável correspondente.\n",
        "\n",
        "Por fim, imprima o resultado da votação:\n",
        "\n",
        "**Exemplo:**  \n",
        "_Candidato 1: 15_  \n",
        "_Candidato 2: 12_  \n",
        "_Voto em Branco: 3_  \n",
        "_Voto nulo: 5_  "
      ]
    },
    {
      "cell_type": "code",
      "execution_count": null,
      "id": "d63abd13-0356-4bc7-a9e5-0a276ff73a31",
      "metadata": {
        "tags": [],
        "id": "d63abd13-0356-4bc7-a9e5-0a276ff73a31"
      },
      "outputs": [],
      "source": [
        "\n",
        "\n"
      ]
    },
    {
      "cell_type": "markdown",
      "id": "0d602069-73de-4bd8-8777-4ede93e54f55",
      "metadata": {
        "id": "0d602069-73de-4bd8-8777-4ede93e54f55"
      },
      "source": [
        "---"
      ]
    },
    {
      "cell_type": "markdown",
      "id": "2f169cc1-378f-480b-8977-613aa702ebd8",
      "metadata": {
        "id": "2f169cc1-378f-480b-8977-613aa702ebd8"
      },
      "source": [
        "### Exercício 10\n",
        "\n",
        "Crie um laço while com o valor igual a True, exemplo:\n",
        "\n",
        "```python\n",
        "while True:\n",
        "```\n",
        "\n",
        "Dentro do laço peça para o usuário digitar uma **palavra**, se a palavra digitada estiver na lista de **palavras**, então saia do laço (Break)"
      ]
    },
    {
      "cell_type": "code",
      "execution_count": null,
      "id": "bbbfbfb9-8866-4991-83ed-3d88ff0a8b63",
      "metadata": {
        "tags": [],
        "id": "bbbfbfb9-8866-4991-83ed-3d88ff0a8b63"
      },
      "outputs": [],
      "source": [
        "palavras = ['casa','bola','mangueira','uva','quiabo','computador','cobra','lentilha','arroz']\n",
        "\n"
      ]
    },
    {
      "cell_type": "markdown",
      "id": "980f2154-9f11-499c-bd6b-7539050312d7",
      "metadata": {
        "id": "980f2154-9f11-499c-bd6b-7539050312d7"
      },
      "source": [
        "---"
      ]
    },
    {
      "cell_type": "markdown",
      "id": "90555244-3a08-498a-b35b-89999bba8b0f",
      "metadata": {
        "id": "90555244-3a08-498a-b35b-89999bba8b0f"
      },
      "source": [
        "### Exercício 11\n",
        "\n",
        "Crie a variável **soma** com o valor igual a 0 e em seguida crie um laço while com o valor igual a True, exemplo:\n",
        "\n",
        "```python\n",
        "while True:\n",
        "```\n",
        "\n",
        "Dentro do laço peça para o usuário digitar um número inteiro e em seguida crie as condições abaixo:\n",
        "\n",
        "* Se o número digitado for negativo, então saia do laço (Break)\n",
        "\n",
        "Mais abaixo, ainda dentro do loop, crie está outra condição:\n",
        "\n",
        "* Se o número digitado for par, então some o valor do número com variável **soma**\n",
        "\n",
        "Por fim, imprima o valor da variável **soma**."
      ]
    },
    {
      "cell_type": "code",
      "execution_count": null,
      "id": "300438e3-cbd6-462b-bd3f-048789112a8a",
      "metadata": {
        "tags": [],
        "id": "300438e3-cbd6-462b-bd3f-048789112a8a"
      },
      "outputs": [],
      "source": [
        "\n",
        "\n"
      ]
    },
    {
      "cell_type": "markdown",
      "id": "cb0d1e6a-e50e-48af-b200-3fde9a8c3c8c",
      "metadata": {
        "id": "cb0d1e6a-e50e-48af-b200-3fde9a8c3c8c"
      },
      "source": [
        "---"
      ]
    },
    {
      "cell_type": "markdown",
      "id": "b178cc88-ecb3-48b5-81a1-43fb86bb2eb8",
      "metadata": {
        "id": "b178cc88-ecb3-48b5-81a1-43fb86bb2eb8"
      },
      "source": [
        "### Exercício 12\n",
        "\n",
        "Crie uma lista vazia e em seguida crie um laço while com o valor igual a True, exemplo:\n",
        "\n",
        "```python\n",
        "while True:\n",
        "```\n",
        "\n",
        "Dentro do laço peça para o usuário digitar um número inteiro e em seguida crie as condições abaixo:\n",
        "\n",
        "* Se o tamanho da lista criada for igual a 5 itens, então saia do laço (Break)\n",
        "\n",
        "Mais abaixo, ainda dentro do loop, crie está outra condição:\n",
        "\n",
        "* Se o número digitado ainda não estiver na lista, então adicione o número na lista.\n",
        "\n",
        "Por fim, imprima a lista de números criada."
      ]
    },
    {
      "cell_type": "code",
      "execution_count": null,
      "id": "673a6dec-3f08-4f8a-b601-efc18c871b72",
      "metadata": {
        "id": "673a6dec-3f08-4f8a-b601-efc18c871b72"
      },
      "outputs": [],
      "source": [
        "\n",
        "\n"
      ]
    },
    {
      "cell_type": "markdown",
      "id": "dc4cff3f-5116-4dda-9ea5-58a3b06b4db0",
      "metadata": {
        "id": "dc4cff3f-5116-4dda-9ea5-58a3b06b4db0"
      },
      "source": [
        "---"
      ]
    }
  ],
  "metadata": {
    "kernelspec": {
      "display_name": "Python 3 (ipykernel)",
      "language": "python",
      "name": "python3"
    },
    "language_info": {
      "codemirror_mode": {
        "name": "ipython",
        "version": 3
      },
      "file_extension": ".py",
      "mimetype": "text/x-python",
      "name": "python",
      "nbconvert_exporter": "python",
      "pygments_lexer": "ipython3",
      "version": "3.11.5"
    },
    "colab": {
      "provenance": [],
      "include_colab_link": true
    }
  },
  "nbformat": 4,
  "nbformat_minor": 5
}